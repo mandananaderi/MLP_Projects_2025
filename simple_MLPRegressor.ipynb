{
  "nbformat": 4,
  "nbformat_minor": 0,
  "metadata": {
    "colab": {
      "provenance": [],
      "authorship_tag": "ABX9TyOorSCnUHu2VdFnXxLStxuH",
      "include_colab_link": true
    },
    "kernelspec": {
      "name": "python3",
      "display_name": "Python 3"
    },
    "language_info": {
      "name": "python"
    }
  },
  "cells": [
    {
      "cell_type": "markdown",
      "metadata": {
        "id": "view-in-github",
        "colab_type": "text"
      },
      "source": [
        "<a href=\"https://colab.research.google.com/github/mandananaderi/MLP_Projects_2025/blob/main/simple_MLPRegressor.ipynb\" target=\"_parent\"><img src=\"https://colab.research.google.com/assets/colab-badge.svg\" alt=\"Open In Colab\"/></a>"
      ]
    },
    {
      "cell_type": "markdown",
      "source": [
        "# Initialization"
      ],
      "metadata": {
        "id": "1Lo6Q_YDwkOj"
      }
    },
    {
      "cell_type": "code",
      "execution_count": 1,
      "metadata": {
        "id": "Omp3gZ1YT3Z7"
      },
      "outputs": [],
      "source": [
        "import numpy as np\n",
        "from sklearn.model_selection import train_test_split\n",
        "import matplotlib.pyplot as plt\n",
        "from sklearn.preprocessing import StandardScaler, MinMaxScaler\n",
        "from sklearn.neural_network import MLPRegressor"
      ]
    },
    {
      "cell_type": "markdown",
      "source": [
        "# Data Generation"
      ],
      "metadata": {
        "id": "BughgalVwuGp"
      }
    },
    {
      "cell_type": "code",
      "source": [
        "np.random.seed(2)\n",
        "N = 1000\n",
        "X = np.random.randn(N, 1)\n",
        "y = X + X**2 + 2*X**3 - 0.5*X**4 + 0.5*np.random.randn(N, 1)\n",
        "X = np.hstack((X, X**2, X**3, X*4))\n",
        "X_train, X_test, y_train, y_test = train_test_split(X, y, test_size = 0.3)\n",
        "scaler_x, scaler_y = MinMaxScaler().fit(X_train), MinMaxScaler().fit(y_train)\n",
        "X_train, X_test = 2 * scaler_x.transform(X_train) - 1, 2 * scaler_x.transform(X_test) - 1\n",
        "y_train, y_test = 2 * scaler_y.transform(y_train) - 1, 2 * scaler_y.transform(y_test) - 1"
      ],
      "metadata": {
        "id": "SrNvfn48w0f5"
      },
      "execution_count": 2,
      "outputs": []
    }
  ]
}