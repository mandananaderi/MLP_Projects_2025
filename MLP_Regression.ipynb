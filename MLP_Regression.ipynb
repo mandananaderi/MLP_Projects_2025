{
  "nbformat": 4,
  "nbformat_minor": 0,
  "metadata": {
    "colab": {
      "provenance": [],
      "authorship_tag": "ABX9TyPQK+Kg9LkmwDMlLXl1U1HA",
      "include_colab_link": true
    },
    "kernelspec": {
      "name": "python3",
      "display_name": "Python 3"
    },
    "language_info": {
      "name": "python"
    }
  },
  "cells": [
    {
      "cell_type": "markdown",
      "metadata": {
        "id": "view-in-github",
        "colab_type": "text"
      },
      "source": [
        "<a href=\"https://colab.research.google.com/github/mandananaderi/MLP_Projects_2025/blob/main/MLP_Regression.ipynb\" target=\"_parent\"><img src=\"https://colab.research.google.com/assets/colab-badge.svg\" alt=\"Open In Colab\"/></a>"
      ]
    },
    {
      "cell_type": "code",
      "execution_count": 31,
      "metadata": {
        "id": "ia8sdCzs2jwH"
      },
      "outputs": [],
      "source": [
        "import tensorflow as tf\n",
        "import keras\n",
        "import numpy as np\n",
        "import matplotlib.pyplot as plt\n",
        "from sklearn.model_selection import train_test_split\n",
        "from sklearn.preprocessing import StandardScaler\n",
        "from sklearn.metrics import mean_absolute_error, mean_squared_error\n",
        "from sklearn.datasets import fetch_california_housing"
      ]
    },
    {
      "cell_type": "code",
      "source": [
        "california_housing = fetch_california_housing()\n",
        "print(california_housing)"
      ],
      "metadata": {
        "colab": {
          "base_uri": "https://localhost:8080/"
        },
        "collapsed": true,
        "id": "7If3UbUiLInY",
        "outputId": "57e393b9-99bf-440d-ee40-47aa453c1e7d"
      },
      "execution_count": 32,
      "outputs": [
        {
          "output_type": "stream",
          "name": "stdout",
          "text": [
            "{'data': array([[   8.3252    ,   41.        ,    6.98412698, ...,    2.55555556,\n",
            "          37.88      , -122.23      ],\n",
            "       [   8.3014    ,   21.        ,    6.23813708, ...,    2.10984183,\n",
            "          37.86      , -122.22      ],\n",
            "       [   7.2574    ,   52.        ,    8.28813559, ...,    2.80225989,\n",
            "          37.85      , -122.24      ],\n",
            "       ...,\n",
            "       [   1.7       ,   17.        ,    5.20554273, ...,    2.3256351 ,\n",
            "          39.43      , -121.22      ],\n",
            "       [   1.8672    ,   18.        ,    5.32951289, ...,    2.12320917,\n",
            "          39.43      , -121.32      ],\n",
            "       [   2.3886    ,   16.        ,    5.25471698, ...,    2.61698113,\n",
            "          39.37      , -121.24      ]]), 'target': array([4.526, 3.585, 3.521, ..., 0.923, 0.847, 0.894]), 'frame': None, 'target_names': ['MedHouseVal'], 'feature_names': ['MedInc', 'HouseAge', 'AveRooms', 'AveBedrms', 'Population', 'AveOccup', 'Latitude', 'Longitude'], 'DESCR': '.. _california_housing_dataset:\\n\\nCalifornia Housing dataset\\n--------------------------\\n\\n**Data Set Characteristics:**\\n\\n:Number of Instances: 20640\\n\\n:Number of Attributes: 8 numeric, predictive attributes and the target\\n\\n:Attribute Information:\\n    - MedInc        median income in block group\\n    - HouseAge      median house age in block group\\n    - AveRooms      average number of rooms per household\\n    - AveBedrms     average number of bedrooms per household\\n    - Population    block group population\\n    - AveOccup      average number of household members\\n    - Latitude      block group latitude\\n    - Longitude     block group longitude\\n\\n:Missing Attribute Values: None\\n\\nThis dataset was obtained from the StatLib repository.\\nhttps://www.dcc.fc.up.pt/~ltorgo/Regression/cal_housing.html\\n\\nThe target variable is the median house value for California districts,\\nexpressed in hundreds of thousands of dollars ($100,000).\\n\\nThis dataset was derived from the 1990 U.S. census, using one row per census\\nblock group. A block group is the smallest geographical unit for which the U.S.\\nCensus Bureau publishes sample data (a block group typically has a population\\nof 600 to 3,000 people).\\n\\nA household is a group of people residing within a home. Since the average\\nnumber of rooms and bedrooms in this dataset are provided per household, these\\ncolumns may take surprisingly large values for block groups with few households\\nand many empty houses, such as vacation resorts.\\n\\nIt can be downloaded/loaded using the\\n:func:`sklearn.datasets.fetch_california_housing` function.\\n\\n.. rubric:: References\\n\\n- Pace, R. Kelley and Ronald Barry, Sparse Spatial Autoregressions,\\n  Statistics and Probability Letters, 33 (1997) 291-297\\n'}\n"
          ]
        }
      ]
    },
    {
      "cell_type": "code",
      "source": [
        "X_train0, X_test, y_train0, y_test = train_test_split(california_housing['data'], california_housing['target'])"
      ],
      "metadata": {
        "id": "xDgFaM2oLIdn"
      },
      "execution_count": 33,
      "outputs": []
    },
    {
      "cell_type": "code",
      "source": [
        "X_train1, X_validation, y_train1, y_validation = train_test_split(X_train0, y_train0)"
      ],
      "metadata": {
        "id": "ByO0bgAgLIQN"
      },
      "execution_count": 34,
      "outputs": []
    },
    {
      "cell_type": "code",
      "source": [
        "sc = StandardScaler()\n",
        "X_train_s = sc.fit_transform(X_train1)\n",
        "X_validation_s = sc.transform(X_validation)\n",
        "X_test_s = sc.transform(X_test)"
      ],
      "metadata": {
        "id": "hW6IVegNLH0G"
      },
      "execution_count": 35,
      "outputs": []
    },
    {
      "cell_type": "code",
      "source": [
        "model = keras.models.Sequential([\n",
        "    keras.layers.Dense(50, activation='relu'),\n",
        "    keras.layers.Dense(10, activation='relu'),\n",
        "    keras.layers.Dense(1,)\n",
        "])"
      ],
      "metadata": {
        "id": "ys1ecD1TRtov"
      },
      "execution_count": 36,
      "outputs": []
    },
    {
      "cell_type": "code",
      "source": [
        "model.compile(optimizer='sgd',\n",
        "              loss='mse',\n",
        "              metrics=['mean_absolute_error'])"
      ],
      "metadata": {
        "id": "JfmZk9JFRtkH"
      },
      "execution_count": 37,
      "outputs": []
    },
    {
      "cell_type": "code",
      "source": [
        "model.fit(X_train_s, y_train1, epochs=30,\n",
        "          validation_data=[X_validation_s, y_validation])"
      ],
      "metadata": {
        "colab": {
          "base_uri": "https://localhost:8080/"
        },
        "id": "77kbF7aHRtIi",
        "outputId": "e49bf11c-a97b-47fe-b73d-8c77261bcb9b"
      },
      "execution_count": 38,
      "outputs": [
        {
          "output_type": "stream",
          "name": "stdout",
          "text": [
            "Epoch 1/30\n",
            "\u001b[1m363/363\u001b[0m \u001b[32m━━━━━━━━━━━━━━━━━━━━\u001b[0m\u001b[37m\u001b[0m \u001b[1m1s\u001b[0m 2ms/step - loss: 1.5365 - mean_absolute_error: 0.8430 - val_loss: 0.5162 - val_mean_absolute_error: 0.5193\n",
            "Epoch 2/30\n",
            "\u001b[1m363/363\u001b[0m \u001b[32m━━━━━━━━━━━━━━━━━━━━\u001b[0m\u001b[37m\u001b[0m \u001b[1m1s\u001b[0m 2ms/step - loss: 0.4627 - mean_absolute_error: 0.4933 - val_loss: 0.4784 - val_mean_absolute_error: 0.4979\n",
            "Epoch 3/30\n",
            "\u001b[1m363/363\u001b[0m \u001b[32m━━━━━━━━━━━━━━━━━━━━\u001b[0m\u001b[37m\u001b[0m \u001b[1m1s\u001b[0m 2ms/step - loss: 0.4616 - mean_absolute_error: 0.4852 - val_loss: 0.4509 - val_mean_absolute_error: 0.4709\n",
            "Epoch 4/30\n",
            "\u001b[1m363/363\u001b[0m \u001b[32m━━━━━━━━━━━━━━━━━━━━\u001b[0m\u001b[37m\u001b[0m \u001b[1m1s\u001b[0m 2ms/step - loss: 0.4239 - mean_absolute_error: 0.4663 - val_loss: 0.4531 - val_mean_absolute_error: 0.4974\n",
            "Epoch 5/30\n",
            "\u001b[1m363/363\u001b[0m \u001b[32m━━━━━━━━━━━━━━━━━━━━\u001b[0m\u001b[37m\u001b[0m \u001b[1m1s\u001b[0m 2ms/step - loss: 0.4083 - mean_absolute_error: 0.4586 - val_loss: 0.4319 - val_mean_absolute_error: 0.4513\n",
            "Epoch 6/30\n",
            "\u001b[1m363/363\u001b[0m \u001b[32m━━━━━━━━━━━━━━━━━━━━\u001b[0m\u001b[37m\u001b[0m \u001b[1m1s\u001b[0m 2ms/step - loss: 0.3917 - mean_absolute_error: 0.4482 - val_loss: 0.4165 - val_mean_absolute_error: 0.4656\n",
            "Epoch 7/30\n",
            "\u001b[1m363/363\u001b[0m \u001b[32m━━━━━━━━━━━━━━━━━━━━\u001b[0m\u001b[37m\u001b[0m \u001b[1m2s\u001b[0m 3ms/step - loss: 0.3922 - mean_absolute_error: 0.4494 - val_loss: 0.4007 - val_mean_absolute_error: 0.4506\n",
            "Epoch 8/30\n",
            "\u001b[1m363/363\u001b[0m \u001b[32m━━━━━━━━━━━━━━━━━━━━\u001b[0m\u001b[37m\u001b[0m \u001b[1m1s\u001b[0m 2ms/step - loss: 0.3723 - mean_absolute_error: 0.4329 - val_loss: 0.3925 - val_mean_absolute_error: 0.4390\n",
            "Epoch 9/30\n",
            "\u001b[1m363/363\u001b[0m \u001b[32m━━━━━━━━━━━━━━━━━━━━\u001b[0m\u001b[37m\u001b[0m \u001b[1m1s\u001b[0m 2ms/step - loss: 0.3668 - mean_absolute_error: 0.4303 - val_loss: 0.3874 - val_mean_absolute_error: 0.4346\n",
            "Epoch 10/30\n",
            "\u001b[1m363/363\u001b[0m \u001b[32m━━━━━━━━━━━━━━━━━━━━\u001b[0m\u001b[37m\u001b[0m \u001b[1m1s\u001b[0m 2ms/step - loss: 0.3666 - mean_absolute_error: 0.4310 - val_loss: 0.3795 - val_mean_absolute_error: 0.4279\n",
            "Epoch 11/30\n",
            "\u001b[1m363/363\u001b[0m \u001b[32m━━━━━━━━━━━━━━━━━━━━\u001b[0m\u001b[37m\u001b[0m \u001b[1m1s\u001b[0m 2ms/step - loss: 0.3741 - mean_absolute_error: 0.4332 - val_loss: 0.3757 - val_mean_absolute_error: 0.4355\n",
            "Epoch 12/30\n",
            "\u001b[1m363/363\u001b[0m \u001b[32m━━━━━━━━━━━━━━━━━━━━\u001b[0m\u001b[37m\u001b[0m \u001b[1m1s\u001b[0m 2ms/step - loss: 0.3552 - mean_absolute_error: 0.4243 - val_loss: 0.3767 - val_mean_absolute_error: 0.4388\n",
            "Epoch 13/30\n",
            "\u001b[1m363/363\u001b[0m \u001b[32m━━━━━━━━━━━━━━━━━━━━\u001b[0m\u001b[37m\u001b[0m \u001b[1m1s\u001b[0m 2ms/step - loss: 0.3579 - mean_absolute_error: 0.4248 - val_loss: 0.3672 - val_mean_absolute_error: 0.4348\n",
            "Epoch 14/30\n",
            "\u001b[1m363/363\u001b[0m \u001b[32m━━━━━━━━━━━━━━━━━━━━\u001b[0m\u001b[37m\u001b[0m \u001b[1m1s\u001b[0m 2ms/step - loss: 0.3396 - mean_absolute_error: 0.4157 - val_loss: 0.3688 - val_mean_absolute_error: 0.4345\n",
            "Epoch 15/30\n",
            "\u001b[1m363/363\u001b[0m \u001b[32m━━━━━━━━━━━━━━━━━━━━\u001b[0m\u001b[37m\u001b[0m \u001b[1m1s\u001b[0m 2ms/step - loss: 0.3316 - mean_absolute_error: 0.4063 - val_loss: 0.3551 - val_mean_absolute_error: 0.4149\n",
            "Epoch 16/30\n",
            "\u001b[1m363/363\u001b[0m \u001b[32m━━━━━━━━━━━━━━━━━━━━\u001b[0m\u001b[37m\u001b[0m \u001b[1m1s\u001b[0m 2ms/step - loss: 0.3391 - mean_absolute_error: 0.4082 - val_loss: 0.3494 - val_mean_absolute_error: 0.4091\n",
            "Epoch 17/30\n",
            "\u001b[1m363/363\u001b[0m \u001b[32m━━━━━━━━━━━━━━━━━━━━\u001b[0m\u001b[37m\u001b[0m \u001b[1m1s\u001b[0m 2ms/step - loss: 0.3373 - mean_absolute_error: 0.4088 - val_loss: 0.3499 - val_mean_absolute_error: 0.4072\n",
            "Epoch 18/30\n",
            "\u001b[1m363/363\u001b[0m \u001b[32m━━━━━━━━━━━━━━━━━━━━\u001b[0m\u001b[37m\u001b[0m \u001b[1m2s\u001b[0m 3ms/step - loss: 0.3320 - mean_absolute_error: 0.4090 - val_loss: 0.3436 - val_mean_absolute_error: 0.4047\n",
            "Epoch 19/30\n",
            "\u001b[1m363/363\u001b[0m \u001b[32m━━━━━━━━━━━━━━━━━━━━\u001b[0m\u001b[37m\u001b[0m \u001b[1m1s\u001b[0m 2ms/step - loss: 0.3317 - mean_absolute_error: 0.4042 - val_loss: 0.3401 - val_mean_absolute_error: 0.4033\n",
            "Epoch 20/30\n",
            "\u001b[1m363/363\u001b[0m \u001b[32m━━━━━━━━━━━━━━━━━━━━\u001b[0m\u001b[37m\u001b[0m \u001b[1m1s\u001b[0m 2ms/step - loss: 0.3209 - mean_absolute_error: 0.3981 - val_loss: 0.3412 - val_mean_absolute_error: 0.4067\n",
            "Epoch 21/30\n",
            "\u001b[1m363/363\u001b[0m \u001b[32m━━━━━━━━━━━━━━━━━━━━\u001b[0m\u001b[37m\u001b[0m \u001b[1m1s\u001b[0m 2ms/step - loss: 0.3233 - mean_absolute_error: 0.4015 - val_loss: 0.3385 - val_mean_absolute_error: 0.4090\n",
            "Epoch 22/30\n",
            "\u001b[1m363/363\u001b[0m \u001b[32m━━━━━━━━━━━━━━━━━━━━\u001b[0m\u001b[37m\u001b[0m \u001b[1m1s\u001b[0m 2ms/step - loss: 0.3227 - mean_absolute_error: 0.3995 - val_loss: 0.3348 - val_mean_absolute_error: 0.3967\n",
            "Epoch 23/30\n",
            "\u001b[1m363/363\u001b[0m \u001b[32m━━━━━━━━━━━━━━━━━━━━\u001b[0m\u001b[37m\u001b[0m \u001b[1m1s\u001b[0m 2ms/step - loss: 0.3310 - mean_absolute_error: 0.4048 - val_loss: 0.3383 - val_mean_absolute_error: 0.4085\n",
            "Epoch 24/30\n",
            "\u001b[1m363/363\u001b[0m \u001b[32m━━━━━━━━━━━━━━━━━━━━\u001b[0m\u001b[37m\u001b[0m \u001b[1m1s\u001b[0m 2ms/step - loss: 0.3200 - mean_absolute_error: 0.4007 - val_loss: 0.3286 - val_mean_absolute_error: 0.3937\n",
            "Epoch 25/30\n",
            "\u001b[1m363/363\u001b[0m \u001b[32m━━━━━━━━━━━━━━━━━━━━\u001b[0m\u001b[37m\u001b[0m \u001b[1m1s\u001b[0m 2ms/step - loss: 0.3181 - mean_absolute_error: 0.3942 - val_loss: 0.3343 - val_mean_absolute_error: 0.3988\n",
            "Epoch 26/30\n",
            "\u001b[1m363/363\u001b[0m \u001b[32m━━━━━━━━━━━━━━━━━━━━\u001b[0m\u001b[37m\u001b[0m \u001b[1m1s\u001b[0m 2ms/step - loss: 0.3174 - mean_absolute_error: 0.3958 - val_loss: 0.3248 - val_mean_absolute_error: 0.3908\n",
            "Epoch 27/30\n",
            "\u001b[1m363/363\u001b[0m \u001b[32m━━━━━━━━━━━━━━━━━━━━\u001b[0m\u001b[37m\u001b[0m \u001b[1m1s\u001b[0m 2ms/step - loss: 0.3034 - mean_absolute_error: 0.3879 - val_loss: 0.3288 - val_mean_absolute_error: 0.3884\n",
            "Epoch 28/30\n",
            "\u001b[1m363/363\u001b[0m \u001b[32m━━━━━━━━━━━━━━━━━━━━\u001b[0m\u001b[37m\u001b[0m \u001b[1m1s\u001b[0m 2ms/step - loss: 0.3107 - mean_absolute_error: 0.3901 - val_loss: 0.3400 - val_mean_absolute_error: 0.3889\n",
            "Epoch 29/30\n",
            "\u001b[1m363/363\u001b[0m \u001b[32m━━━━━━━━━━━━━━━━━━━━\u001b[0m\u001b[37m\u001b[0m \u001b[1m1s\u001b[0m 2ms/step - loss: 0.3140 - mean_absolute_error: 0.3922 - val_loss: 0.3400 - val_mean_absolute_error: 0.3925\n",
            "Epoch 30/30\n",
            "\u001b[1m363/363\u001b[0m \u001b[32m━━━━━━━━━━━━━━━━━━━━\u001b[0m\u001b[37m\u001b[0m \u001b[1m1s\u001b[0m 2ms/step - loss: 0.2985 - mean_absolute_error: 0.3839 - val_loss: 0.3338 - val_mean_absolute_error: 0.3935\n"
          ]
        },
        {
          "output_type": "execute_result",
          "data": {
            "text/plain": [
              "<keras.src.callbacks.history.History at 0x7ab8a8566710>"
            ]
          },
          "metadata": {},
          "execution_count": 38
        }
      ]
    }
  ]
}