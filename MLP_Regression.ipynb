{
  "cells": [
    {
      "cell_type": "markdown",
      "metadata": {
        "id": "view-in-github",
        "colab_type": "text"
      },
      "source": [
        "<a href=\"https://colab.research.google.com/github/mandananaderi/MLP_Projects_2025/blob/main/MLP_Regression.ipynb\" target=\"_parent\"><img src=\"https://colab.research.google.com/assets/colab-badge.svg\" alt=\"Open In Colab\"/></a>"
      ]
    },
    {
      "cell_type": "code",
      "execution_count": 2,
      "metadata": {
        "id": "ia8sdCzs2jwH"
      },
      "outputs": [],
      "source": [
        "import tensorflow as tf\n",
        "import keras\n",
        "import numpy as np\n",
        "import matplotlib.pyplot as plt\n",
        "from sklearn.model_selection import train_test_split\n",
        "from sklearn.preprocessing import StandardScaler\n",
        "from sklearn.metrics import mean_absolute_error, mean_squared_error\n",
        "from sklearn.datasets import fetch_california_housing"
      ]
    },
    {
      "cell_type": "code",
      "execution_count": 3,
      "metadata": {
        "colab": {
          "base_uri": "https://localhost:8080/"
        },
        "collapsed": true,
        "id": "7If3UbUiLInY",
        "outputId": "4c086da4-8805-499b-a3d2-15a8cdfc4478"
      },
      "outputs": [
        {
          "output_type": "stream",
          "name": "stdout",
          "text": [
            "{'data': array([[   8.3252    ,   41.        ,    6.98412698, ...,    2.55555556,\n",
            "          37.88      , -122.23      ],\n",
            "       [   8.3014    ,   21.        ,    6.23813708, ...,    2.10984183,\n",
            "          37.86      , -122.22      ],\n",
            "       [   7.2574    ,   52.        ,    8.28813559, ...,    2.80225989,\n",
            "          37.85      , -122.24      ],\n",
            "       ...,\n",
            "       [   1.7       ,   17.        ,    5.20554273, ...,    2.3256351 ,\n",
            "          39.43      , -121.22      ],\n",
            "       [   1.8672    ,   18.        ,    5.32951289, ...,    2.12320917,\n",
            "          39.43      , -121.32      ],\n",
            "       [   2.3886    ,   16.        ,    5.25471698, ...,    2.61698113,\n",
            "          39.37      , -121.24      ]]), 'target': array([4.526, 3.585, 3.521, ..., 0.923, 0.847, 0.894]), 'frame': None, 'target_names': ['MedHouseVal'], 'feature_names': ['MedInc', 'HouseAge', 'AveRooms', 'AveBedrms', 'Population', 'AveOccup', 'Latitude', 'Longitude'], 'DESCR': '.. _california_housing_dataset:\\n\\nCalifornia Housing dataset\\n--------------------------\\n\\n**Data Set Characteristics:**\\n\\n:Number of Instances: 20640\\n\\n:Number of Attributes: 8 numeric, predictive attributes and the target\\n\\n:Attribute Information:\\n    - MedInc        median income in block group\\n    - HouseAge      median house age in block group\\n    - AveRooms      average number of rooms per household\\n    - AveBedrms     average number of bedrooms per household\\n    - Population    block group population\\n    - AveOccup      average number of household members\\n    - Latitude      block group latitude\\n    - Longitude     block group longitude\\n\\n:Missing Attribute Values: None\\n\\nThis dataset was obtained from the StatLib repository.\\nhttps://www.dcc.fc.up.pt/~ltorgo/Regression/cal_housing.html\\n\\nThe target variable is the median house value for California districts,\\nexpressed in hundreds of thousands of dollars ($100,000).\\n\\nThis dataset was derived from the 1990 U.S. census, using one row per census\\nblock group. A block group is the smallest geographical unit for which the U.S.\\nCensus Bureau publishes sample data (a block group typically has a population\\nof 600 to 3,000 people).\\n\\nA household is a group of people residing within a home. Since the average\\nnumber of rooms and bedrooms in this dataset are provided per household, these\\ncolumns may take surprisingly large values for block groups with few households\\nand many empty houses, such as vacation resorts.\\n\\nIt can be downloaded/loaded using the\\n:func:`sklearn.datasets.fetch_california_housing` function.\\n\\n.. rubric:: References\\n\\n- Pace, R. Kelley and Ronald Barry, Sparse Spatial Autoregressions,\\n  Statistics and Probability Letters, 33 (1997) 291-297\\n'}\n"
          ]
        }
      ],
      "source": [
        "california_housing = fetch_california_housing()\n",
        "print(california_housing)"
      ]
    },
    {
      "cell_type": "code",
      "execution_count": 5,
      "metadata": {
        "id": "xDgFaM2oLIdn"
      },
      "outputs": [],
      "source": [
        "X_train0, X_test, y_train0, y_test = train_test_split(california_housing['data'], california_housing['target'])"
      ]
    },
    {
      "cell_type": "code",
      "execution_count": 6,
      "metadata": {
        "id": "ByO0bgAgLIQN"
      },
      "outputs": [],
      "source": [
        "X_train1, X_validation, y_train1, y_validation = train_test_split(X_train0, y_train0)"
      ]
    },
    {
      "cell_type": "code",
      "execution_count": 7,
      "metadata": {
        "id": "hW6IVegNLH0G"
      },
      "outputs": [],
      "source": [
        "sc = StandardScaler()\n",
        "X_train_s = sc.fit_transform(X_train1)\n",
        "X_validation_s = sc.transform(X_validation)\n",
        "X_test_s = sc.transform(X_test)"
      ]
    },
    {
      "cell_type": "code",
      "execution_count": 8,
      "metadata": {
        "id": "ys1ecD1TRtov"
      },
      "outputs": [],
      "source": [
        "model = keras.models.Sequential([\n",
        "    keras.layers.Dense(50, activation='relu'),\n",
        "    keras.layers.Dense(10, activation='relu'),\n",
        "    keras.layers.Dense(1,)\n",
        "])"
      ]
    },
    {
      "cell_type": "code",
      "execution_count": 9,
      "metadata": {
        "id": "JfmZk9JFRtkH"
      },
      "outputs": [],
      "source": [
        "model.compile(optimizer='sgd',\n",
        "              loss='mse',\n",
        "              metrics=['mean_absolute_error'])"
      ]
    },
    {
      "cell_type": "code",
      "execution_count": 10,
      "metadata": {
        "colab": {
          "base_uri": "https://localhost:8080/"
        },
        "id": "77kbF7aHRtIi",
        "outputId": "14af52f8-2e51-4ffe-8c04-1ce39446d867"
      },
      "outputs": [
        {
          "output_type": "stream",
          "name": "stdout",
          "text": [
            "Epoch 1/30\n",
            "\u001b[1m363/363\u001b[0m \u001b[32m━━━━━━━━━━━━━━━━━━━━\u001b[0m\u001b[37m\u001b[0m \u001b[1m2s\u001b[0m 3ms/step - loss: 1.6523 - mean_absolute_error: 0.9028 - val_loss: 0.5662 - val_mean_absolute_error: 0.5594\n",
            "Epoch 2/30\n",
            "\u001b[1m363/363\u001b[0m \u001b[32m━━━━━━━━━━━━━━━━━━━━\u001b[0m\u001b[37m\u001b[0m \u001b[1m1s\u001b[0m 3ms/step - loss: 0.5294 - mean_absolute_error: 0.5352 - val_loss: 0.4858 - val_mean_absolute_error: 0.5137\n",
            "Epoch 3/30\n",
            "\u001b[1m363/363\u001b[0m \u001b[32m━━━━━━━━━━━━━━━━━━━━\u001b[0m\u001b[37m\u001b[0m \u001b[1m1s\u001b[0m 2ms/step - loss: 0.4700 - mean_absolute_error: 0.4977 - val_loss: 0.4447 - val_mean_absolute_error: 0.4718\n",
            "Epoch 4/30\n",
            "\u001b[1m363/363\u001b[0m \u001b[32m━━━━━━━━━━━━━━━━━━━━\u001b[0m\u001b[37m\u001b[0m \u001b[1m1s\u001b[0m 3ms/step - loss: 0.4476 - mean_absolute_error: 0.4780 - val_loss: 0.4259 - val_mean_absolute_error: 0.4632\n",
            "Epoch 5/30\n",
            "\u001b[1m363/363\u001b[0m \u001b[32m━━━━━━━━━━━━━━━━━━━━\u001b[0m\u001b[37m\u001b[0m \u001b[1m1s\u001b[0m 3ms/step - loss: 0.4331 - mean_absolute_error: 0.4709 - val_loss: 0.4116 - val_mean_absolute_error: 0.4590\n",
            "Epoch 6/30\n",
            "\u001b[1m363/363\u001b[0m \u001b[32m━━━━━━━━━━━━━━━━━━━━\u001b[0m\u001b[37m\u001b[0m \u001b[1m1s\u001b[0m 2ms/step - loss: 0.4091 - mean_absolute_error: 0.4579 - val_loss: 0.3991 - val_mean_absolute_error: 0.4518\n",
            "Epoch 7/30\n",
            "\u001b[1m363/363\u001b[0m \u001b[32m━━━━━━━━━━━━━━━━━━━━\u001b[0m\u001b[37m\u001b[0m \u001b[1m1s\u001b[0m 3ms/step - loss: 0.4012 - mean_absolute_error: 0.4510 - val_loss: 0.3872 - val_mean_absolute_error: 0.4441\n",
            "Epoch 8/30\n",
            "\u001b[1m363/363\u001b[0m \u001b[32m━━━━━━━━━━━━━━━━━━━━\u001b[0m\u001b[37m\u001b[0m \u001b[1m2s\u001b[0m 3ms/step - loss: 0.4012 - mean_absolute_error: 0.4542 - val_loss: 0.3892 - val_mean_absolute_error: 0.4436\n",
            "Epoch 9/30\n",
            "\u001b[1m363/363\u001b[0m \u001b[32m━━━━━━━━━━━━━━━━━━━━\u001b[0m\u001b[37m\u001b[0m \u001b[1m2s\u001b[0m 3ms/step - loss: 0.3835 - mean_absolute_error: 0.4407 - val_loss: 0.3837 - val_mean_absolute_error: 0.4351\n",
            "Epoch 10/30\n",
            "\u001b[1m363/363\u001b[0m \u001b[32m━━━━━━━━━━━━━━━━━━━━\u001b[0m\u001b[37m\u001b[0m \u001b[1m1s\u001b[0m 2ms/step - loss: 0.3815 - mean_absolute_error: 0.4364 - val_loss: 0.3817 - val_mean_absolute_error: 0.4379\n",
            "Epoch 11/30\n",
            "\u001b[1m363/363\u001b[0m \u001b[32m━━━━━━━━━━━━━━━━━━━━\u001b[0m\u001b[37m\u001b[0m \u001b[1m1s\u001b[0m 3ms/step - loss: 0.3844 - mean_absolute_error: 0.4378 - val_loss: 0.3619 - val_mean_absolute_error: 0.4271\n",
            "Epoch 12/30\n",
            "\u001b[1m363/363\u001b[0m \u001b[32m━━━━━━━━━━━━━━━━━━━━\u001b[0m\u001b[37m\u001b[0m \u001b[1m1s\u001b[0m 2ms/step - loss: 0.3816 - mean_absolute_error: 0.4366 - val_loss: 0.3798 - val_mean_absolute_error: 0.4341\n",
            "Epoch 13/30\n",
            "\u001b[1m363/363\u001b[0m \u001b[32m━━━━━━━━━━━━━━━━━━━━\u001b[0m\u001b[37m\u001b[0m \u001b[1m1s\u001b[0m 2ms/step - loss: 0.3634 - mean_absolute_error: 0.4263 - val_loss: 0.3548 - val_mean_absolute_error: 0.4130\n",
            "Epoch 14/30\n",
            "\u001b[1m363/363\u001b[0m \u001b[32m━━━━━━━━━━━━━━━━━━━━\u001b[0m\u001b[37m\u001b[0m \u001b[1m1s\u001b[0m 2ms/step - loss: 0.3653 - mean_absolute_error: 0.4284 - val_loss: 0.3520 - val_mean_absolute_error: 0.4207\n",
            "Epoch 15/30\n",
            "\u001b[1m363/363\u001b[0m \u001b[32m━━━━━━━━━━━━━━━━━━━━\u001b[0m\u001b[37m\u001b[0m \u001b[1m1s\u001b[0m 2ms/step - loss: 0.3522 - mean_absolute_error: 0.4221 - val_loss: 0.3496 - val_mean_absolute_error: 0.4301\n",
            "Epoch 16/30\n",
            "\u001b[1m363/363\u001b[0m \u001b[32m━━━━━━━━━━━━━━━━━━━━\u001b[0m\u001b[37m\u001b[0m \u001b[1m1s\u001b[0m 2ms/step - loss: 0.3373 - mean_absolute_error: 0.4133 - val_loss: 0.3481 - val_mean_absolute_error: 0.4111\n",
            "Epoch 17/30\n",
            "\u001b[1m363/363\u001b[0m \u001b[32m━━━━━━━━━━━━━━━━━━━━\u001b[0m\u001b[37m\u001b[0m \u001b[1m2s\u001b[0m 3ms/step - loss: 0.3375 - mean_absolute_error: 0.4112 - val_loss: 0.3360 - val_mean_absolute_error: 0.4172\n",
            "Epoch 18/30\n",
            "\u001b[1m363/363\u001b[0m \u001b[32m━━━━━━━━━━━━━━━━━━━━\u001b[0m\u001b[37m\u001b[0m \u001b[1m1s\u001b[0m 4ms/step - loss: 0.3422 - mean_absolute_error: 0.4135 - val_loss: 0.3328 - val_mean_absolute_error: 0.4049\n",
            "Epoch 19/30\n",
            "\u001b[1m363/363\u001b[0m \u001b[32m━━━━━━━━━━━━━━━━━━━━\u001b[0m\u001b[37m\u001b[0m \u001b[1m2s\u001b[0m 3ms/step - loss: 0.3606 - mean_absolute_error: 0.4196 - val_loss: 0.3465 - val_mean_absolute_error: 0.4090\n",
            "Epoch 20/30\n",
            "\u001b[1m363/363\u001b[0m \u001b[32m━━━━━━━━━━━━━━━━━━━━\u001b[0m\u001b[37m\u001b[0m \u001b[1m1s\u001b[0m 2ms/step - loss: 0.3313 - mean_absolute_error: 0.4078 - val_loss: 0.3249 - val_mean_absolute_error: 0.4103\n",
            "Epoch 21/30\n",
            "\u001b[1m363/363\u001b[0m \u001b[32m━━━━━━━━━━━━━━━━━━━━\u001b[0m\u001b[37m\u001b[0m \u001b[1m1s\u001b[0m 2ms/step - loss: 0.3382 - mean_absolute_error: 0.4105 - val_loss: 0.3243 - val_mean_absolute_error: 0.3958\n",
            "Epoch 22/30\n",
            "\u001b[1m363/363\u001b[0m \u001b[32m━━━━━━━━━━━━━━━━━━━━\u001b[0m\u001b[37m\u001b[0m \u001b[1m1s\u001b[0m 3ms/step - loss: 0.3312 - mean_absolute_error: 0.4051 - val_loss: 0.3246 - val_mean_absolute_error: 0.4014\n",
            "Epoch 23/30\n",
            "\u001b[1m363/363\u001b[0m \u001b[32m━━━━━━━━━━━━━━━━━━━━\u001b[0m\u001b[37m\u001b[0m \u001b[1m1s\u001b[0m 3ms/step - loss: 0.3213 - mean_absolute_error: 0.3992 - val_loss: 0.3155 - val_mean_absolute_error: 0.4011\n",
            "Epoch 24/30\n",
            "\u001b[1m363/363\u001b[0m \u001b[32m━━━━━━━━━━━━━━━━━━━━\u001b[0m\u001b[37m\u001b[0m \u001b[1m1s\u001b[0m 3ms/step - loss: 0.3199 - mean_absolute_error: 0.4006 - val_loss: 0.3165 - val_mean_absolute_error: 0.3971\n",
            "Epoch 25/30\n",
            "\u001b[1m363/363\u001b[0m \u001b[32m━━━━━━━━━━━━━━━━━━━━\u001b[0m\u001b[37m\u001b[0m \u001b[1m1s\u001b[0m 2ms/step - loss: 0.3243 - mean_absolute_error: 0.3997 - val_loss: 0.3109 - val_mean_absolute_error: 0.3855\n",
            "Epoch 26/30\n",
            "\u001b[1m363/363\u001b[0m \u001b[32m━━━━━━━━━━━━━━━━━━━━\u001b[0m\u001b[37m\u001b[0m \u001b[1m2s\u001b[0m 3ms/step - loss: 0.3328 - mean_absolute_error: 0.4044 - val_loss: 0.3199 - val_mean_absolute_error: 0.3934\n",
            "Epoch 27/30\n",
            "\u001b[1m363/363\u001b[0m \u001b[32m━━━━━━━━━━━━━━━━━━━━\u001b[0m\u001b[37m\u001b[0m \u001b[1m1s\u001b[0m 3ms/step - loss: 0.3272 - mean_absolute_error: 0.3988 - val_loss: 0.3237 - val_mean_absolute_error: 0.4060\n",
            "Epoch 28/30\n",
            "\u001b[1m363/363\u001b[0m \u001b[32m━━━━━━━━━━━━━━━━━━━━\u001b[0m\u001b[37m\u001b[0m \u001b[1m2s\u001b[0m 3ms/step - loss: 0.3383 - mean_absolute_error: 0.4039 - val_loss: 0.3218 - val_mean_absolute_error: 0.4051\n",
            "Epoch 29/30\n",
            "\u001b[1m363/363\u001b[0m \u001b[32m━━━━━━━━━━━━━━━━━━━━\u001b[0m\u001b[37m\u001b[0m \u001b[1m1s\u001b[0m 3ms/step - loss: 0.3092 - mean_absolute_error: 0.3941 - val_loss: 0.3163 - val_mean_absolute_error: 0.3911\n",
            "Epoch 30/30\n",
            "\u001b[1m363/363\u001b[0m \u001b[32m━━━━━━━━━━━━━━━━━━━━\u001b[0m\u001b[37m\u001b[0m \u001b[1m1s\u001b[0m 3ms/step - loss: 0.3120 - mean_absolute_error: 0.3941 - val_loss: 0.3103 - val_mean_absolute_error: 0.4037\n"
          ]
        },
        {
          "output_type": "execute_result",
          "data": {
            "text/plain": [
              "<keras.src.callbacks.history.History at 0x7990cced2690>"
            ]
          },
          "metadata": {},
          "execution_count": 10
        }
      ],
      "source": [
        "model.fit(X_train_s, y_train1, epochs=30,\n",
        "          validation_data=[X_validation_s, y_validation])"
      ]
    },
    {
      "cell_type": "markdown",
      "source": [
        "# Functional API\n"
      ],
      "metadata": {
        "id": "2kVGOiR6hQoe"
      }
    },
    {
      "cell_type": "markdown",
      "source": [
        "# deep and wide ---> input_\n"
      ],
      "metadata": {
        "id": "nY0GPep_yGqO"
      }
    },
    {
      "cell_type": "code",
      "source": [
        "X_train1.shape[1:]"
      ],
      "metadata": {
        "colab": {
          "base_uri": "https://localhost:8080/"
        },
        "id": "uT1jMVkmk_RN",
        "outputId": "e861b7d4-401c-4634-8590-5d03325ad1f3"
      },
      "execution_count": 13,
      "outputs": [
        {
          "output_type": "execute_result",
          "data": {
            "text/plain": [
              "(8,)"
            ]
          },
          "metadata": {},
          "execution_count": 13
        }
      ]
    },
    {
      "cell_type": "code",
      "source": [
        "input_ = keras.layers.Input(shape=X_train1.shape[1:])\n",
        "hidden_layer1 = keras.layers.Dense(50, activation='relu')(input_)\n",
        "hidden_layer2 = keras.layers.Dense(10, activation='relu')(hidden_layer1)\n",
        "concatenate_layer = keras.layers.Concatenate()([input_, hidden_layer2])\n",
        "output_ = keras.layers.Dense(1)(concatenate_layer)\n",
        "model = keras.Model(inputs=[input_], outputs=[output_])"
      ],
      "metadata": {
        "id": "rOu9mlhshVZ-"
      },
      "execution_count": 20,
      "outputs": []
    },
    {
      "cell_type": "code",
      "source": [
        "model.compile(optimizer='sgd',\n",
        "              loss='mse',\n",
        "              metrics=['mean_absolute_error'])"
      ],
      "metadata": {
        "id": "q-uSWTEds8Ci"
      },
      "execution_count": 21,
      "outputs": []
    },
    {
      "cell_type": "code",
      "source": [
        "model.fit(X_train_s, y_train1, epochs=30,\n",
        "          validation_data=[X_validation_s, y_validation])"
      ],
      "metadata": {
        "colab": {
          "base_uri": "https://localhost:8080/"
        },
        "id": "ydLIdmM3s7sM",
        "outputId": "15973b0b-96fb-438a-f456-c654d29960c8"
      },
      "execution_count": 22,
      "outputs": [
        {
          "output_type": "stream",
          "name": "stdout",
          "text": [
            "Epoch 1/30\n"
          ]
        },
        {
          "output_type": "stream",
          "name": "stderr",
          "text": [
            "/usr/local/lib/python3.11/dist-packages/keras/src/models/functional.py:237: UserWarning: The structure of `inputs` doesn't match the expected structure.\n",
            "Expected: ['keras_tensor_28']\n",
            "Received: inputs=Tensor(shape=(None, 8))\n",
            "  warnings.warn(msg)\n"
          ]
        },
        {
          "output_type": "stream",
          "name": "stdout",
          "text": [
            "\u001b[1m363/363\u001b[0m \u001b[32m━━━━━━━━━━━━━━━━━━━━\u001b[0m\u001b[37m\u001b[0m \u001b[1m2s\u001b[0m 4ms/step - loss: 3.5621 - mean_absolute_error: 0.9344 - val_loss: 0.5942 - val_mean_absolute_error: 0.5721\n",
            "Epoch 2/30\n",
            "\u001b[1m363/363\u001b[0m \u001b[32m━━━━━━━━━━━━━━━━━━━━\u001b[0m\u001b[37m\u001b[0m \u001b[1m2s\u001b[0m 3ms/step - loss: 0.5821 - mean_absolute_error: 0.5591 - val_loss: 0.5307 - val_mean_absolute_error: 0.5389\n",
            "Epoch 3/30\n",
            "\u001b[1m363/363\u001b[0m \u001b[32m━━━━━━━━━━━━━━━━━━━━\u001b[0m\u001b[37m\u001b[0m \u001b[1m1s\u001b[0m 3ms/step - loss: 0.5226 - mean_absolute_error: 0.5310 - val_loss: 0.4946 - val_mean_absolute_error: 0.5128\n",
            "Epoch 4/30\n",
            "\u001b[1m363/363\u001b[0m \u001b[32m━━━━━━━━━━━━━━━━━━━━\u001b[0m\u001b[37m\u001b[0m \u001b[1m1s\u001b[0m 3ms/step - loss: 0.4934 - mean_absolute_error: 0.5130 - val_loss: 0.4705 - val_mean_absolute_error: 0.4989\n",
            "Epoch 5/30\n",
            "\u001b[1m363/363\u001b[0m \u001b[32m━━━━━━━━━━━━━━━━━━━━\u001b[0m\u001b[37m\u001b[0m \u001b[1m1s\u001b[0m 3ms/step - loss: 0.4883 - mean_absolute_error: 0.5015 - val_loss: 0.4617 - val_mean_absolute_error: 0.4896\n",
            "Epoch 6/30\n",
            "\u001b[1m363/363\u001b[0m \u001b[32m━━━━━━━━━━━━━━━━━━━━\u001b[0m\u001b[37m\u001b[0m \u001b[1m1s\u001b[0m 3ms/step - loss: 0.4652 - mean_absolute_error: 0.4985 - val_loss: 0.4546 - val_mean_absolute_error: 0.4871\n",
            "Epoch 7/30\n",
            "\u001b[1m363/363\u001b[0m \u001b[32m━━━━━━━━━━━━━━━━━━━━\u001b[0m\u001b[37m\u001b[0m \u001b[1m1s\u001b[0m 3ms/step - loss: 0.4362 - mean_absolute_error: 0.4748 - val_loss: 0.4496 - val_mean_absolute_error: 0.4853\n",
            "Epoch 8/30\n",
            "\u001b[1m363/363\u001b[0m \u001b[32m━━━━━━━━━━━━━━━━━━━━\u001b[0m\u001b[37m\u001b[0m \u001b[1m1s\u001b[0m 2ms/step - loss: 0.4698 - mean_absolute_error: 0.4906 - val_loss: 0.4226 - val_mean_absolute_error: 0.4693\n",
            "Epoch 9/30\n",
            "\u001b[1m363/363\u001b[0m \u001b[32m━━━━━━━━━━━━━━━━━━━━\u001b[0m\u001b[37m\u001b[0m \u001b[1m2s\u001b[0m 3ms/step - loss: 0.4420 - mean_absolute_error: 0.4749 - val_loss: 0.4086 - val_mean_absolute_error: 0.4649\n",
            "Epoch 10/30\n",
            "\u001b[1m363/363\u001b[0m \u001b[32m━━━━━━━━━━━━━━━━━━━━\u001b[0m\u001b[37m\u001b[0m \u001b[1m2s\u001b[0m 2ms/step - loss: 0.4347 - mean_absolute_error: 0.4676 - val_loss: 0.4085 - val_mean_absolute_error: 0.4607\n",
            "Epoch 11/30\n",
            "\u001b[1m363/363\u001b[0m \u001b[32m━━━━━━━━━━━━━━━━━━━━\u001b[0m\u001b[37m\u001b[0m \u001b[1m1s\u001b[0m 2ms/step - loss: 0.4227 - mean_absolute_error: 0.4651 - val_loss: 0.4008 - val_mean_absolute_error: 0.4457\n",
            "Epoch 12/30\n",
            "\u001b[1m363/363\u001b[0m \u001b[32m━━━━━━━━━━━━━━━━━━━━\u001b[0m\u001b[37m\u001b[0m \u001b[1m1s\u001b[0m 3ms/step - loss: 0.4101 - mean_absolute_error: 0.4543 - val_loss: 0.3875 - val_mean_absolute_error: 0.4525\n",
            "Epoch 13/30\n",
            "\u001b[1m363/363\u001b[0m \u001b[32m━━━━━━━━━━━━━━━━━━━━\u001b[0m\u001b[37m\u001b[0m \u001b[1m1s\u001b[0m 3ms/step - loss: 0.4021 - mean_absolute_error: 0.4510 - val_loss: 0.3679 - val_mean_absolute_error: 0.4321\n",
            "Epoch 14/30\n",
            "\u001b[1m363/363\u001b[0m \u001b[32m━━━━━━━━━━━━━━━━━━━━\u001b[0m\u001b[37m\u001b[0m \u001b[1m1s\u001b[0m 3ms/step - loss: 0.3854 - mean_absolute_error: 0.4447 - val_loss: 0.3600 - val_mean_absolute_error: 0.4280\n",
            "Epoch 15/30\n",
            "\u001b[1m363/363\u001b[0m \u001b[32m━━━━━━━━━━━━━━━━━━━━\u001b[0m\u001b[37m\u001b[0m \u001b[1m1s\u001b[0m 3ms/step - loss: 0.3662 - mean_absolute_error: 0.4315 - val_loss: 0.3642 - val_mean_absolute_error: 0.4269\n",
            "Epoch 16/30\n",
            "\u001b[1m363/363\u001b[0m \u001b[32m━━━━━━━━━━━━━━━━━━━━\u001b[0m\u001b[37m\u001b[0m \u001b[1m1s\u001b[0m 3ms/step - loss: 0.3705 - mean_absolute_error: 0.4329 - val_loss: 0.3497 - val_mean_absolute_error: 0.4204\n",
            "Epoch 17/30\n",
            "\u001b[1m363/363\u001b[0m \u001b[32m━━━━━━━━━━━━━━━━━━━━\u001b[0m\u001b[37m\u001b[0m \u001b[1m1s\u001b[0m 3ms/step - loss: 0.3673 - mean_absolute_error: 0.4260 - val_loss: 0.3464 - val_mean_absolute_error: 0.4240\n",
            "Epoch 18/30\n",
            "\u001b[1m363/363\u001b[0m \u001b[32m━━━━━━━━━━━━━━━━━━━━\u001b[0m\u001b[37m\u001b[0m \u001b[1m2s\u001b[0m 3ms/step - loss: 0.3717 - mean_absolute_error: 0.4300 - val_loss: 0.3455 - val_mean_absolute_error: 0.4210\n",
            "Epoch 19/30\n",
            "\u001b[1m363/363\u001b[0m \u001b[32m━━━━━━━━━━━━━━━━━━━━\u001b[0m\u001b[37m\u001b[0m \u001b[1m2s\u001b[0m 2ms/step - loss: 0.3567 - mean_absolute_error: 0.4212 - val_loss: 0.3409 - val_mean_absolute_error: 0.4045\n",
            "Epoch 20/30\n",
            "\u001b[1m363/363\u001b[0m \u001b[32m━━━━━━━━━━━━━━━━━━━━\u001b[0m\u001b[37m\u001b[0m \u001b[1m1s\u001b[0m 2ms/step - loss: 0.3500 - mean_absolute_error: 0.4093 - val_loss: 0.3330 - val_mean_absolute_error: 0.4111\n",
            "Epoch 21/30\n",
            "\u001b[1m363/363\u001b[0m \u001b[32m━━━━━━━━━━━━━━━━━━━━\u001b[0m\u001b[37m\u001b[0m \u001b[1m1s\u001b[0m 2ms/step - loss: 0.3344 - mean_absolute_error: 0.4087 - val_loss: 0.3204 - val_mean_absolute_error: 0.3997\n",
            "Epoch 22/30\n",
            "\u001b[1m363/363\u001b[0m \u001b[32m━━━━━━━━━━━━━━━━━━━━\u001b[0m\u001b[37m\u001b[0m \u001b[1m1s\u001b[0m 2ms/step - loss: 0.3341 - mean_absolute_error: 0.4083 - val_loss: 0.3189 - val_mean_absolute_error: 0.4035\n",
            "Epoch 23/30\n",
            "\u001b[1m363/363\u001b[0m \u001b[32m━━━━━━━━━━━━━━━━━━━━\u001b[0m\u001b[37m\u001b[0m \u001b[1m1s\u001b[0m 3ms/step - loss: 0.3375 - mean_absolute_error: 0.4084 - val_loss: 0.3190 - val_mean_absolute_error: 0.3915\n",
            "Epoch 24/30\n",
            "\u001b[1m363/363\u001b[0m \u001b[32m━━━━━━━━━━━━━━━━━━━━\u001b[0m\u001b[37m\u001b[0m \u001b[1m1s\u001b[0m 3ms/step - loss: 0.3233 - mean_absolute_error: 0.3989 - val_loss: 0.3167 - val_mean_absolute_error: 0.3943\n",
            "Epoch 25/30\n",
            "\u001b[1m363/363\u001b[0m \u001b[32m━━━━━━━━━━━━━━━━━━━━\u001b[0m\u001b[37m\u001b[0m \u001b[1m1s\u001b[0m 2ms/step - loss: 0.3274 - mean_absolute_error: 0.4021 - val_loss: 0.3308 - val_mean_absolute_error: 0.4023\n",
            "Epoch 26/30\n",
            "\u001b[1m363/363\u001b[0m \u001b[32m━━━━━━━━━━━━━━━━━━━━\u001b[0m\u001b[37m\u001b[0m \u001b[1m1s\u001b[0m 2ms/step - loss: 0.3180 - mean_absolute_error: 0.3974 - val_loss: 0.3076 - val_mean_absolute_error: 0.3896\n",
            "Epoch 27/30\n",
            "\u001b[1m363/363\u001b[0m \u001b[32m━━━━━━━━━━━━━━━━━━━━\u001b[0m\u001b[37m\u001b[0m \u001b[1m1s\u001b[0m 3ms/step - loss: 0.3450 - mean_absolute_error: 0.4067 - val_loss: 0.3082 - val_mean_absolute_error: 0.3873\n",
            "Epoch 28/30\n",
            "\u001b[1m363/363\u001b[0m \u001b[32m━━━━━━━━━━━━━━━━━━━━\u001b[0m\u001b[37m\u001b[0m \u001b[1m2s\u001b[0m 4ms/step - loss: 0.3279 - mean_absolute_error: 0.4029 - val_loss: 0.3029 - val_mean_absolute_error: 0.3841\n",
            "Epoch 29/30\n",
            "\u001b[1m363/363\u001b[0m \u001b[32m━━━━━━━━━━━━━━━━━━━━\u001b[0m\u001b[37m\u001b[0m \u001b[1m2s\u001b[0m 2ms/step - loss: 0.3281 - mean_absolute_error: 0.3921 - val_loss: 0.3028 - val_mean_absolute_error: 0.3958\n",
            "Epoch 30/30\n",
            "\u001b[1m363/363\u001b[0m \u001b[32m━━━━━━━━━━━━━━━━━━━━\u001b[0m\u001b[37m\u001b[0m \u001b[1m1s\u001b[0m 3ms/step - loss: 0.3140 - mean_absolute_error: 0.3903 - val_loss: 0.3027 - val_mean_absolute_error: 0.3941\n"
          ]
        },
        {
          "output_type": "execute_result",
          "data": {
            "text/plain": [
              "<keras.src.callbacks.history.History at 0x7990c9825610>"
            ]
          },
          "metadata": {},
          "execution_count": 22
        }
      ]
    },
    {
      "cell_type": "markdown",
      "source": [
        "# deep and wide ---> input_1, input_2"
      ],
      "metadata": {
        "id": "Rvf7o3F0yaxO"
      }
    },
    {
      "cell_type": "code",
      "source": [
        "X_train_s_1, X_train_s_2 = X_train_s[:, :6], X_train_s[:, -4:]\n",
        "X_validation_s_1, X_validation_s_2 = X_validation_s[:, :6], X_validation_s[:, -4:]\n",
        "X_test_s_1, X_test_s_2 = X_test_s[:, :6], X_test_s[:, -4:]"
      ],
      "metadata": {
        "id": "R0DatggTzSsD"
      },
      "execution_count": 26,
      "outputs": []
    },
    {
      "cell_type": "code",
      "source": [
        "input_1 = keras.layers.Input(shape=[6])\n",
        "input_2 = keras.layers.Input(shape=[4])\n",
        "hidden_layer1 = keras.layers.Dense(50, activation='relu')(input_1)\n",
        "hidden_layer2 = keras.layers.Dense(10, activation='relu')(hidden_layer1)\n",
        "concatenate_layer = keras.layers.Concatenate()([input_2, hidden_layer2])\n",
        "output_ = keras.layers.Dense(1)(concatenate_layer)\n",
        "model = keras.Model(inputs=[input_1, input_2], outputs=[output_])"
      ],
      "metadata": {
        "id": "2SHw0iQwyC7v"
      },
      "execution_count": 27,
      "outputs": []
    },
    {
      "cell_type": "code",
      "source": [
        "model.compile(optimizer='sgd',\n",
        "              loss='mse',\n",
        "              metrics=['mean_absolute_error'])"
      ],
      "metadata": {
        "id": "mBdTd0quzFrj"
      },
      "execution_count": 28,
      "outputs": []
    },
    {
      "cell_type": "code",
      "source": [
        "model.fit((X_train_s_1, X_train_s_2), y_train1, epochs=30,\n",
        "          validation_data=[(X_validation_s_1, X_validation_s_2), y_validation])"
      ],
      "metadata": {
        "colab": {
          "base_uri": "https://localhost:8080/"
        },
        "id": "Np5iVCzQzFNb",
        "outputId": "16d64755-b692-431f-d70c-d0611d457732"
      },
      "execution_count": 29,
      "outputs": [
        {
          "output_type": "stream",
          "name": "stdout",
          "text": [
            "Epoch 1/30\n",
            "\u001b[1m363/363\u001b[0m \u001b[32m━━━━━━━━━━━━━━━━━━━━\u001b[0m\u001b[37m\u001b[0m \u001b[1m2s\u001b[0m 3ms/step - loss: 1.2861 - mean_absolute_error: 0.7505 - val_loss: 0.5296 - val_mean_absolute_error: 0.5385\n",
            "Epoch 2/30\n",
            "\u001b[1m363/363\u001b[0m \u001b[32m━━━━━━━━━━━━━━━━━━━━\u001b[0m\u001b[37m\u001b[0m \u001b[1m1s\u001b[0m 3ms/step - loss: 0.5644 - mean_absolute_error: 0.5439 - val_loss: 0.4803 - val_mean_absolute_error: 0.4975\n",
            "Epoch 3/30\n",
            "\u001b[1m363/363\u001b[0m \u001b[32m━━━━━━━━━━━━━━━━━━━━\u001b[0m\u001b[37m\u001b[0m \u001b[1m1s\u001b[0m 2ms/step - loss: 0.6552 - mean_absolute_error: 0.5183 - val_loss: 0.4751 - val_mean_absolute_error: 0.5034\n",
            "Epoch 4/30\n",
            "\u001b[1m363/363\u001b[0m \u001b[32m━━━━━━━━━━━━━━━━━━━━\u001b[0m\u001b[37m\u001b[0m \u001b[1m1s\u001b[0m 2ms/step - loss: 0.4609 - mean_absolute_error: 0.4931 - val_loss: 0.4403 - val_mean_absolute_error: 0.4901\n",
            "Epoch 5/30\n",
            "\u001b[1m363/363\u001b[0m \u001b[32m━━━━━━━━━━━━━━━━━━━━\u001b[0m\u001b[37m\u001b[0m \u001b[1m1s\u001b[0m 3ms/step - loss: 0.4621 - mean_absolute_error: 0.4861 - val_loss: 0.4358 - val_mean_absolute_error: 0.4788\n",
            "Epoch 6/30\n",
            "\u001b[1m363/363\u001b[0m \u001b[32m━━━━━━━━━━━━━━━━━━━━\u001b[0m\u001b[37m\u001b[0m \u001b[1m1s\u001b[0m 3ms/step - loss: 0.4381 - mean_absolute_error: 0.4828 - val_loss: 0.4335 - val_mean_absolute_error: 0.4861\n",
            "Epoch 7/30\n",
            "\u001b[1m363/363\u001b[0m \u001b[32m━━━━━━━━━━━━━━━━━━━━\u001b[0m\u001b[37m\u001b[0m \u001b[1m1s\u001b[0m 3ms/step - loss: 0.4269 - mean_absolute_error: 0.4799 - val_loss: 0.4149 - val_mean_absolute_error: 0.4747\n",
            "Epoch 8/30\n",
            "\u001b[1m363/363\u001b[0m \u001b[32m━━━━━━━━━━━━━━━━━━━━\u001b[0m\u001b[37m\u001b[0m \u001b[1m1s\u001b[0m 3ms/step - loss: 0.4110 - mean_absolute_error: 0.4685 - val_loss: 0.4087 - val_mean_absolute_error: 0.4589\n",
            "Epoch 9/30\n",
            "\u001b[1m363/363\u001b[0m \u001b[32m━━━━━━━━━━━━━━━━━━━━\u001b[0m\u001b[37m\u001b[0m \u001b[1m1s\u001b[0m 2ms/step - loss: 0.4127 - mean_absolute_error: 0.4656 - val_loss: 0.4081 - val_mean_absolute_error: 0.4653\n",
            "Epoch 10/30\n",
            "\u001b[1m363/363\u001b[0m \u001b[32m━━━━━━━━━━━━━━━━━━━━\u001b[0m\u001b[37m\u001b[0m \u001b[1m1s\u001b[0m 2ms/step - loss: 0.4942 - mean_absolute_error: 0.4669 - val_loss: 0.3902 - val_mean_absolute_error: 0.4557\n",
            "Epoch 11/30\n",
            "\u001b[1m363/363\u001b[0m \u001b[32m━━━━━━━━━━━━━━━━━━━━\u001b[0m\u001b[37m\u001b[0m \u001b[1m1s\u001b[0m 3ms/step - loss: 0.4016 - mean_absolute_error: 0.4609 - val_loss: 0.3858 - val_mean_absolute_error: 0.4528\n",
            "Epoch 12/30\n",
            "\u001b[1m363/363\u001b[0m \u001b[32m━━━━━━━━━━━━━━━━━━━━\u001b[0m\u001b[37m\u001b[0m \u001b[1m1s\u001b[0m 3ms/step - loss: 0.4215 - mean_absolute_error: 0.4627 - val_loss: 0.3867 - val_mean_absolute_error: 0.4631\n",
            "Epoch 13/30\n",
            "\u001b[1m363/363\u001b[0m \u001b[32m━━━━━━━━━━━━━━━━━━━━\u001b[0m\u001b[37m\u001b[0m \u001b[1m1s\u001b[0m 3ms/step - loss: 0.3908 - mean_absolute_error: 0.4552 - val_loss: 0.3851 - val_mean_absolute_error: 0.4571\n",
            "Epoch 14/30\n",
            "\u001b[1m363/363\u001b[0m \u001b[32m━━━━━━━━━━━━━━━━━━━━\u001b[0m\u001b[37m\u001b[0m \u001b[1m1s\u001b[0m 3ms/step - loss: 0.3933 - mean_absolute_error: 0.4589 - val_loss: 0.3731 - val_mean_absolute_error: 0.4391\n",
            "Epoch 15/30\n",
            "\u001b[1m363/363\u001b[0m \u001b[32m━━━━━━━━━━━━━━━━━━━━\u001b[0m\u001b[37m\u001b[0m \u001b[1m1s\u001b[0m 2ms/step - loss: 0.4142 - mean_absolute_error: 0.4584 - val_loss: 0.3747 - val_mean_absolute_error: 0.4466\n",
            "Epoch 16/30\n",
            "\u001b[1m363/363\u001b[0m \u001b[32m━━━━━━━━━━━━━━━━━━━━\u001b[0m\u001b[37m\u001b[0m \u001b[1m2s\u001b[0m 4ms/step - loss: 0.4078 - mean_absolute_error: 0.4569 - val_loss: 0.3757 - val_mean_absolute_error: 0.4533\n",
            "Epoch 17/30\n",
            "\u001b[1m363/363\u001b[0m \u001b[32m━━━━━━━━━━━━━━━━━━━━\u001b[0m\u001b[37m\u001b[0m \u001b[1m2s\u001b[0m 2ms/step - loss: 0.3927 - mean_absolute_error: 0.4546 - val_loss: 0.3829 - val_mean_absolute_error: 0.4390\n",
            "Epoch 18/30\n",
            "\u001b[1m363/363\u001b[0m \u001b[32m━━━━━━━━━━━━━━━━━━━━\u001b[0m\u001b[37m\u001b[0m \u001b[1m2s\u001b[0m 4ms/step - loss: 0.3796 - mean_absolute_error: 0.4402 - val_loss: 0.3608 - val_mean_absolute_error: 0.4441\n",
            "Epoch 19/30\n",
            "\u001b[1m363/363\u001b[0m \u001b[32m━━━━━━━━━━━━━━━━━━━━\u001b[0m\u001b[37m\u001b[0m \u001b[1m2s\u001b[0m 2ms/step - loss: 0.3787 - mean_absolute_error: 0.4487 - val_loss: 0.3652 - val_mean_absolute_error: 0.4355\n",
            "Epoch 20/30\n",
            "\u001b[1m363/363\u001b[0m \u001b[32m━━━━━━━━━━━━━━━━━━━━\u001b[0m\u001b[37m\u001b[0m \u001b[1m1s\u001b[0m 3ms/step - loss: 0.3684 - mean_absolute_error: 0.4414 - val_loss: 0.3560 - val_mean_absolute_error: 0.4453\n",
            "Epoch 21/30\n",
            "\u001b[1m363/363\u001b[0m \u001b[32m━━━━━━━━━━━━━━━━━━━━\u001b[0m\u001b[37m\u001b[0m \u001b[1m1s\u001b[0m 3ms/step - loss: 0.3928 - mean_absolute_error: 0.4490 - val_loss: 0.3572 - val_mean_absolute_error: 0.4305\n",
            "Epoch 22/30\n",
            "\u001b[1m363/363\u001b[0m \u001b[32m━━━━━━━━━━━━━━━━━━━━\u001b[0m\u001b[37m\u001b[0m \u001b[1m1s\u001b[0m 2ms/step - loss: 0.3840 - mean_absolute_error: 0.4475 - val_loss: 0.3787 - val_mean_absolute_error: 0.4408\n",
            "Epoch 23/30\n",
            "\u001b[1m363/363\u001b[0m \u001b[32m━━━━━━━━━━━━━━━━━━━━\u001b[0m\u001b[37m\u001b[0m \u001b[1m1s\u001b[0m 3ms/step - loss: 0.3760 - mean_absolute_error: 0.4382 - val_loss: 0.3475 - val_mean_absolute_error: 0.4263\n",
            "Epoch 24/30\n",
            "\u001b[1m363/363\u001b[0m \u001b[32m━━━━━━━━━━━━━━━━━━━━\u001b[0m\u001b[37m\u001b[0m \u001b[1m2s\u001b[0m 4ms/step - loss: 0.3530 - mean_absolute_error: 0.4328 - val_loss: 0.3472 - val_mean_absolute_error: 0.4384\n",
            "Epoch 25/30\n",
            "\u001b[1m363/363\u001b[0m \u001b[32m━━━━━━━━━━━━━━━━━━━━\u001b[0m\u001b[37m\u001b[0m \u001b[1m2s\u001b[0m 2ms/step - loss: 0.3806 - mean_absolute_error: 0.4435 - val_loss: 0.3468 - val_mean_absolute_error: 0.4321\n",
            "Epoch 26/30\n",
            "\u001b[1m363/363\u001b[0m \u001b[32m━━━━━━━━━━━━━━━━━━━━\u001b[0m\u001b[37m\u001b[0m \u001b[1m1s\u001b[0m 3ms/step - loss: 0.3820 - mean_absolute_error: 0.4414 - val_loss: 0.3495 - val_mean_absolute_error: 0.4283\n",
            "Epoch 27/30\n",
            "\u001b[1m363/363\u001b[0m \u001b[32m━━━━━━━━━━━━━━━━━━━━\u001b[0m\u001b[37m\u001b[0m \u001b[1m1s\u001b[0m 3ms/step - loss: 0.3825 - mean_absolute_error: 0.4444 - val_loss: 0.3627 - val_mean_absolute_error: 0.4302\n",
            "Epoch 28/30\n",
            "\u001b[1m363/363\u001b[0m \u001b[32m━━━━━━━━━━━━━━━━━━━━\u001b[0m\u001b[37m\u001b[0m \u001b[1m1s\u001b[0m 2ms/step - loss: 0.3529 - mean_absolute_error: 0.4298 - val_loss: 0.3464 - val_mean_absolute_error: 0.4311\n",
            "Epoch 29/30\n",
            "\u001b[1m363/363\u001b[0m \u001b[32m━━━━━━━━━━━━━━━━━━━━\u001b[0m\u001b[37m\u001b[0m \u001b[1m1s\u001b[0m 2ms/step - loss: 0.3558 - mean_absolute_error: 0.4264 - val_loss: 0.3509 - val_mean_absolute_error: 0.4326\n",
            "Epoch 30/30\n",
            "\u001b[1m363/363\u001b[0m \u001b[32m━━━━━━━━━━━━━━━━━━━━\u001b[0m\u001b[37m\u001b[0m \u001b[1m1s\u001b[0m 2ms/step - loss: 0.3849 - mean_absolute_error: 0.4353 - val_loss: 0.3549 - val_mean_absolute_error: 0.4255\n"
          ]
        },
        {
          "output_type": "execute_result",
          "data": {
            "text/plain": [
              "<keras.src.callbacks.history.History at 0x7990ccf71250>"
            ]
          },
          "metadata": {},
          "execution_count": 29
        }
      ]
    }
  ],
  "metadata": {
    "colab": {
      "provenance": [],
      "authorship_tag": "ABX9TyO8KYgnZSJKi3IeZpKUWROD",
      "include_colab_link": true
    },
    "kernelspec": {
      "display_name": "Python 3",
      "name": "python3"
    },
    "language_info": {
      "name": "python"
    }
  },
  "nbformat": 4,
  "nbformat_minor": 0
}