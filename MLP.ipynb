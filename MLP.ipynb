{
  "nbformat": 4,
  "nbformat_minor": 0,
  "metadata": {
    "colab": {
      "provenance": [],
      "authorship_tag": "ABX9TyNqUS7G5FfgMHH79D2FPkmW",
      "include_colab_link": true
    },
    "kernelspec": {
      "name": "python3",
      "display_name": "Python 3"
    },
    "language_info": {
      "name": "python"
    }
  },
  "cells": [
    {
      "cell_type": "markdown",
      "metadata": {
        "id": "view-in-github",
        "colab_type": "text"
      },
      "source": [
        "<a href=\"https://colab.research.google.com/github/mandananaderi/MLP_Projects_2025/blob/main/MLP.ipynb\" target=\"_parent\"><img src=\"https://colab.research.google.com/assets/colab-badge.svg\" alt=\"Open In Colab\"/></a>"
      ]
    },
    {
      "cell_type": "code",
      "execution_count": 1,
      "metadata": {
        "id": "UqdSGadOdKmq"
      },
      "outputs": [],
      "source": [
        "import tensorflow as tf\n",
        "import numpy as np\n",
        "import pandas as pd\n",
        "import matplotlib.pyplot as plt\n",
        "import keras"
      ]
    },
    {
      "cell_type": "code",
      "source": [
        "fmnist_data = keras.datasets.fashion_mnist"
      ],
      "metadata": {
        "id": "ZNo5k9vwdZdL"
      },
      "execution_count": 2,
      "outputs": []
    },
    {
      "cell_type": "code",
      "source": [
        "(x_train, y_train), (x_test, y_test) = fmnist_data.load_data()"
      ],
      "metadata": {
        "colab": {
          "base_uri": "https://localhost:8080/"
        },
        "id": "4hvcQrm4dZsI",
        "outputId": "9f7bb950-09d7-4013-bb43-6ad4adb74147"
      },
      "execution_count": 3,
      "outputs": [
        {
          "output_type": "stream",
          "name": "stdout",
          "text": [
            "Downloading data from https://storage.googleapis.com/tensorflow/tf-keras-datasets/train-labels-idx1-ubyte.gz\n",
            "\u001b[1m29515/29515\u001b[0m \u001b[32m━━━━━━━━━━━━━━━━━━━━\u001b[0m\u001b[37m\u001b[0m \u001b[1m0s\u001b[0m 0us/step\n",
            "Downloading data from https://storage.googleapis.com/tensorflow/tf-keras-datasets/train-images-idx3-ubyte.gz\n",
            "\u001b[1m26421880/26421880\u001b[0m \u001b[32m━━━━━━━━━━━━━━━━━━━━\u001b[0m\u001b[37m\u001b[0m \u001b[1m0s\u001b[0m 0us/step\n",
            "Downloading data from https://storage.googleapis.com/tensorflow/tf-keras-datasets/t10k-labels-idx1-ubyte.gz\n",
            "\u001b[1m5148/5148\u001b[0m \u001b[32m━━━━━━━━━━━━━━━━━━━━\u001b[0m\u001b[37m\u001b[0m \u001b[1m0s\u001b[0m 0us/step\n",
            "Downloading data from https://storage.googleapis.com/tensorflow/tf-keras-datasets/t10k-images-idx3-ubyte.gz\n",
            "\u001b[1m4422102/4422102\u001b[0m \u001b[32m━━━━━━━━━━━━━━━━━━━━\u001b[0m\u001b[37m\u001b[0m \u001b[1m0s\u001b[0m 0us/step\n"
          ]
        }
      ]
    },
    {
      "cell_type": "code",
      "source": [
        "x_train.shape"
      ],
      "metadata": {
        "colab": {
          "base_uri": "https://localhost:8080/"
        },
        "id": "Twm74KT6dZ3w",
        "outputId": "80996a5a-9749-4d90-fcd4-815cd8bcfdfc"
      },
      "execution_count": 4,
      "outputs": [
        {
          "output_type": "execute_result",
          "data": {
            "text/plain": [
              "(60000, 28, 28)"
            ]
          },
          "metadata": {},
          "execution_count": 4
        }
      ]
    },
    {
      "cell_type": "code",
      "source": [
        "x_train[1,]"
      ],
      "metadata": {
        "colab": {
          "base_uri": "https://localhost:8080/"
        },
        "collapsed": true,
        "id": "rOclAQSgdaTg",
        "outputId": "4db4d451-4f19-4d60-984f-6ed05ce9ab49"
      },
      "execution_count": 9,
      "outputs": [
        {
          "output_type": "execute_result",
          "data": {
            "text/plain": [
              "array([[0.        , 0.        , 0.        , 0.        , 0.        ,\n",
              "        0.00392157, 0.        , 0.        , 0.        , 0.        ,\n",
              "        0.16078432, 0.7372549 , 0.40392157, 0.21176471, 0.1882353 ,\n",
              "        0.16862746, 0.34117648, 0.65882355, 0.52156866, 0.0627451 ,\n",
              "        0.        , 0.        , 0.        , 0.        , 0.        ,\n",
              "        0.        , 0.        , 0.        ],\n",
              "       [0.        , 0.        , 0.        , 0.00392157, 0.        ,\n",
              "        0.        , 0.        , 0.19215687, 0.53333336, 0.85882354,\n",
              "        0.84705883, 0.89411765, 0.9254902 , 1.        , 1.        ,\n",
              "        1.        , 1.        , 0.8509804 , 0.84313726, 0.99607843,\n",
              "        0.90588236, 0.627451  , 0.1764706 , 0.        , 0.        ,\n",
              "        0.        , 0.        , 0.        ],\n",
              "       [0.        , 0.        , 0.        , 0.        , 0.        ,\n",
              "        0.05490196, 0.6901961 , 0.87058824, 0.8784314 , 0.83137256,\n",
              "        0.79607844, 0.7764706 , 0.76862746, 0.78431374, 0.84313726,\n",
              "        0.8       , 0.7921569 , 0.7882353 , 0.7882353 , 0.7882353 ,\n",
              "        0.81960785, 0.85490197, 0.8784314 , 0.6431373 , 0.        ,\n",
              "        0.        , 0.        , 0.        ],\n",
              "       [0.        , 0.        , 0.        , 0.        , 0.        ,\n",
              "        0.7372549 , 0.85882354, 0.78431374, 0.7764706 , 0.7921569 ,\n",
              "        0.7764706 , 0.78039217, 0.78039217, 0.7882353 , 0.76862746,\n",
              "        0.7764706 , 0.7764706 , 0.78431374, 0.78431374, 0.78431374,\n",
              "        0.78431374, 0.7882353 , 0.78431374, 0.88235295, 0.16078432,\n",
              "        0.        , 0.        , 0.        ],\n",
              "       [0.        , 0.        , 0.        , 0.        , 0.2       ,\n",
              "        0.85882354, 0.78039217, 0.79607844, 0.79607844, 0.83137256,\n",
              "        0.93333334, 0.972549  , 0.98039216, 0.9607843 , 0.9764706 ,\n",
              "        0.9647059 , 0.96862745, 0.9882353 , 0.972549  , 0.92156863,\n",
              "        0.8117647 , 0.79607844, 0.79607844, 0.87058824, 0.54901963,\n",
              "        0.        , 0.        , 0.        ],\n",
              "       [0.        , 0.        , 0.        , 0.        , 0.45490196,\n",
              "        0.8862745 , 0.80784315, 0.8       , 0.8117647 , 0.8       ,\n",
              "        0.39607844, 0.29411766, 0.18431373, 0.28627452, 0.1882353 ,\n",
              "        0.19607843, 0.1764706 , 0.2       , 0.24705882, 0.44313726,\n",
              "        0.87058824, 0.7921569 , 0.80784315, 0.8627451 , 0.8784314 ,\n",
              "        0.        , 0.        , 0.        ],\n",
              "       [0.        , 0.        , 0.        , 0.        , 0.78431374,\n",
              "        0.87058824, 0.81960785, 0.79607844, 0.84313726, 0.78431374,\n",
              "        0.        , 0.27450982, 0.38431373, 0.        , 0.40392157,\n",
              "        0.23137255, 0.26666668, 0.2784314 , 0.19215687, 0.        ,\n",
              "        0.85882354, 0.80784315, 0.8392157 , 0.8235294 , 0.98039216,\n",
              "        0.14901961, 0.        , 0.        ],\n",
              "       [0.        , 0.        , 0.        , 0.        , 0.96862745,\n",
              "        0.85490197, 0.83137256, 0.8235294 , 0.84313726, 0.8392157 ,\n",
              "        0.        , 0.99607843, 0.9529412 , 0.54509807, 1.        ,\n",
              "        0.68235296, 0.9843137 , 1.        , 0.8039216 , 0.        ,\n",
              "        0.84313726, 0.8509804 , 0.8392157 , 0.8156863 , 0.8627451 ,\n",
              "        0.37254903, 0.        , 0.        ],\n",
              "       [0.        , 0.        , 0.        , 0.1764706 , 0.8862745 ,\n",
              "        0.8392157 , 0.8392157 , 0.84313726, 0.8784314 , 0.8039216 ,\n",
              "        0.        , 0.16470589, 0.13725491, 0.23529412, 0.0627451 ,\n",
              "        0.06666667, 0.04705882, 0.05098039, 0.27450982, 0.        ,\n",
              "        0.7411765 , 0.84705883, 0.83137256, 0.80784315, 0.83137256,\n",
              "        0.6117647 , 0.        , 0.        ],\n",
              "       [0.        , 0.        , 0.        , 0.6431373 , 0.92156863,\n",
              "        0.8392157 , 0.827451  , 0.8627451 , 0.84705883, 0.7882353 ,\n",
              "        0.20392157, 0.2784314 , 0.34901962, 0.36862746, 0.3254902 ,\n",
              "        0.30588236, 0.27450982, 0.29803923, 0.36078432, 0.34117648,\n",
              "        0.80784315, 0.8117647 , 0.87058824, 0.8352941 , 0.85882354,\n",
              "        0.8156863 , 0.        , 0.        ],\n",
              "       [0.        , 0.        , 0.        , 0.41568628, 0.73333335,\n",
              "        0.8745098 , 0.92941177, 0.972549  , 0.827451  , 0.7764706 ,\n",
              "        0.9882353 , 0.98039216, 0.972549  , 0.9607843 , 0.972549  ,\n",
              "        0.9882353 , 0.99215686, 0.98039216, 0.9882353 , 0.9372549 ,\n",
              "        0.7882353 , 0.83137256, 0.88235295, 0.84313726, 0.75686276,\n",
              "        0.44313726, 0.        , 0.        ],\n",
              "       [0.        , 0.        , 0.        , 0.        , 0.        ,\n",
              "        0.06666667, 0.21176471, 0.62352943, 0.87058824, 0.75686276,\n",
              "        0.8156863 , 0.7529412 , 0.77254903, 0.78431374, 0.78431374,\n",
              "        0.78431374, 0.78431374, 0.7882353 , 0.79607844, 0.7647059 ,\n",
              "        0.8235294 , 0.64705884, 0.        , 0.        , 0.        ,\n",
              "        0.        , 0.        , 0.        ],\n",
              "       [0.        , 0.        , 0.        , 0.        , 0.        ,\n",
              "        0.        , 0.        , 0.18431373, 0.88235295, 0.7529412 ,\n",
              "        0.8392157 , 0.79607844, 0.80784315, 0.8       , 0.8       ,\n",
              "        0.8039216 , 0.80784315, 0.8       , 0.83137256, 0.77254903,\n",
              "        0.85490197, 0.41960785, 0.        , 0.        , 0.        ,\n",
              "        0.        , 0.        , 0.        ],\n",
              "       [0.        , 0.        , 0.        , 0.        , 0.00392157,\n",
              "        0.02352941, 0.        , 0.18039216, 0.83137256, 0.7647059 ,\n",
              "        0.83137256, 0.7921569 , 0.80784315, 0.8039216 , 0.8       ,\n",
              "        0.8039216 , 0.80784315, 0.8       , 0.83137256, 0.78431374,\n",
              "        0.85490197, 0.35686275, 0.        , 0.01176471, 0.00392157,\n",
              "        0.        , 0.        , 0.        ],\n",
              "       [0.        , 0.        , 0.        , 0.        , 0.        ,\n",
              "        0.00392157, 0.        , 0.04313726, 0.77254903, 0.78039217,\n",
              "        0.8039216 , 0.7921569 , 0.8039216 , 0.80784315, 0.8       ,\n",
              "        0.8039216 , 0.8117647 , 0.8       , 0.8039216 , 0.8039216 ,\n",
              "        0.85490197, 0.3019608 , 0.        , 0.01960784, 0.        ,\n",
              "        0.        , 0.        , 0.        ],\n",
              "       [0.        , 0.        , 0.        , 0.        , 0.        ,\n",
              "        0.01176471, 0.        , 0.00784314, 0.7490196 , 0.7764706 ,\n",
              "        0.7882353 , 0.8039216 , 0.80784315, 0.8039216 , 0.8039216 ,\n",
              "        0.80784315, 0.81960785, 0.80784315, 0.78039217, 0.81960785,\n",
              "        0.85882354, 0.2901961 , 0.        , 0.01960784, 0.        ,\n",
              "        0.        , 0.        , 0.        ],\n",
              "       [0.        , 0.        , 0.        , 0.        , 0.        ,\n",
              "        0.00784314, 0.        , 0.        , 0.7372549 , 0.77254903,\n",
              "        0.78431374, 0.8117647 , 0.8117647 , 0.8       , 0.8117647 ,\n",
              "        0.8117647 , 0.8235294 , 0.8156863 , 0.7764706 , 0.8117647 ,\n",
              "        0.8666667 , 0.28235295, 0.        , 0.01568628, 0.        ,\n",
              "        0.        , 0.        , 0.        ],\n",
              "       [0.        , 0.        , 0.        , 0.        , 0.        ,\n",
              "        0.00784314, 0.        , 0.        , 0.84313726, 0.7764706 ,\n",
              "        0.79607844, 0.80784315, 0.8156863 , 0.8039216 , 0.8117647 ,\n",
              "        0.8117647 , 0.8235294 , 0.8156863 , 0.78431374, 0.7921569 ,\n",
              "        0.87058824, 0.29411766, 0.        , 0.01568628, 0.        ,\n",
              "        0.        , 0.        , 0.        ],\n",
              "       [0.        , 0.        , 0.        , 0.        , 0.        ,\n",
              "        0.00392157, 0.        , 0.        , 0.83137256, 0.7764706 ,\n",
              "        0.81960785, 0.80784315, 0.81960785, 0.80784315, 0.8156863 ,\n",
              "        0.8117647 , 0.827451  , 0.80784315, 0.8039216 , 0.7764706 ,\n",
              "        0.8666667 , 0.3137255 , 0.        , 0.01176471, 0.        ,\n",
              "        0.        , 0.        , 0.        ],\n",
              "       [0.        , 0.        , 0.        , 0.        , 0.        ,\n",
              "        0.00392157, 0.        , 0.        , 0.8       , 0.7882353 ,\n",
              "        0.8039216 , 0.8156863 , 0.8117647 , 0.8039216 , 0.827451  ,\n",
              "        0.8039216 , 0.8235294 , 0.8235294 , 0.81960785, 0.7647059 ,\n",
              "        0.8666667 , 0.3764706 , 0.        , 0.01176471, 0.        ,\n",
              "        0.        , 0.        , 0.        ],\n",
              "       [0.        , 0.        , 0.        , 0.        , 0.        ,\n",
              "        0.00392157, 0.        , 0.        , 0.7921569 , 0.7882353 ,\n",
              "        0.8039216 , 0.81960785, 0.8117647 , 0.8039216 , 0.8352941 ,\n",
              "        0.80784315, 0.8235294 , 0.81960785, 0.8235294 , 0.7607843 ,\n",
              "        0.8509804 , 0.4117647 , 0.        , 0.00784314, 0.        ,\n",
              "        0.        , 0.        , 0.        ],\n",
              "       [0.        , 0.        , 0.        , 0.        , 0.        ,\n",
              "        0.00392157, 0.        , 0.        , 0.8       , 0.8       ,\n",
              "        0.8039216 , 0.8156863 , 0.8117647 , 0.8039216 , 0.84313726,\n",
              "        0.8117647 , 0.8235294 , 0.8156863 , 0.827451  , 0.75686276,\n",
              "        0.8352941 , 0.4509804 , 0.        , 0.00784314, 0.        ,\n",
              "        0.        , 0.        , 0.        ],\n",
              "       [0.        , 0.        , 0.        , 0.        , 0.        ,\n",
              "        0.        , 0.        , 0.        , 0.8       , 0.8117647 ,\n",
              "        0.8117647 , 0.8156863 , 0.80784315, 0.80784315, 0.84313726,\n",
              "        0.8235294 , 0.8235294 , 0.8117647 , 0.83137256, 0.7647059 ,\n",
              "        0.8235294 , 0.4627451 , 0.        , 0.00784314, 0.        ,\n",
              "        0.        , 0.        , 0.        ],\n",
              "       [0.        , 0.        , 0.        , 0.        , 0.        ,\n",
              "        0.00392157, 0.        , 0.        , 0.7764706 , 0.8156863 ,\n",
              "        0.8156863 , 0.8156863 , 0.8       , 0.8117647 , 0.83137256,\n",
              "        0.83137256, 0.8235294 , 0.8117647 , 0.827451  , 0.76862746,\n",
              "        0.8117647 , 0.4745098 , 0.        , 0.00392157, 0.        ,\n",
              "        0.        , 0.        , 0.        ],\n",
              "       [0.        , 0.        , 0.        , 0.        , 0.        ,\n",
              "        0.00392157, 0.        , 0.        , 0.7764706 , 0.8235294 ,\n",
              "        0.8117647 , 0.8156863 , 0.80784315, 0.81960785, 0.8352941 ,\n",
              "        0.83137256, 0.827451  , 0.8117647 , 0.8235294 , 0.77254903,\n",
              "        0.8117647 , 0.4862745 , 0.        , 0.00392157, 0.        ,\n",
              "        0.        , 0.        , 0.        ],\n",
              "       [0.        , 0.        , 0.        , 0.        , 0.        ,\n",
              "        0.        , 0.        , 0.        , 0.6745098 , 0.8235294 ,\n",
              "        0.79607844, 0.7882353 , 0.78039217, 0.8       , 0.8117647 ,\n",
              "        0.8039216 , 0.8       , 0.7882353 , 0.8039216 , 0.77254903,\n",
              "        0.80784315, 0.49803922, 0.        , 0.        , 0.        ,\n",
              "        0.        , 0.        , 0.        ],\n",
              "       [0.        , 0.        , 0.        , 0.        , 0.        ,\n",
              "        0.        , 0.        , 0.        , 0.7372549 , 0.8666667 ,\n",
              "        0.8392157 , 0.91764706, 0.9254902 , 0.93333334, 0.95686275,\n",
              "        0.95686275, 0.95686275, 0.9411765 , 0.9529412 , 0.8392157 ,\n",
              "        0.8784314 , 0.63529414, 0.        , 0.00784314, 0.        ,\n",
              "        0.        , 0.        , 0.        ],\n",
              "       [0.        , 0.        , 0.        , 0.        , 0.        ,\n",
              "        0.00392157, 0.        , 0.        , 0.54509807, 0.57254905,\n",
              "        0.50980395, 0.5294118 , 0.5294118 , 0.5372549 , 0.49019608,\n",
              "        0.4862745 , 0.49019608, 0.4745098 , 0.46666667, 0.44705883,\n",
              "        0.50980395, 0.29803923, 0.        , 0.        , 0.        ,\n",
              "        0.        , 0.        , 0.        ]], dtype=float32)"
            ]
          },
          "metadata": {},
          "execution_count": 9
        }
      ]
    },
    {
      "cell_type": "code",
      "source": [
        "plt.imshow(x_train[0,], cmap='gray')"
      ],
      "metadata": {
        "colab": {
          "base_uri": "https://localhost:8080/",
          "height": 447
        },
        "id": "Il-UXtVBdago",
        "outputId": "5fac7ad5-b6a0-4370-fa30-3e36a46b775d"
      },
      "execution_count": 6,
      "outputs": [
        {
          "output_type": "execute_result",
          "data": {
            "text/plain": [
              "<matplotlib.image.AxesImage at 0x7c8b5385f110>"
            ]
          },
          "metadata": {},
          "execution_count": 6
        },
        {
          "output_type": "display_data",
          "data": {
            "text/plain": [
              "<Figure size 640x480 with 1 Axes>"
            ],
            "image/png": "[encoded data removed]"
          },
          "metadata": {}
        }
      ]
    },
    {
      "cell_type": "code",
      "source": [
        "x_train, x_test = x_train.astype('float32')/255.0, x_test.astype('float32')/255.0"
      ],
      "metadata": {
        "id": "8LEffQpOdaui"
      },
      "execution_count": 7,
      "outputs": []
    },
    {
      "cell_type": "code",
      "source": [
        "x_train[1,]"
      ],
      "metadata": {
        "colab": {
          "base_uri": "https://localhost:8080/"
        },
        "collapsed": true,
        "id": "8FzoL8emePgx",
        "outputId": "a852379c-c4c9-446f-e88a-85c9cfb9d6db"
      },
      "execution_count": 8,
      "outputs": [
        {
          "output_type": "execute_result",
          "data": {
            "text/plain": [
              "array([[0.        , 0.        , 0.        , 0.        , 0.        ,\n",
              "        0.00392157, 0.        , 0.        , 0.        , 0.        ,\n",
              "        0.16078432, 0.7372549 , 0.40392157, 0.21176471, 0.1882353 ,\n",
              "        0.16862746, 0.34117648, 0.65882355, 0.52156866, 0.0627451 ,\n",
              "        0.        , 0.        , 0.        , 0.        , 0.        ,\n",
              "        0.        , 0.        , 0.        ],\n",
              "       [0.        , 0.        , 0.        , 0.00392157, 0.        ,\n",
              "        0.        , 0.        , 0.19215687, 0.53333336, 0.85882354,\n",
              "        0.84705883, 0.89411765, 0.9254902 , 1.        , 1.        ,\n",
              "        1.        , 1.        , 0.8509804 , 0.84313726, 0.99607843,\n",
              "        0.90588236, 0.627451  , 0.1764706 , 0.        , 0.        ,\n",
              "        0.        , 0.        , 0.        ],\n",
              "       [0.        , 0.        , 0.        , 0.        , 0.        ,\n",
              "        0.05490196, 0.6901961 , 0.87058824, 0.8784314 , 0.83137256,\n",
              "        0.79607844, 0.7764706 , 0.76862746, 0.78431374, 0.84313726,\n",
              "        0.8       , 0.7921569 , 0.7882353 , 0.7882353 , 0.7882353 ,\n",
              "        0.81960785, 0.85490197, 0.8784314 , 0.6431373 , 0.        ,\n",
              "        0.        , 0.        , 0.        ],\n",
              "       [0.        , 0.        , 0.        , 0.        , 0.        ,\n",
              "        0.7372549 , 0.85882354, 0.78431374, 0.7764706 , 0.7921569 ,\n",
              "        0.7764706 , 0.78039217, 0.78039217, 0.7882353 , 0.76862746,\n",
              "        0.7764706 , 0.7764706 , 0.78431374, 0.78431374, 0.78431374,\n",
              "        0.78431374, 0.7882353 , 0.78431374, 0.88235295, 0.16078432,\n",
              "        0.        , 0.        , 0.        ],\n",
              "       [0.        , 0.        , 0.        , 0.        , 0.2       ,\n",
              "        0.85882354, 0.78039217, 0.79607844, 0.79607844, 0.83137256,\n",
              "        0.93333334, 0.972549  , 0.98039216, 0.9607843 , 0.9764706 ,\n",
              "        0.9647059 , 0.96862745, 0.9882353 , 0.972549  , 0.92156863,\n",
              "        0.8117647 , 0.79607844, 0.79607844, 0.87058824, 0.54901963,\n",
              "        0.        , 0.        , 0.        ],\n",
              "       [0.        , 0.        , 0.        , 0.        , 0.45490196,\n",
              "        0.8862745 , 0.80784315, 0.8       , 0.8117647 , 0.8       ,\n",
              "        0.39607844, 0.29411766, 0.18431373, 0.28627452, 0.1882353 ,\n",
              "        0.19607843, 0.1764706 , 0.2       , 0.24705882, 0.44313726,\n",
              "        0.87058824, 0.7921569 , 0.80784315, 0.8627451 , 0.8784314 ,\n",
              "        0.        , 0.        , 0.        ],\n",
              "       [0.        , 0.        , 0.        , 0.        , 0.78431374,\n",
              "        0.87058824, 0.81960785, 0.79607844, 0.84313726, 0.78431374,\n",
              "        0.        , 0.27450982, 0.38431373, 0.        , 0.40392157,\n",
              "        0.23137255, 0.26666668, 0.2784314 , 0.19215687, 0.        ,\n",
              "        0.85882354, 0.80784315, 0.8392157 , 0.8235294 , 0.98039216,\n",
              "        0.14901961, 0.        , 0.        ],\n",
              "       [0.        , 0.        , 0.        , 0.        , 0.96862745,\n",
              "        0.85490197, 0.83137256, 0.8235294 , 0.84313726, 0.8392157 ,\n",
              "        0.        , 0.99607843, 0.9529412 , 0.54509807, 1.        ,\n",
              "        0.68235296, 0.9843137 , 1.        , 0.8039216 , 0.        ,\n",
              "        0.84313726, 0.8509804 , 0.8392157 , 0.8156863 , 0.8627451 ,\n",
              "        0.37254903, 0.        , 0.        ],\n",
              "       [0.        , 0.        , 0.        , 0.1764706 , 0.8862745 ,\n",
              "        0.8392157 , 0.8392157 , 0.84313726, 0.8784314 , 0.8039216 ,\n",
              "        0.        , 0.16470589, 0.13725491, 0.23529412, 0.0627451 ,\n",
              "        0.06666667, 0.04705882, 0.05098039, 0.27450982, 0.        ,\n",
              "        0.7411765 , 0.84705883, 0.83137256, 0.80784315, 0.83137256,\n",
              "        0.6117647 , 0.        , 0.        ],\n",
              "       [0.        , 0.        , 0.        , 0.6431373 , 0.92156863,\n",
              "        0.8392157 , 0.827451  , 0.8627451 , 0.84705883, 0.7882353 ,\n",
              "        0.20392157, 0.2784314 , 0.34901962, 0.36862746, 0.3254902 ,\n",
              "        0.30588236, 0.27450982, 0.29803923, 0.36078432, 0.34117648,\n",
              "        0.80784315, 0.8117647 , 0.87058824, 0.8352941 , 0.85882354,\n",
              "        0.8156863 , 0.        , 0.        ],\n",
              "       [0.        , 0.        , 0.        , 0.41568628, 0.73333335,\n",
              "        0.8745098 , 0.92941177, 0.972549  , 0.827451  , 0.7764706 ,\n",
              "        0.9882353 , 0.98039216, 0.972549  , 0.9607843 , 0.972549  ,\n",
              "        0.9882353 , 0.99215686, 0.98039216, 0.9882353 , 0.9372549 ,\n",
              "        0.7882353 , 0.83137256, 0.88235295, 0.84313726, 0.75686276,\n",
              "        0.44313726, 0.        , 0.        ],\n",
              "       [0.        , 0.        , 0.        , 0.        , 0.        ,\n",
              "        0.06666667, 0.21176471, 0.62352943, 0.87058824, 0.75686276,\n",
              "        0.8156863 , 0.7529412 , 0.77254903, 0.78431374, 0.78431374,\n",
              "        0.78431374, 0.78431374, 0.7882353 , 0.79607844, 0.7647059 ,\n",
              "        0.8235294 , 0.64705884, 0.        , 0.        , 0.        ,\n",
              "        0.        , 0.        , 0.        ],\n",
              "       [0.        , 0.        , 0.        , 0.        , 0.        ,\n",
              "        0.        , 0.        , 0.18431373, 0.88235295, 0.7529412 ,\n",
              "        0.8392157 , 0.79607844, 0.80784315, 0.8       , 0.8       ,\n",
              "        0.8039216 , 0.80784315, 0.8       , 0.83137256, 0.77254903,\n",
              "        0.85490197, 0.41960785, 0.        , 0.        , 0.        ,\n",
              "        0.        , 0.        , 0.        ],\n",
              "       [0.        , 0.        , 0.        , 0.        , 0.00392157,\n",
              "        0.02352941, 0.        , 0.18039216, 0.83137256, 0.7647059 ,\n",
              "        0.83137256, 0.7921569 , 0.80784315, 0.8039216 , 0.8       ,\n",
              "        0.8039216 , 0.80784315, 0.8       , 0.83137256, 0.78431374,\n",
              "        0.85490197, 0.35686275, 0.        , 0.01176471, 0.00392157,\n",
              "        0.        , 0.        , 0.        ],\n",
              "       [0.        , 0.        , 0.        , 0.        , 0.        ,\n",
              "        0.00392157, 0.        , 0.04313726, 0.77254903, 0.78039217,\n",
              "        0.8039216 , 0.7921569 , 0.8039216 , 0.80784315, 0.8       ,\n",
              "        0.8039216 , 0.8117647 , 0.8       , 0.8039216 , 0.8039216 ,\n",
              "        0.85490197, 0.3019608 , 0.        , 0.01960784, 0.        ,\n",
              "        0.        , 0.        , 0.        ],\n",
              "       [0.        , 0.        , 0.        , 0.        , 0.        ,\n",
              "        0.01176471, 0.        , 0.00784314, 0.7490196 , 0.7764706 ,\n",
              "        0.7882353 , 0.8039216 , 0.80784315, 0.8039216 , 0.8039216 ,\n",
              "        0.80784315, 0.81960785, 0.80784315, 0.78039217, 0.81960785,\n",
              "        0.85882354, 0.2901961 , 0.        , 0.01960784, 0.        ,\n",
              "        0.        , 0.        , 0.        ],\n",
              "       [0.        , 0.        , 0.        , 0.        , 0.        ,\n",
              "        0.00784314, 0.        , 0.        , 0.7372549 , 0.77254903,\n",
              "        0.78431374, 0.8117647 , 0.8117647 , 0.8       , 0.8117647 ,\n",
              "        0.8117647 , 0.8235294 , 0.8156863 , 0.7764706 , 0.8117647 ,\n",
              "        0.8666667 , 0.28235295, 0.        , 0.01568628, 0.        ,\n",
              "        0.        , 0.        , 0.        ],\n",
              "       [0.        , 0.        , 0.        , 0.        , 0.        ,\n",
              "        0.00784314, 0.        , 0.        , 0.84313726, 0.7764706 ,\n",
              "        0.79607844, 0.80784315, 0.8156863 , 0.8039216 , 0.8117647 ,\n",
              "        0.8117647 , 0.8235294 , 0.8156863 , 0.78431374, 0.7921569 ,\n",
              "        0.87058824, 0.29411766, 0.        , 0.01568628, 0.        ,\n",
              "        0.        , 0.        , 0.        ],\n",
              "       [0.        , 0.        , 0.        , 0.        , 0.        ,\n",
              "        0.00392157, 0.        , 0.        , 0.83137256, 0.7764706 ,\n",
              "        0.81960785, 0.80784315, 0.81960785, 0.80784315, 0.8156863 ,\n",
              "        0.8117647 , 0.827451  , 0.80784315, 0.8039216 , 0.7764706 ,\n",
              "        0.8666667 , 0.3137255 , 0.        , 0.01176471, 0.        ,\n",
              "        0.        , 0.        , 0.        ],\n",
              "       [0.        , 0.        , 0.        , 0.        , 0.        ,\n",
              "        0.00392157, 0.        , 0.        , 0.8       , 0.7882353 ,\n",
              "        0.8039216 , 0.8156863 , 0.8117647 , 0.8039216 , 0.827451  ,\n",
              "        0.8039216 , 0.8235294 , 0.8235294 , 0.81960785, 0.7647059 ,\n",
              "        0.8666667 , 0.3764706 , 0.        , 0.01176471, 0.        ,\n",
              "        0.        , 0.        , 0.        ],\n",
              "       [0.        , 0.        , 0.        , 0.        , 0.        ,\n",
              "        0.00392157, 0.        , 0.        , 0.7921569 , 0.7882353 ,\n",
              "        0.8039216 , 0.81960785, 0.8117647 , 0.8039216 , 0.8352941 ,\n",
              "        0.80784315, 0.8235294 , 0.81960785, 0.8235294 , 0.7607843 ,\n",
              "        0.8509804 , 0.4117647 , 0.        , 0.00784314, 0.        ,\n",
              "        0.        , 0.        , 0.        ],\n",
              "       [0.        , 0.        , 0.        , 0.        , 0.        ,\n",
              "        0.00392157, 0.        , 0.        , 0.8       , 0.8       ,\n",
              "        0.8039216 , 0.8156863 , 0.8117647 , 0.8039216 , 0.84313726,\n",
              "        0.8117647 , 0.8235294 , 0.8156863 , 0.827451  , 0.75686276,\n",
              "        0.8352941 , 0.4509804 , 0.        , 0.00784314, 0.        ,\n",
              "        0.        , 0.        , 0.        ],\n",
              "       [0.        , 0.        , 0.        , 0.        , 0.        ,\n",
              "        0.        , 0.        , 0.        , 0.8       , 0.8117647 ,\n",
              "        0.8117647 , 0.8156863 , 0.80784315, 0.80784315, 0.84313726,\n",
              "        0.8235294 , 0.8235294 , 0.8117647 , 0.83137256, 0.7647059 ,\n",
              "        0.8235294 , 0.4627451 , 0.        , 0.00784314, 0.        ,\n",
              "        0.        , 0.        , 0.        ],\n",
              "       [0.        , 0.        , 0.        , 0.        , 0.        ,\n",
              "        0.00392157, 0.        , 0.        , 0.7764706 , 0.8156863 ,\n",
              "        0.8156863 , 0.8156863 , 0.8       , 0.8117647 , 0.83137256,\n",
              "        0.83137256, 0.8235294 , 0.8117647 , 0.827451  , 0.76862746,\n",
              "        0.8117647 , 0.4745098 , 0.        , 0.00392157, 0.        ,\n",
              "        0.        , 0.        , 0.        ],\n",
              "       [0.        , 0.        , 0.        , 0.        , 0.        ,\n",
              "        0.00392157, 0.        , 0.        , 0.7764706 , 0.8235294 ,\n",
              "        0.8117647 , 0.8156863 , 0.80784315, 0.81960785, 0.8352941 ,\n",
              "        0.83137256, 0.827451  , 0.8117647 , 0.8235294 , 0.77254903,\n",
              "        0.8117647 , 0.4862745 , 0.        , 0.00392157, 0.        ,\n",
              "        0.        , 0.        , 0.        ],\n",
              "       [0.        , 0.        , 0.        , 0.        , 0.        ,\n",
              "        0.        , 0.        , 0.        , 0.6745098 , 0.8235294 ,\n",
              "        0.79607844, 0.7882353 , 0.78039217, 0.8       , 0.8117647 ,\n",
              "        0.8039216 , 0.8       , 0.7882353 , 0.8039216 , 0.77254903,\n",
              "        0.80784315, 0.49803922, 0.        , 0.        , 0.        ,\n",
              "        0.        , 0.        , 0.        ],\n",
              "       [0.        , 0.        , 0.        , 0.        , 0.        ,\n",
              "        0.        , 0.        , 0.        , 0.7372549 , 0.8666667 ,\n",
              "        0.8392157 , 0.91764706, 0.9254902 , 0.93333334, 0.95686275,\n",
              "        0.95686275, 0.95686275, 0.9411765 , 0.9529412 , 0.8392157 ,\n",
              "        0.8784314 , 0.63529414, 0.        , 0.00784314, 0.        ,\n",
              "        0.        , 0.        , 0.        ],\n",
              "       [0.        , 0.        , 0.        , 0.        , 0.        ,\n",
              "        0.00392157, 0.        , 0.        , 0.54509807, 0.57254905,\n",
              "        0.50980395, 0.5294118 , 0.5294118 , 0.5372549 , 0.49019608,\n",
              "        0.4862745 , 0.49019608, 0.4745098 , 0.46666667, 0.44705883,\n",
              "        0.50980395, 0.29803923, 0.        , 0.        , 0.        ,\n",
              "        0.        , 0.        , 0.        ]], dtype=float32)"
            ]
          },
          "metadata": {},
          "execution_count": 8
        }
      ]
    },
    {
      "cell_type": "markdown",
      "source": [
        "# Fit Model"
      ],
      "metadata": {
        "id": "BWSM1ubceyiH"
      }
    },
    {
      "cell_type": "code",
      "source": [
        "model = keras.models.Sequential([\n",
        "    keras.layers.Flatten(input_shape=[28, 28]),\n",
        "    keras.layers.Dense(100, activation='relu'),\n",
        "    keras.layers.Dense(75, activation='relu'),\n",
        "    keras.layers.Dense(10, activation='softmax')\n",
        "    ])"
      ],
      "metadata": {
        "colab": {
          "base_uri": "https://localhost:8080/"
        },
        "id": "Pus7uFixePbG",
        "outputId": "e54c5c2a-5a42-4a17-edbc-368926ceffb0"
      },
      "execution_count": 12,
      "outputs": [
        {
          "output_type": "stream",
          "name": "stderr",
          "text": [
            "/usr/local/lib/python3.11/dist-packages/keras/src/layers/reshaping/flatten.py:37: UserWarning: Do not pass an `input_shape`/`input_dim` argument to a layer. When using Sequential models, prefer using an `Input(shape)` object as the first layer in the model instead.\n",
            "  super().__init__(**kwargs)\n"
          ]
        }
      ]
    },
    {
      "cell_type": "code",
      "source": [
        "model.summary()"
      ],
      "metadata": {
        "colab": {
          "base_uri": "https://localhost:8080/",
          "height": 272
        },
        "id": "tDW5I9FYePSK",
        "outputId": "8de19269-67e5-4d83-92e3-728cd4e87b64"
      },
      "execution_count": 13,
      "outputs": [
        {
          "output_type": "display_data",
          "data": {
            "text/plain": [
              "\u001b[1mModel: \"sequential\"\u001b[0m\n"
            ],
            "text/html": [
              "<pre style=\"white-space:pre;overflow-x:auto;line-height:normal;font-family:Menlo,'DejaVu Sans Mono',consolas,'Courier New',monospace\"><span style=\"font-weight: bold\">Model: \"sequential\"</span>\n",
              "</pre>\n"
            ]
          },
          "metadata": {}
        },
        {
          "output_type": "display_data",
          "data": {
            "text/plain": [
              "┏━━━━━━━━━━━━━━━━━━━━━━━━━━━━━━━━━━━━━━┳━━━━━━━━━━━━━━━━━━━━━━━━━━━━━┳━━━━━━━━━━━━━━━━━┓\n",
              "┃\u001b[1m \u001b[0m\u001b[1mLayer (type)                        \u001b[0m\u001b[1m \u001b[0m┃\u001b[1m \u001b[0m\u001b[1mOutput Shape               \u001b[0m\u001b[1m \u001b[0m┃\u001b[1m \u001b[0m\u001b[1m        Param #\u001b[0m\u001b[1m \u001b[0m┃\n",
              "┡━━━━━━━━━━━━━━━━━━━━━━━━━━━━━━━━━━━━━━╇━━━━━━━━━━━━━━━━━━━━━━━━━━━━━╇━━━━━━━━━━━━━━━━━┩\n",
              "│ flatten (\u001b[38;5;33mFlatten\u001b[0m)                    │ (\u001b[38;5;45mNone\u001b[0m, \u001b[38;5;34m784\u001b[0m)                 │               \u001b[38;5;34m0\u001b[0m │\n",
              "├──────────────────────────────────────┼─────────────────────────────┼─────────────────┤\n",
              "│ dense (\u001b[38;5;33mDense\u001b[0m)                        │ (\u001b[38;5;45mNone\u001b[0m, \u001b[38;5;34m100\u001b[0m)                 │          \u001b[38;5;34m78,500\u001b[0m │\n",
              "├──────────────────────────────────────┼─────────────────────────────┼─────────────────┤\n",
              "│ dense_1 (\u001b[38;5;33mDense\u001b[0m)                      │ (\u001b[38;5;45mNone\u001b[0m, \u001b[38;5;34m75\u001b[0m)                  │           \u001b[38;5;34m7,575\u001b[0m │\n",
              "├──────────────────────────────────────┼─────────────────────────────┼─────────────────┤\n",
              "│ dense_2 (\u001b[38;5;33mDense\u001b[0m)                      │ (\u001b[38;5;45mNone\u001b[0m, \u001b[38;5;34m10\u001b[0m)                  │             \u001b[38;5;34m760\u001b[0m │\n",
              "└──────────────────────────────────────┴─────────────────────────────┴─────────────────┘\n"
            ],
            "text/html": [
              "<pre style=\"white-space:pre;overflow-x:auto;line-height:normal;font-family:Menlo,'DejaVu Sans Mono',consolas,'Courier New',monospace\">┏━━━━━━━━━━━━━━━━━━━━━━━━━━━━━━━━━━━━━━┳━━━━━━━━━━━━━━━━━━━━━━━━━━━━━┳━━━━━━━━━━━━━━━━━┓\n",
              "┃<span style=\"font-weight: bold\"> Layer (type)                         </span>┃<span style=\"font-weight: bold\"> Output Shape                </span>┃<span style=\"font-weight: bold\">         Param # </span>┃\n",
              "┡━━━━━━━━━━━━━━━━━━━━━━━━━━━━━━━━━━━━━━╇━━━━━━━━━━━━━━━━━━━━━━━━━━━━━╇━━━━━━━━━━━━━━━━━┩\n",
              "│ flatten (<span style=\"color: #0087ff; text-decoration-color: #0087ff\">Flatten</span>)                    │ (<span style=\"color: #00d7ff; text-decoration-color: #00d7ff\">None</span>, <span style=\"color: #00af00; text-decoration-color: #00af00\">784</span>)                 │               <span style=\"color: #00af00; text-decoration-color: #00af00\">0</span> │\n",
              "├──────────────────────────────────────┼─────────────────────────────┼─────────────────┤\n",
              "│ dense (<span style=\"color: #0087ff; text-decoration-color: #0087ff\">Dense</span>)                        │ (<span style=\"color: #00d7ff; text-decoration-color: #00d7ff\">None</span>, <span style=\"color: #00af00; text-decoration-color: #00af00\">100</span>)                 │          <span style=\"color: #00af00; text-decoration-color: #00af00\">78,500</span> │\n",
              "├──────────────────────────────────────┼─────────────────────────────┼─────────────────┤\n",
              "│ dense_1 (<span style=\"color: #0087ff; text-decoration-color: #0087ff\">Dense</span>)                      │ (<span style=\"color: #00d7ff; text-decoration-color: #00d7ff\">None</span>, <span style=\"color: #00af00; text-decoration-color: #00af00\">75</span>)                  │           <span style=\"color: #00af00; text-decoration-color: #00af00\">7,575</span> │\n",
              "├──────────────────────────────────────┼─────────────────────────────┼─────────────────┤\n",
              "│ dense_2 (<span style=\"color: #0087ff; text-decoration-color: #0087ff\">Dense</span>)                      │ (<span style=\"color: #00d7ff; text-decoration-color: #00d7ff\">None</span>, <span style=\"color: #00af00; text-decoration-color: #00af00\">10</span>)                  │             <span style=\"color: #00af00; text-decoration-color: #00af00\">760</span> │\n",
              "└──────────────────────────────────────┴─────────────────────────────┴─────────────────┘\n",
              "</pre>\n"
            ]
          },
          "metadata": {}
        },
        {
          "output_type": "display_data",
          "data": {
            "text/plain": [
              "\u001b[1m Total params: \u001b[0m\u001b[38;5;34m86,835\u001b[0m (339.20 KB)\n"
            ],
            "text/html": [
              "<pre style=\"white-space:pre;overflow-x:auto;line-height:normal;font-family:Menlo,'DejaVu Sans Mono',consolas,'Courier New',monospace\"><span style=\"font-weight: bold\"> Total params: </span><span style=\"color: #00af00; text-decoration-color: #00af00\">86,835</span> (339.20 KB)\n",
              "</pre>\n"
            ]
          },
          "metadata": {}
        },
        {
          "output_type": "display_data",
          "data": {
            "text/plain": [
              "\u001b[1m Trainable params: \u001b[0m\u001b[38;5;34m86,835\u001b[0m (339.20 KB)\n"
            ],
            "text/html": [
              "<pre style=\"white-space:pre;overflow-x:auto;line-height:normal;font-family:Menlo,'DejaVu Sans Mono',consolas,'Courier New',monospace\"><span style=\"font-weight: bold\"> Trainable params: </span><span style=\"color: #00af00; text-decoration-color: #00af00\">86,835</span> (339.20 KB)\n",
              "</pre>\n"
            ]
          },
          "metadata": {}
        },
        {
          "output_type": "display_data",
          "data": {
            "text/plain": [
              "\u001b[1m Non-trainable params: \u001b[0m\u001b[38;5;34m0\u001b[0m (0.00 B)\n"
            ],
            "text/html": [
              "<pre style=\"white-space:pre;overflow-x:auto;line-height:normal;font-family:Menlo,'DejaVu Sans Mono',consolas,'Courier New',monospace\"><span style=\"font-weight: bold\"> Non-trainable params: </span><span style=\"color: #00af00; text-decoration-color: #00af00\">0</span> (0.00 B)\n",
              "</pre>\n"
            ]
          },
          "metadata": {}
        }
      ]
    },
    {
      "cell_type": "code",
      "source": [
        "model.layers"
      ],
      "metadata": {
        "colab": {
          "base_uri": "https://localhost:8080/"
        },
        "id": "wDaj4qgPePD3",
        "outputId": "405f3de5-ce8b-4ba8-dbfa-073081e73701"
      },
      "execution_count": 14,
      "outputs": [
        {
          "output_type": "execute_result",
          "data": {
            "text/plain": [
              "[<Flatten name=flatten, built=True>,\n",
              " <Dense name=dense, built=True>,\n",
              " <Dense name=dense_1, built=True>,\n",
              " <Dense name=dense_2, built=True>]"
            ]
          },
          "metadata": {},
          "execution_count": 14
        }
      ]
    },
    {
      "cell_type": "code",
      "source": [
        "weights, bias = model.layers[1].get_weights()"
      ],
      "metadata": {
        "id": "SE9RnIK2fEKk"
      },
      "execution_count": 15,
      "outputs": []
    },
    {
      "cell_type": "code",
      "source": [
        "weights"
      ],
      "metadata": {
        "colab": {
          "base_uri": "https://localhost:8080/"
        },
        "collapsed": true,
        "id": "7h8B8BeufD2N",
        "outputId": "4ac0cbf6-5c70-43a8-9be2-d17fbdcafba7"
      },
      "execution_count": 16,
      "outputs": [
        {
          "output_type": "execute_result",
          "data": {
            "text/plain": [
              "array([[ 0.00180512,  0.02219542, -0.04715613, ...,  0.03767069,\n",
              "         0.05071686, -0.06093115],\n",
              "       [-0.04133134, -0.04290859,  0.00984307, ..., -0.03529632,\n",
              "        -0.02842918,  0.05670208],\n",
              "       [ 0.03077075,  0.03581341, -0.06717125, ...,  0.07507671,\n",
              "         0.04826345, -0.07687584],\n",
              "       ...,\n",
              "       [-0.02132052, -0.01567882, -0.02271533, ...,  0.03031614,\n",
              "         0.0519723 , -0.02228142],\n",
              "       [-0.0441627 ,  0.07489084, -0.04893133, ..., -0.06386131,\n",
              "        -0.01771922, -0.00221536],\n",
              "       [-0.00033794, -0.03257097,  0.00223938, ...,  0.04645658,\n",
              "         0.00015205,  0.01673743]], dtype=float32)"
            ]
          },
          "metadata": {},
          "execution_count": 16
        }
      ]
    },
    {
      "cell_type": "code",
      "source": [
        "bias"
      ],
      "metadata": {
        "colab": {
          "base_uri": "https://localhost:8080/"
        },
        "id": "oWIqrmDofM49",
        "outputId": "a2f0de7c-c209-4d10-e91f-1e8e64a2f62a"
      },
      "execution_count": 17,
      "outputs": [
        {
          "output_type": "execute_result",
          "data": {
            "text/plain": [
              "array([0., 0., 0., 0., 0., 0., 0., 0., 0., 0., 0., 0., 0., 0., 0., 0., 0.,\n",
              "       0., 0., 0., 0., 0., 0., 0., 0., 0., 0., 0., 0., 0., 0., 0., 0., 0.,\n",
              "       0., 0., 0., 0., 0., 0., 0., 0., 0., 0., 0., 0., 0., 0., 0., 0., 0.,\n",
              "       0., 0., 0., 0., 0., 0., 0., 0., 0., 0., 0., 0., 0., 0., 0., 0., 0.,\n",
              "       0., 0., 0., 0., 0., 0., 0., 0., 0., 0., 0., 0., 0., 0., 0., 0., 0.,\n",
              "       0., 0., 0., 0., 0., 0., 0., 0., 0., 0., 0., 0., 0., 0., 0.],\n",
              "      dtype=float32)"
            ]
          },
          "metadata": {},
          "execution_count": 17
        }
      ]
    },
    {
      "cell_type": "markdown",
      "source": [
        "# Compile"
      ],
      "metadata": {
        "id": "C6hvv9zHupDp"
      }
    },
    {
      "cell_type": "code",
      "source": [
        "model.compile(optimizer='sgd',\n",
        "              loss='sparse_categorical_crossentropy',\n",
        "              metrics=['accuracy'])"
      ],
      "metadata": {
        "id": "uERzFy1dfQWc"
      },
      "execution_count": 18,
      "outputs": []
    },
    {
      "cell_type": "markdown",
      "source": [
        "# Fit Model"
      ],
      "metadata": {
        "id": "MdfA0qNTu63Q"
      }
    },
    {
      "cell_type": "code",
      "source": [
        "history = model.fit(x_train, y_train, epochs=50, validation_split=0.15)"
      ],
      "metadata": {
        "colab": {
          "base_uri": "https://localhost:8080/"
        },
        "id": "0SBaqmtzfQGG",
        "outputId": "a919efa3-dbc0-488f-cc8b-f5a82287d92e"
      },
      "execution_count": 19,
      "outputs": [
        {
          "output_type": "stream",
          "name": "stdout",
          "text": [
            "Epoch 1/50\n",
            "\u001b[1m1594/1594\u001b[0m \u001b[32m━━━━━━━━━━━━━━━━━━━━\u001b[0m\u001b[37m\u001b[0m \u001b[1m9s\u001b[0m 5ms/step - accuracy: 0.6438 - loss: 1.0856 - val_accuracy: 0.8148 - val_loss: 0.5472\n",
            "Epoch 2/50\n",
            "\u001b[1m1594/1594\u001b[0m \u001b[32m━━━━━━━━━━━━━━━━━━━━\u001b[0m\u001b[37m\u001b[0m \u001b[1m6s\u001b[0m 2ms/step - accuracy: 0.8192 - loss: 0.5239 - val_accuracy: 0.8304 - val_loss: 0.4808\n",
            "Epoch 3/50\n",
            "\u001b[1m1594/1594\u001b[0m \u001b[32m━━━━━━━━━━━━━━━━━━━━\u001b[0m\u001b[37m\u001b[0m \u001b[1m4s\u001b[0m 2ms/step - accuracy: 0.8402 - loss: 0.4610 - val_accuracy: 0.8363 - val_loss: 0.4601\n",
            "Epoch 4/50\n",
            "\u001b[1m1594/1594\u001b[0m \u001b[32m━━━━━━━━━━━━━━━━━━━━\u001b[0m\u001b[37m\u001b[0m \u001b[1m6s\u001b[0m 3ms/step - accuracy: 0.8459 - loss: 0.4401 - val_accuracy: 0.8434 - val_loss: 0.4473\n",
            "Epoch 5/50\n",
            "\u001b[1m1594/1594\u001b[0m \u001b[32m━━━━━━━━━━━━━━━━━━━━\u001b[0m\u001b[37m\u001b[0m \u001b[1m4s\u001b[0m 3ms/step - accuracy: 0.8555 - loss: 0.4120 - val_accuracy: 0.8534 - val_loss: 0.4174\n",
            "Epoch 6/50\n",
            "\u001b[1m1594/1594\u001b[0m \u001b[32m━━━━━━━━━━━━━━━━━━━━\u001b[0m\u001b[37m\u001b[0m \u001b[1m5s\u001b[0m 3ms/step - accuracy: 0.8629 - loss: 0.3939 - val_accuracy: 0.8534 - val_loss: 0.4118\n",
            "Epoch 7/50\n",
            "\u001b[1m1594/1594\u001b[0m \u001b[32m━━━━━━━━━━━━━━━━━━━━\u001b[0m\u001b[37m\u001b[0m \u001b[1m5s\u001b[0m 3ms/step - accuracy: 0.8668 - loss: 0.3834 - val_accuracy: 0.8617 - val_loss: 0.3962\n",
            "Epoch 8/50\n",
            "\u001b[1m1594/1594\u001b[0m \u001b[32m━━━━━━━━━━━━━━━━━━━━\u001b[0m\u001b[37m\u001b[0m \u001b[1m4s\u001b[0m 3ms/step - accuracy: 0.8708 - loss: 0.3712 - val_accuracy: 0.8663 - val_loss: 0.3873\n",
            "Epoch 9/50\n",
            "\u001b[1m1594/1594\u001b[0m \u001b[32m━━━━━━━━━━━━━━━━━━━━\u001b[0m\u001b[37m\u001b[0m \u001b[1m6s\u001b[0m 3ms/step - accuracy: 0.8732 - loss: 0.3628 - val_accuracy: 0.8678 - val_loss: 0.3841\n",
            "Epoch 10/50\n",
            "\u001b[1m1594/1594\u001b[0m \u001b[32m━━━━━━━━━━━━━━━━━━━━\u001b[0m\u001b[37m\u001b[0m \u001b[1m4s\u001b[0m 3ms/step - accuracy: 0.8742 - loss: 0.3527 - val_accuracy: 0.8600 - val_loss: 0.3978\n",
            "Epoch 11/50\n",
            "\u001b[1m1594/1594\u001b[0m \u001b[32m━━━━━━━━━━━━━━━━━━━━\u001b[0m\u001b[37m\u001b[0m \u001b[1m6s\u001b[0m 3ms/step - accuracy: 0.8775 - loss: 0.3445 - val_accuracy: 0.8702 - val_loss: 0.3723\n",
            "Epoch 12/50\n",
            "\u001b[1m1594/1594\u001b[0m \u001b[32m━━━━━━━━━━━━━━━━━━━━\u001b[0m\u001b[37m\u001b[0m \u001b[1m4s\u001b[0m 3ms/step - accuracy: 0.8800 - loss: 0.3421 - val_accuracy: 0.8710 - val_loss: 0.3625\n",
            "Epoch 13/50\n",
            "\u001b[1m1594/1594\u001b[0m \u001b[32m━━━━━━━━━━━━━━━━━━━━\u001b[0m\u001b[37m\u001b[0m \u001b[1m5s\u001b[0m 3ms/step - accuracy: 0.8823 - loss: 0.3352 - val_accuracy: 0.8709 - val_loss: 0.3731\n",
            "Epoch 14/50\n",
            "\u001b[1m1594/1594\u001b[0m \u001b[32m━━━━━━━━━━━━━━━━━━━━\u001b[0m\u001b[37m\u001b[0m \u001b[1m6s\u001b[0m 3ms/step - accuracy: 0.8836 - loss: 0.3278 - val_accuracy: 0.8693 - val_loss: 0.3728\n",
            "Epoch 15/50\n",
            "\u001b[1m1594/1594\u001b[0m \u001b[32m━━━━━━━━━━━━━━━━━━━━\u001b[0m\u001b[37m\u001b[0m \u001b[1m4s\u001b[0m 3ms/step - accuracy: 0.8868 - loss: 0.3195 - val_accuracy: 0.8727 - val_loss: 0.3525\n",
            "Epoch 16/50\n",
            "\u001b[1m1594/1594\u001b[0m \u001b[32m━━━━━━━━━━━━━━━━━━━━\u001b[0m\u001b[37m\u001b[0m \u001b[1m7s\u001b[0m 4ms/step - accuracy: 0.8876 - loss: 0.3167 - val_accuracy: 0.8709 - val_loss: 0.3597\n",
            "Epoch 17/50\n",
            "\u001b[1m1594/1594\u001b[0m \u001b[32m━━━━━━━━━━━━━━━━━━━━\u001b[0m\u001b[37m\u001b[0m \u001b[1m8s\u001b[0m 3ms/step - accuracy: 0.8865 - loss: 0.3116 - val_accuracy: 0.8719 - val_loss: 0.3718\n",
            "Epoch 18/50\n",
            "\u001b[1m1594/1594\u001b[0m \u001b[32m━━━━━━━━━━━━━━━━━━━━\u001b[0m\u001b[37m\u001b[0m \u001b[1m6s\u001b[0m 3ms/step - accuracy: 0.8909 - loss: 0.3046 - val_accuracy: 0.8752 - val_loss: 0.3502\n",
            "Epoch 19/50\n",
            "\u001b[1m1594/1594\u001b[0m \u001b[32m━━━━━━━━━━━━━━━━━━━━\u001b[0m\u001b[37m\u001b[0m \u001b[1m4s\u001b[0m 3ms/step - accuracy: 0.8906 - loss: 0.3019 - val_accuracy: 0.8752 - val_loss: 0.3508\n",
            "Epoch 20/50\n",
            "\u001b[1m1594/1594\u001b[0m \u001b[32m━━━━━━━━━━━━━━━━━━━━\u001b[0m\u001b[37m\u001b[0m \u001b[1m4s\u001b[0m 3ms/step - accuracy: 0.8923 - loss: 0.2965 - val_accuracy: 0.8782 - val_loss: 0.3389\n",
            "Epoch 21/50\n",
            "\u001b[1m1594/1594\u001b[0m \u001b[32m━━━━━━━━━━━━━━━━━━━━\u001b[0m\u001b[37m\u001b[0m \u001b[1m5s\u001b[0m 3ms/step - accuracy: 0.8965 - loss: 0.2882 - val_accuracy: 0.8754 - val_loss: 0.3510\n",
            "Epoch 22/50\n",
            "\u001b[1m1594/1594\u001b[0m \u001b[32m━━━━━━━━━━━━━━━━━━━━\u001b[0m\u001b[37m\u001b[0m \u001b[1m4s\u001b[0m 3ms/step - accuracy: 0.8984 - loss: 0.2859 - val_accuracy: 0.8801 - val_loss: 0.3423\n",
            "Epoch 23/50\n",
            "\u001b[1m1594/1594\u001b[0m \u001b[32m━━━━━━━━━━━━━━━━━━━━\u001b[0m\u001b[37m\u001b[0m \u001b[1m6s\u001b[0m 3ms/step - accuracy: 0.8994 - loss: 0.2786 - val_accuracy: 0.8786 - val_loss: 0.3337\n",
            "Epoch 24/50\n",
            "\u001b[1m1594/1594\u001b[0m \u001b[32m━━━━━━━━━━━━━━━━━━━━\u001b[0m\u001b[37m\u001b[0m \u001b[1m4s\u001b[0m 3ms/step - accuracy: 0.9013 - loss: 0.2730 - val_accuracy: 0.8806 - val_loss: 0.3341\n",
            "Epoch 25/50\n",
            "\u001b[1m1594/1594\u001b[0m \u001b[32m━━━━━━━━━━━━━━━━━━━━\u001b[0m\u001b[37m\u001b[0m \u001b[1m4s\u001b[0m 3ms/step - accuracy: 0.9032 - loss: 0.2693 - val_accuracy: 0.8732 - val_loss: 0.3533\n",
            "Epoch 26/50\n",
            "\u001b[1m1594/1594\u001b[0m \u001b[32m━━━━━━━━━━━━━━━━━━━━\u001b[0m\u001b[37m\u001b[0m \u001b[1m6s\u001b[0m 3ms/step - accuracy: 0.9026 - loss: 0.2709 - val_accuracy: 0.8781 - val_loss: 0.3409\n",
            "Epoch 27/50\n",
            "\u001b[1m1594/1594\u001b[0m \u001b[32m━━━━━━━━━━━━━━━━━━━━\u001b[0m\u001b[37m\u001b[0m \u001b[1m4s\u001b[0m 2ms/step - accuracy: 0.9043 - loss: 0.2675 - val_accuracy: 0.8793 - val_loss: 0.3432\n",
            "Epoch 28/50\n",
            "\u001b[1m1594/1594\u001b[0m \u001b[32m━━━━━━━━━━━━━━━━━━━━\u001b[0m\u001b[37m\u001b[0m \u001b[1m4s\u001b[0m 3ms/step - accuracy: 0.9058 - loss: 0.2648 - val_accuracy: 0.8867 - val_loss: 0.3209\n",
            "Epoch 29/50\n",
            "\u001b[1m1594/1594\u001b[0m \u001b[32m━━━━━━━━━━━━━━━━━━━━\u001b[0m\u001b[37m\u001b[0m \u001b[1m5s\u001b[0m 3ms/step - accuracy: 0.9068 - loss: 0.2582 - val_accuracy: 0.8836 - val_loss: 0.3238\n",
            "Epoch 30/50\n",
            "\u001b[1m1594/1594\u001b[0m \u001b[32m━━━━━━━━━━━━━━━━━━━━\u001b[0m\u001b[37m\u001b[0m \u001b[1m4s\u001b[0m 3ms/step - accuracy: 0.9086 - loss: 0.2542 - val_accuracy: 0.8824 - val_loss: 0.3330\n",
            "Epoch 31/50\n",
            "\u001b[1m1594/1594\u001b[0m \u001b[32m━━━━━━━━━━━━━━━━━━━━\u001b[0m\u001b[37m\u001b[0m \u001b[1m5s\u001b[0m 3ms/step - accuracy: 0.9110 - loss: 0.2507 - val_accuracy: 0.8788 - val_loss: 0.3424\n",
            "Epoch 32/50\n",
            "\u001b[1m1594/1594\u001b[0m \u001b[32m━━━━━━━━━━━━━━━━━━━━\u001b[0m\u001b[37m\u001b[0m \u001b[1m4s\u001b[0m 3ms/step - accuracy: 0.9095 - loss: 0.2505 - val_accuracy: 0.8782 - val_loss: 0.3415\n",
            "Epoch 33/50\n",
            "\u001b[1m1594/1594\u001b[0m \u001b[32m━━━━━━━━━━━━━━━━━━━━\u001b[0m\u001b[37m\u001b[0m \u001b[1m5s\u001b[0m 2ms/step - accuracy: 0.9097 - loss: 0.2506 - val_accuracy: 0.8833 - val_loss: 0.3313\n",
            "Epoch 34/50\n",
            "\u001b[1m1594/1594\u001b[0m \u001b[32m━━━━━━━━━━━━━━━━━━━━\u001b[0m\u001b[37m\u001b[0m \u001b[1m5s\u001b[0m 3ms/step - accuracy: 0.9133 - loss: 0.2403 - val_accuracy: 0.8821 - val_loss: 0.3362\n",
            "Epoch 35/50\n",
            "\u001b[1m1594/1594\u001b[0m \u001b[32m━━━━━━━━━━━━━━━━━━━━\u001b[0m\u001b[37m\u001b[0m \u001b[1m4s\u001b[0m 3ms/step - accuracy: 0.9116 - loss: 0.2423 - val_accuracy: 0.8830 - val_loss: 0.3268\n",
            "Epoch 36/50\n",
            "\u001b[1m1594/1594\u001b[0m \u001b[32m━━━━━━━━━━━━━━━━━━━━\u001b[0m\u001b[37m\u001b[0m \u001b[1m4s\u001b[0m 3ms/step - accuracy: 0.9135 - loss: 0.2371 - val_accuracy: 0.8864 - val_loss: 0.3226\n",
            "Epoch 37/50\n",
            "\u001b[1m1594/1594\u001b[0m \u001b[32m━━━━━━━━━━━━━━━━━━━━\u001b[0m\u001b[37m\u001b[0m \u001b[1m5s\u001b[0m 3ms/step - accuracy: 0.9169 - loss: 0.2355 - val_accuracy: 0.8776 - val_loss: 0.3390\n",
            "Epoch 38/50\n",
            "\u001b[1m1594/1594\u001b[0m \u001b[32m━━━━━━━━━━━━━━━━━━━━\u001b[0m\u001b[37m\u001b[0m \u001b[1m4s\u001b[0m 3ms/step - accuracy: 0.9193 - loss: 0.2295 - val_accuracy: 0.8852 - val_loss: 0.3269\n",
            "Epoch 39/50\n",
            "\u001b[1m1594/1594\u001b[0m \u001b[32m━━━━━━━━━━━━━━━━━━━━\u001b[0m\u001b[37m\u001b[0m \u001b[1m6s\u001b[0m 3ms/step - accuracy: 0.9202 - loss: 0.2239 - val_accuracy: 0.8833 - val_loss: 0.3299\n",
            "Epoch 40/50\n",
            "\u001b[1m1594/1594\u001b[0m \u001b[32m━━━━━━━━━━━━━━━━━━━━\u001b[0m\u001b[37m\u001b[0m \u001b[1m4s\u001b[0m 3ms/step - accuracy: 0.9179 - loss: 0.2278 - val_accuracy: 0.8849 - val_loss: 0.3205\n",
            "Epoch 41/50\n",
            "\u001b[1m1594/1594\u001b[0m \u001b[32m━━━━━━━━━━━━━━━━━━━━\u001b[0m\u001b[37m\u001b[0m \u001b[1m5s\u001b[0m 3ms/step - accuracy: 0.9176 - loss: 0.2269 - val_accuracy: 0.8824 - val_loss: 0.3357\n",
            "Epoch 42/50\n",
            "\u001b[1m1594/1594\u001b[0m \u001b[32m━━━━━━━━━━━━━━━━━━━━\u001b[0m\u001b[37m\u001b[0m \u001b[1m6s\u001b[0m 3ms/step - accuracy: 0.9200 - loss: 0.2207 - val_accuracy: 0.8872 - val_loss: 0.3273\n",
            "Epoch 43/50\n",
            "\u001b[1m1594/1594\u001b[0m \u001b[32m━━━━━━━━━━━━━━━━━━━━\u001b[0m\u001b[37m\u001b[0m \u001b[1m4s\u001b[0m 2ms/step - accuracy: 0.9199 - loss: 0.2211 - val_accuracy: 0.8727 - val_loss: 0.3602\n",
            "Epoch 44/50\n",
            "\u001b[1m1594/1594\u001b[0m \u001b[32m━━━━━━━━━━━━━━━━━━━━\u001b[0m\u001b[37m\u001b[0m \u001b[1m6s\u001b[0m 3ms/step - accuracy: 0.9218 - loss: 0.2149 - val_accuracy: 0.8853 - val_loss: 0.3223\n",
            "Epoch 45/50\n",
            "\u001b[1m1594/1594\u001b[0m \u001b[32m━━━━━━━━━━━━━━━━━━━━\u001b[0m\u001b[37m\u001b[0m \u001b[1m4s\u001b[0m 3ms/step - accuracy: 0.9232 - loss: 0.2189 - val_accuracy: 0.8747 - val_loss: 0.3471\n",
            "Epoch 46/50\n",
            "\u001b[1m1594/1594\u001b[0m \u001b[32m━━━━━━━━━━━━━━━━━━━━\u001b[0m\u001b[37m\u001b[0m \u001b[1m5s\u001b[0m 3ms/step - accuracy: 0.9246 - loss: 0.2087 - val_accuracy: 0.8859 - val_loss: 0.3264\n",
            "Epoch 47/50\n",
            "\u001b[1m1594/1594\u001b[0m \u001b[32m━━━━━━━━━━━━━━━━━━━━\u001b[0m\u001b[37m\u001b[0m \u001b[1m5s\u001b[0m 3ms/step - accuracy: 0.9246 - loss: 0.2091 - val_accuracy: 0.8641 - val_loss: 0.3869\n",
            "Epoch 48/50\n",
            "\u001b[1m1594/1594\u001b[0m \u001b[32m━━━━━━━━━━━━━━━━━━━━\u001b[0m\u001b[37m\u001b[0m \u001b[1m10s\u001b[0m 3ms/step - accuracy: 0.9260 - loss: 0.2069 - val_accuracy: 0.8883 - val_loss: 0.3237\n",
            "Epoch 49/50\n",
            "\u001b[1m1594/1594\u001b[0m \u001b[32m━━━━━━━━━━━━━━━━━━━━\u001b[0m\u001b[37m\u001b[0m \u001b[1m5s\u001b[0m 3ms/step - accuracy: 0.9246 - loss: 0.2076 - val_accuracy: 0.8874 - val_loss: 0.3256\n",
            "Epoch 50/50\n",
            "\u001b[1m1594/1594\u001b[0m \u001b[32m━━━━━━━━━━━━━━━━━━━━\u001b[0m\u001b[37m\u001b[0m \u001b[1m4s\u001b[0m 3ms/step - accuracy: 0.9282 - loss: 0.2004 - val_accuracy: 0.8733 - val_loss: 0.3747\n"
          ]
        }
      ]
    }
  ]
}