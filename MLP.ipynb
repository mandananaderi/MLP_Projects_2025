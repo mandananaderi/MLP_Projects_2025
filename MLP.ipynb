{
  "nbformat": 4,
  "nbformat_minor": 0,
  "metadata": {
    "colab": {
      "provenance": [],
      "authorship_tag": "ABX9TyMZW/m8mjvukMgrFiq5b+vZ",
      "include_colab_link": true
    },
    "kernelspec": {
      "name": "python3",
      "display_name": "Python 3"
    },
    "language_info": {
      "name": "python"
    }
  },
  "cells": [
    {
      "cell_type": "markdown",
      "metadata": {
        "id": "view-in-github",
        "colab_type": "text"
      },
      "source": [
        "<a href=\"https://colab.research.google.com/github/mandananaderi/MLP_Projects_2025/blob/main/MLP.ipynb\" target=\"_parent\"><img src=\"https://colab.research.google.com/assets/colab-badge.svg\" alt=\"Open In Colab\"/></a>"
      ]
    },
    {
      "cell_type": "code",
      "execution_count": 80,
      "metadata": {
        "id": "UqdSGadOdKmq"
      },
      "outputs": [],
      "source": [
        "import tensorflow as tf\n",
        "import numpy as np\n",
        "import pandas as pd\n",
        "import matplotlib.pyplot as plt\n",
        "import keras\n",
        "from sklearn.metrics import confusion_matrix, classification_report"
      ]
    },
    {
      "cell_type": "code",
      "source": [
        "fmnist_data = keras.datasets.fashion_mnist"
      ],
      "metadata": {
        "id": "ZNo5k9vwdZdL"
      },
      "execution_count": 32,
      "outputs": []
    },
    {
      "cell_type": "code",
      "source": [
        "(x_train, y_train), (x_test, y_test) = fmnist_data.load_data()"
      ],
      "metadata": {
        "id": "4hvcQrm4dZsI"
      },
      "execution_count": 33,
      "outputs": []
    },
    {
      "cell_type": "code",
      "source": [
        "x_train.shape"
      ],
      "metadata": {
        "colab": {
          "base_uri": "https://localhost:8080/"
        },
        "id": "Twm74KT6dZ3w",
        "outputId": "e9ed3ba1-7f22-4399-927b-83bd20a77568"
      },
      "execution_count": 34,
      "outputs": [
        {
          "output_type": "execute_result",
          "data": {
            "text/plain": [
              "(60000, 28, 28)"
            ]
          },
          "metadata": {},
          "execution_count": 34
        }
      ]
    },
    {
      "cell_type": "code",
      "source": [
        "x_train[1,]"
      ],
      "metadata": {
        "colab": {
          "base_uri": "https://localhost:8080/"
        },
        "collapsed": true,
        "id": "rOclAQSgdaTg",
        "outputId": "4db4d451-4f19-4d60-984f-6ed05ce9ab49"
      },
      "execution_count": null,
      "outputs": [
        {
          "output_type": "execute_result",
          "data": {
            "text/plain": [
              "array([[0.        , 0.        , 0.        , 0.        , 0.        ,\n",
              "        0.00392157, 0.        , 0.        , 0.        , 0.        ,\n",
              "        0.16078432, 0.7372549 , 0.40392157, 0.21176471, 0.1882353 ,\n",
              "        0.16862746, 0.34117648, 0.65882355, 0.52156866, 0.0627451 ,\n",
              "        0.        , 0.        , 0.        , 0.        , 0.        ,\n",
              "        0.        , 0.        , 0.        ],\n",
              "       [0.        , 0.        , 0.        , 0.00392157, 0.        ,\n",
              "        0.        , 0.        , 0.19215687, 0.53333336, 0.85882354,\n",
              "        0.84705883, 0.89411765, 0.9254902 , 1.        , 1.        ,\n",
              "        1.        , 1.        , 0.8509804 , 0.84313726, 0.99607843,\n",
              "        0.90588236, 0.627451  , 0.1764706 , 0.        , 0.        ,\n",
              "        0.        , 0.        , 0.        ],\n",
              "       [0.        , 0.        , 0.        , 0.        , 0.        ,\n",
              "        0.05490196, 0.6901961 , 0.87058824, 0.8784314 , 0.83137256,\n",
              "        0.79607844, 0.7764706 , 0.76862746, 0.78431374, 0.84313726,\n",
              "        0.8       , 0.7921569 , 0.7882353 , 0.7882353 , 0.7882353 ,\n",
              "        0.81960785, 0.85490197, 0.8784314 , 0.6431373 , 0.        ,\n",
              "        0.        , 0.        , 0.        ],\n",
              "       [0.        , 0.        , 0.        , 0.        , 0.        ,\n",
              "        0.7372549 , 0.85882354, 0.78431374, 0.7764706 , 0.7921569 ,\n",
              "        0.7764706 , 0.78039217, 0.78039217, 0.7882353 , 0.76862746,\n",
              "        0.7764706 , 0.7764706 , 0.78431374, 0.78431374, 0.78431374,\n",
              "        0.78431374, 0.7882353 , 0.78431374, 0.88235295, 0.16078432,\n",
              "        0.        , 0.        , 0.        ],\n",
              "       [0.        , 0.        , 0.        , 0.        , 0.2       ,\n",
              "        0.85882354, 0.78039217, 0.79607844, 0.79607844, 0.83137256,\n",
              "        0.93333334, 0.972549  , 0.98039216, 0.9607843 , 0.9764706 ,\n",
              "        0.9647059 , 0.96862745, 0.9882353 , 0.972549  , 0.92156863,\n",
              "        0.8117647 , 0.79607844, 0.79607844, 0.87058824, 0.54901963,\n",
              "        0.        , 0.        , 0.        ],\n",
              "       [0.        , 0.        , 0.        , 0.        , 0.45490196,\n",
              "        0.8862745 , 0.80784315, 0.8       , 0.8117647 , 0.8       ,\n",
              "        0.39607844, 0.29411766, 0.18431373, 0.28627452, 0.1882353 ,\n",
              "        0.19607843, 0.1764706 , 0.2       , 0.24705882, 0.44313726,\n",
              "        0.87058824, 0.7921569 , 0.80784315, 0.8627451 , 0.8784314 ,\n",
              "        0.        , 0.        , 0.        ],\n",
              "       [0.        , 0.        , 0.        , 0.        , 0.78431374,\n",
              "        0.87058824, 0.81960785, 0.79607844, 0.84313726, 0.78431374,\n",
              "        0.        , 0.27450982, 0.38431373, 0.        , 0.40392157,\n",
              "        0.23137255, 0.26666668, 0.2784314 , 0.19215687, 0.        ,\n",
              "        0.85882354, 0.80784315, 0.8392157 , 0.8235294 , 0.98039216,\n",
              "        0.14901961, 0.        , 0.        ],\n",
              "       [0.        , 0.        , 0.        , 0.        , 0.96862745,\n",
              "        0.85490197, 0.83137256, 0.8235294 , 0.84313726, 0.8392157 ,\n",
              "        0.        , 0.99607843, 0.9529412 , 0.54509807, 1.        ,\n",
              "        0.68235296, 0.9843137 , 1.        , 0.8039216 , 0.        ,\n",
              "        0.84313726, 0.8509804 , 0.8392157 , 0.8156863 , 0.8627451 ,\n",
              "        0.37254903, 0.        , 0.        ],\n",
              "       [0.        , 0.        , 0.        , 0.1764706 , 0.8862745 ,\n",
              "        0.8392157 , 0.8392157 , 0.84313726, 0.8784314 , 0.8039216 ,\n",
              "        0.        , 0.16470589, 0.13725491, 0.23529412, 0.0627451 ,\n",
              "        0.06666667, 0.04705882, 0.05098039, 0.27450982, 0.        ,\n",
              "        0.7411765 , 0.84705883, 0.83137256, 0.80784315, 0.83137256,\n",
              "        0.6117647 , 0.        , 0.        ],\n",
              "       [0.        , 0.        , 0.        , 0.6431373 , 0.92156863,\n",
              "        0.8392157 , 0.827451  , 0.8627451 , 0.84705883, 0.7882353 ,\n",
              "        0.20392157, 0.2784314 , 0.34901962, 0.36862746, 0.3254902 ,\n",
              "        0.30588236, 0.27450982, 0.29803923, 0.36078432, 0.34117648,\n",
              "        0.80784315, 0.8117647 , 0.87058824, 0.8352941 , 0.85882354,\n",
              "        0.8156863 , 0.        , 0.        ],\n",
              "       [0.        , 0.        , 0.        , 0.41568628, 0.73333335,\n",
              "        0.8745098 , 0.92941177, 0.972549  , 0.827451  , 0.7764706 ,\n",
              "        0.9882353 , 0.98039216, 0.972549  , 0.9607843 , 0.972549  ,\n",
              "        0.9882353 , 0.99215686, 0.98039216, 0.9882353 , 0.9372549 ,\n",
              "        0.7882353 , 0.83137256, 0.88235295, 0.84313726, 0.75686276,\n",
              "        0.44313726, 0.        , 0.        ],\n",
              "       [0.        , 0.        , 0.        , 0.        , 0.        ,\n",
              "        0.06666667, 0.21176471, 0.62352943, 0.87058824, 0.75686276,\n",
              "        0.8156863 , 0.7529412 , 0.77254903, 0.78431374, 0.78431374,\n",
              "        0.78431374, 0.78431374, 0.7882353 , 0.79607844, 0.7647059 ,\n",
              "        0.8235294 , 0.64705884, 0.        , 0.        , 0.        ,\n",
              "        0.        , 0.        , 0.        ],\n",
              "       [0.        , 0.        , 0.        , 0.        , 0.        ,\n",
              "        0.        , 0.        , 0.18431373, 0.88235295, 0.7529412 ,\n",
              "        0.8392157 , 0.79607844, 0.80784315, 0.8       , 0.8       ,\n",
              "        0.8039216 , 0.80784315, 0.8       , 0.83137256, 0.77254903,\n",
              "        0.85490197, 0.41960785, 0.        , 0.        , 0.        ,\n",
              "        0.        , 0.        , 0.        ],\n",
              "       [0.        , 0.        , 0.        , 0.        , 0.00392157,\n",
              "        0.02352941, 0.        , 0.18039216, 0.83137256, 0.7647059 ,\n",
              "        0.83137256, 0.7921569 , 0.80784315, 0.8039216 , 0.8       ,\n",
              "        0.8039216 , 0.80784315, 0.8       , 0.83137256, 0.78431374,\n",
              "        0.85490197, 0.35686275, 0.        , 0.01176471, 0.00392157,\n",
              "        0.        , 0.        , 0.        ],\n",
              "       [0.        , 0.        , 0.        , 0.        , 0.        ,\n",
              "        0.00392157, 0.        , 0.04313726, 0.77254903, 0.78039217,\n",
              "        0.8039216 , 0.7921569 , 0.8039216 , 0.80784315, 0.8       ,\n",
              "        0.8039216 , 0.8117647 , 0.8       , 0.8039216 , 0.8039216 ,\n",
              "        0.85490197, 0.3019608 , 0.        , 0.01960784, 0.        ,\n",
              "        0.        , 0.        , 0.        ],\n",
              "       [0.        , 0.        , 0.        , 0.        , 0.        ,\n",
              "        0.01176471, 0.        , 0.00784314, 0.7490196 , 0.7764706 ,\n",
              "        0.7882353 , 0.8039216 , 0.80784315, 0.8039216 , 0.8039216 ,\n",
              "        0.80784315, 0.81960785, 0.80784315, 0.78039217, 0.81960785,\n",
              "        0.85882354, 0.2901961 , 0.        , 0.01960784, 0.        ,\n",
              "        0.        , 0.        , 0.        ],\n",
              "       [0.        , 0.        , 0.        , 0.        , 0.        ,\n",
              "        0.00784314, 0.        , 0.        , 0.7372549 , 0.77254903,\n",
              "        0.78431374, 0.8117647 , 0.8117647 , 0.8       , 0.8117647 ,\n",
              "        0.8117647 , 0.8235294 , 0.8156863 , 0.7764706 , 0.8117647 ,\n",
              "        0.8666667 , 0.28235295, 0.        , 0.01568628, 0.        ,\n",
              "        0.        , 0.        , 0.        ],\n",
              "       [0.        , 0.        , 0.        , 0.        , 0.        ,\n",
              "        0.00784314, 0.        , 0.        , 0.84313726, 0.7764706 ,\n",
              "        0.79607844, 0.80784315, 0.8156863 , 0.8039216 , 0.8117647 ,\n",
              "        0.8117647 , 0.8235294 , 0.8156863 , 0.78431374, 0.7921569 ,\n",
              "        0.87058824, 0.29411766, 0.        , 0.01568628, 0.        ,\n",
              "        0.        , 0.        , 0.        ],\n",
              "       [0.        , 0.        , 0.        , 0.        , 0.        ,\n",
              "        0.00392157, 0.        , 0.        , 0.83137256, 0.7764706 ,\n",
              "        0.81960785, 0.80784315, 0.81960785, 0.80784315, 0.8156863 ,\n",
              "        0.8117647 , 0.827451  , 0.80784315, 0.8039216 , 0.7764706 ,\n",
              "        0.8666667 , 0.3137255 , 0.        , 0.01176471, 0.        ,\n",
              "        0.        , 0.        , 0.        ],\n",
              "       [0.        , 0.        , 0.        , 0.        , 0.        ,\n",
              "        0.00392157, 0.        , 0.        , 0.8       , 0.7882353 ,\n",
              "        0.8039216 , 0.8156863 , 0.8117647 , 0.8039216 , 0.827451  ,\n",
              "        0.8039216 , 0.8235294 , 0.8235294 , 0.81960785, 0.7647059 ,\n",
              "        0.8666667 , 0.3764706 , 0.        , 0.01176471, 0.        ,\n",
              "        0.        , 0.        , 0.        ],\n",
              "       [0.        , 0.        , 0.        , 0.        , 0.        ,\n",
              "        0.00392157, 0.        , 0.        , 0.7921569 , 0.7882353 ,\n",
              "        0.8039216 , 0.81960785, 0.8117647 , 0.8039216 , 0.8352941 ,\n",
              "        0.80784315, 0.8235294 , 0.81960785, 0.8235294 , 0.7607843 ,\n",
              "        0.8509804 , 0.4117647 , 0.        , 0.00784314, 0.        ,\n",
              "        0.        , 0.        , 0.        ],\n",
              "       [0.        , 0.        , 0.        , 0.        , 0.        ,\n",
              "        0.00392157, 0.        , 0.        , 0.8       , 0.8       ,\n",
              "        0.8039216 , 0.8156863 , 0.8117647 , 0.8039216 , 0.84313726,\n",
              "        0.8117647 , 0.8235294 , 0.8156863 , 0.827451  , 0.75686276,\n",
              "        0.8352941 , 0.4509804 , 0.        , 0.00784314, 0.        ,\n",
              "        0.        , 0.        , 0.        ],\n",
              "       [0.        , 0.        , 0.        , 0.        , 0.        ,\n",
              "        0.        , 0.        , 0.        , 0.8       , 0.8117647 ,\n",
              "        0.8117647 , 0.8156863 , 0.80784315, 0.80784315, 0.84313726,\n",
              "        0.8235294 , 0.8235294 , 0.8117647 , 0.83137256, 0.7647059 ,\n",
              "        0.8235294 , 0.4627451 , 0.        , 0.00784314, 0.        ,\n",
              "        0.        , 0.        , 0.        ],\n",
              "       [0.        , 0.        , 0.        , 0.        , 0.        ,\n",
              "        0.00392157, 0.        , 0.        , 0.7764706 , 0.8156863 ,\n",
              "        0.8156863 , 0.8156863 , 0.8       , 0.8117647 , 0.83137256,\n",
              "        0.83137256, 0.8235294 , 0.8117647 , 0.827451  , 0.76862746,\n",
              "        0.8117647 , 0.4745098 , 0.        , 0.00392157, 0.        ,\n",
              "        0.        , 0.        , 0.        ],\n",
              "       [0.        , 0.        , 0.        , 0.        , 0.        ,\n",
              "        0.00392157, 0.        , 0.        , 0.7764706 , 0.8235294 ,\n",
              "        0.8117647 , 0.8156863 , 0.80784315, 0.81960785, 0.8352941 ,\n",
              "        0.83137256, 0.827451  , 0.8117647 , 0.8235294 , 0.77254903,\n",
              "        0.8117647 , 0.4862745 , 0.        , 0.00392157, 0.        ,\n",
              "        0.        , 0.        , 0.        ],\n",
              "       [0.        , 0.        , 0.        , 0.        , 0.        ,\n",
              "        0.        , 0.        , 0.        , 0.6745098 , 0.8235294 ,\n",
              "        0.79607844, 0.7882353 , 0.78039217, 0.8       , 0.8117647 ,\n",
              "        0.8039216 , 0.8       , 0.7882353 , 0.8039216 , 0.77254903,\n",
              "        0.80784315, 0.49803922, 0.        , 0.        , 0.        ,\n",
              "        0.        , 0.        , 0.        ],\n",
              "       [0.        , 0.        , 0.        , 0.        , 0.        ,\n",
              "        0.        , 0.        , 0.        , 0.7372549 , 0.8666667 ,\n",
              "        0.8392157 , 0.91764706, 0.9254902 , 0.93333334, 0.95686275,\n",
              "        0.95686275, 0.95686275, 0.9411765 , 0.9529412 , 0.8392157 ,\n",
              "        0.8784314 , 0.63529414, 0.        , 0.00784314, 0.        ,\n",
              "        0.        , 0.        , 0.        ],\n",
              "       [0.        , 0.        , 0.        , 0.        , 0.        ,\n",
              "        0.00392157, 0.        , 0.        , 0.54509807, 0.57254905,\n",
              "        0.50980395, 0.5294118 , 0.5294118 , 0.5372549 , 0.49019608,\n",
              "        0.4862745 , 0.49019608, 0.4745098 , 0.46666667, 0.44705883,\n",
              "        0.50980395, 0.29803923, 0.        , 0.        , 0.        ,\n",
              "        0.        , 0.        , 0.        ]], dtype=float32)"
            ]
          },
          "metadata": {},
          "execution_count": 9
        }
      ]
    },
    {
      "cell_type": "code",
      "source": [
        "plt.imshow(x_train[0,], cmap='gray')"
      ],
      "metadata": {
        "colab": {
          "base_uri": "https://localhost:8080/",
          "height": 447
        },
        "id": "Il-UXtVBdago",
        "outputId": "03c40058-29bc-4091-b9df-562f9d907e09"
      },
      "execution_count": 35,
      "outputs": [
        {
          "output_type": "execute_result",
          "data": {
            "text/plain": [
              "<matplotlib.image.AxesImage at 0x7c8b35f63810>"
            ]
          },
          "metadata": {},
          "execution_count": 35
        },
        {
          "output_type": "display_data",
          "data": {
            "text/plain": [
              "<Figure size 640x480 with 1 Axes>"
            ],
            "image/png": "[encoded data removed]"
          },
          "metadata": {}
        }
      ]
    },
    {
      "cell_type": "code",
      "source": [
        "x_train, x_test = x_train.astype('float32')/255.0, x_test.astype('float32')/255.0"
      ],
      "metadata": {
        "id": "8LEffQpOdaui"
      },
      "execution_count": 36,
      "outputs": []
    },
    {
      "cell_type": "code",
      "source": [
        "x_train[1,]"
      ],
      "metadata": {
        "colab": {
          "base_uri": "https://localhost:8080/"
        },
        "collapsed": true,
        "id": "8FzoL8emePgx",
        "outputId": "22d77084-50bc-4f31-95e1-63409ea41d51"
      },
      "execution_count": 37,
      "outputs": [
        {
          "output_type": "execute_result",
          "data": {
            "text/plain": [
              "array([[0.        , 0.        , 0.        , 0.        , 0.        ,\n",
              "        0.00392157, 0.        , 0.        , 0.        , 0.        ,\n",
              "        0.16078432, 0.7372549 , 0.40392157, 0.21176471, 0.1882353 ,\n",
              "        0.16862746, 0.34117648, 0.65882355, 0.52156866, 0.0627451 ,\n",
              "        0.        , 0.        , 0.        , 0.        , 0.        ,\n",
              "        0.        , 0.        , 0.        ],\n",
              "       [0.        , 0.        , 0.        , 0.00392157, 0.        ,\n",
              "        0.        , 0.        , 0.19215687, 0.53333336, 0.85882354,\n",
              "        0.84705883, 0.89411765, 0.9254902 , 1.        , 1.        ,\n",
              "        1.        , 1.        , 0.8509804 , 0.84313726, 0.99607843,\n",
              "        0.90588236, 0.627451  , 0.1764706 , 0.        , 0.        ,\n",
              "        0.        , 0.        , 0.        ],\n",
              "       [0.        , 0.        , 0.        , 0.        , 0.        ,\n",
              "        0.05490196, 0.6901961 , 0.87058824, 0.8784314 , 0.83137256,\n",
              "        0.79607844, 0.7764706 , 0.76862746, 0.78431374, 0.84313726,\n",
              "        0.8       , 0.7921569 , 0.7882353 , 0.7882353 , 0.7882353 ,\n",
              "        0.81960785, 0.85490197, 0.8784314 , 0.6431373 , 0.        ,\n",
              "        0.        , 0.        , 0.        ],\n",
              "       [0.        , 0.        , 0.        , 0.        , 0.        ,\n",
              "        0.7372549 , 0.85882354, 0.78431374, 0.7764706 , 0.7921569 ,\n",
              "        0.7764706 , 0.78039217, 0.78039217, 0.7882353 , 0.76862746,\n",
              "        0.7764706 , 0.7764706 , 0.78431374, 0.78431374, 0.78431374,\n",
              "        0.78431374, 0.7882353 , 0.78431374, 0.88235295, 0.16078432,\n",
              "        0.        , 0.        , 0.        ],\n",
              "       [0.        , 0.        , 0.        , 0.        , 0.2       ,\n",
              "        0.85882354, 0.78039217, 0.79607844, 0.79607844, 0.83137256,\n",
              "        0.93333334, 0.972549  , 0.98039216, 0.9607843 , 0.9764706 ,\n",
              "        0.9647059 , 0.96862745, 0.9882353 , 0.972549  , 0.92156863,\n",
              "        0.8117647 , 0.79607844, 0.79607844, 0.87058824, 0.54901963,\n",
              "        0.        , 0.        , 0.        ],\n",
              "       [0.        , 0.        , 0.        , 0.        , 0.45490196,\n",
              "        0.8862745 , 0.80784315, 0.8       , 0.8117647 , 0.8       ,\n",
              "        0.39607844, 0.29411766, 0.18431373, 0.28627452, 0.1882353 ,\n",
              "        0.19607843, 0.1764706 , 0.2       , 0.24705882, 0.44313726,\n",
              "        0.87058824, 0.7921569 , 0.80784315, 0.8627451 , 0.8784314 ,\n",
              "        0.        , 0.        , 0.        ],\n",
              "       [0.        , 0.        , 0.        , 0.        , 0.78431374,\n",
              "        0.87058824, 0.81960785, 0.79607844, 0.84313726, 0.78431374,\n",
              "        0.        , 0.27450982, 0.38431373, 0.        , 0.40392157,\n",
              "        0.23137255, 0.26666668, 0.2784314 , 0.19215687, 0.        ,\n",
              "        0.85882354, 0.80784315, 0.8392157 , 0.8235294 , 0.98039216,\n",
              "        0.14901961, 0.        , 0.        ],\n",
              "       [0.        , 0.        , 0.        , 0.        , 0.96862745,\n",
              "        0.85490197, 0.83137256, 0.8235294 , 0.84313726, 0.8392157 ,\n",
              "        0.        , 0.99607843, 0.9529412 , 0.54509807, 1.        ,\n",
              "        0.68235296, 0.9843137 , 1.        , 0.8039216 , 0.        ,\n",
              "        0.84313726, 0.8509804 , 0.8392157 , 0.8156863 , 0.8627451 ,\n",
              "        0.37254903, 0.        , 0.        ],\n",
              "       [0.        , 0.        , 0.        , 0.1764706 , 0.8862745 ,\n",
              "        0.8392157 , 0.8392157 , 0.84313726, 0.8784314 , 0.8039216 ,\n",
              "        0.        , 0.16470589, 0.13725491, 0.23529412, 0.0627451 ,\n",
              "        0.06666667, 0.04705882, 0.05098039, 0.27450982, 0.        ,\n",
              "        0.7411765 , 0.84705883, 0.83137256, 0.80784315, 0.83137256,\n",
              "        0.6117647 , 0.        , 0.        ],\n",
              "       [0.        , 0.        , 0.        , 0.6431373 , 0.92156863,\n",
              "        0.8392157 , 0.827451  , 0.8627451 , 0.84705883, 0.7882353 ,\n",
              "        0.20392157, 0.2784314 , 0.34901962, 0.36862746, 0.3254902 ,\n",
              "        0.30588236, 0.27450982, 0.29803923, 0.36078432, 0.34117648,\n",
              "        0.80784315, 0.8117647 , 0.87058824, 0.8352941 , 0.85882354,\n",
              "        0.8156863 , 0.        , 0.        ],\n",
              "       [0.        , 0.        , 0.        , 0.41568628, 0.73333335,\n",
              "        0.8745098 , 0.92941177, 0.972549  , 0.827451  , 0.7764706 ,\n",
              "        0.9882353 , 0.98039216, 0.972549  , 0.9607843 , 0.972549  ,\n",
              "        0.9882353 , 0.99215686, 0.98039216, 0.9882353 , 0.9372549 ,\n",
              "        0.7882353 , 0.83137256, 0.88235295, 0.84313726, 0.75686276,\n",
              "        0.44313726, 0.        , 0.        ],\n",
              "       [0.        , 0.        , 0.        , 0.        , 0.        ,\n",
              "        0.06666667, 0.21176471, 0.62352943, 0.87058824, 0.75686276,\n",
              "        0.8156863 , 0.7529412 , 0.77254903, 0.78431374, 0.78431374,\n",
              "        0.78431374, 0.78431374, 0.7882353 , 0.79607844, 0.7647059 ,\n",
              "        0.8235294 , 0.64705884, 0.        , 0.        , 0.        ,\n",
              "        0.        , 0.        , 0.        ],\n",
              "       [0.        , 0.        , 0.        , 0.        , 0.        ,\n",
              "        0.        , 0.        , 0.18431373, 0.88235295, 0.7529412 ,\n",
              "        0.8392157 , 0.79607844, 0.80784315, 0.8       , 0.8       ,\n",
              "        0.8039216 , 0.80784315, 0.8       , 0.83137256, 0.77254903,\n",
              "        0.85490197, 0.41960785, 0.        , 0.        , 0.        ,\n",
              "        0.        , 0.        , 0.        ],\n",
              "       [0.        , 0.        , 0.        , 0.        , 0.00392157,\n",
              "        0.02352941, 0.        , 0.18039216, 0.83137256, 0.7647059 ,\n",
              "        0.83137256, 0.7921569 , 0.80784315, 0.8039216 , 0.8       ,\n",
              "        0.8039216 , 0.80784315, 0.8       , 0.83137256, 0.78431374,\n",
              "        0.85490197, 0.35686275, 0.        , 0.01176471, 0.00392157,\n",
              "        0.        , 0.        , 0.        ],\n",
              "       [0.        , 0.        , 0.        , 0.        , 0.        ,\n",
              "        0.00392157, 0.        , 0.04313726, 0.77254903, 0.78039217,\n",
              "        0.8039216 , 0.7921569 , 0.8039216 , 0.80784315, 0.8       ,\n",
              "        0.8039216 , 0.8117647 , 0.8       , 0.8039216 , 0.8039216 ,\n",
              "        0.85490197, 0.3019608 , 0.        , 0.01960784, 0.        ,\n",
              "        0.        , 0.        , 0.        ],\n",
              "       [0.        , 0.        , 0.        , 0.        , 0.        ,\n",
              "        0.01176471, 0.        , 0.00784314, 0.7490196 , 0.7764706 ,\n",
              "        0.7882353 , 0.8039216 , 0.80784315, 0.8039216 , 0.8039216 ,\n",
              "        0.80784315, 0.81960785, 0.80784315, 0.78039217, 0.81960785,\n",
              "        0.85882354, 0.2901961 , 0.        , 0.01960784, 0.        ,\n",
              "        0.        , 0.        , 0.        ],\n",
              "       [0.        , 0.        , 0.        , 0.        , 0.        ,\n",
              "        0.00784314, 0.        , 0.        , 0.7372549 , 0.77254903,\n",
              "        0.78431374, 0.8117647 , 0.8117647 , 0.8       , 0.8117647 ,\n",
              "        0.8117647 , 0.8235294 , 0.8156863 , 0.7764706 , 0.8117647 ,\n",
              "        0.8666667 , 0.28235295, 0.        , 0.01568628, 0.        ,\n",
              "        0.        , 0.        , 0.        ],\n",
              "       [0.        , 0.        , 0.        , 0.        , 0.        ,\n",
              "        0.00784314, 0.        , 0.        , 0.84313726, 0.7764706 ,\n",
              "        0.79607844, 0.80784315, 0.8156863 , 0.8039216 , 0.8117647 ,\n",
              "        0.8117647 , 0.8235294 , 0.8156863 , 0.78431374, 0.7921569 ,\n",
              "        0.87058824, 0.29411766, 0.        , 0.01568628, 0.        ,\n",
              "        0.        , 0.        , 0.        ],\n",
              "       [0.        , 0.        , 0.        , 0.        , 0.        ,\n",
              "        0.00392157, 0.        , 0.        , 0.83137256, 0.7764706 ,\n",
              "        0.81960785, 0.80784315, 0.81960785, 0.80784315, 0.8156863 ,\n",
              "        0.8117647 , 0.827451  , 0.80784315, 0.8039216 , 0.7764706 ,\n",
              "        0.8666667 , 0.3137255 , 0.        , 0.01176471, 0.        ,\n",
              "        0.        , 0.        , 0.        ],\n",
              "       [0.        , 0.        , 0.        , 0.        , 0.        ,\n",
              "        0.00392157, 0.        , 0.        , 0.8       , 0.7882353 ,\n",
              "        0.8039216 , 0.8156863 , 0.8117647 , 0.8039216 , 0.827451  ,\n",
              "        0.8039216 , 0.8235294 , 0.8235294 , 0.81960785, 0.7647059 ,\n",
              "        0.8666667 , 0.3764706 , 0.        , 0.01176471, 0.        ,\n",
              "        0.        , 0.        , 0.        ],\n",
              "       [0.        , 0.        , 0.        , 0.        , 0.        ,\n",
              "        0.00392157, 0.        , 0.        , 0.7921569 , 0.7882353 ,\n",
              "        0.8039216 , 0.81960785, 0.8117647 , 0.8039216 , 0.8352941 ,\n",
              "        0.80784315, 0.8235294 , 0.81960785, 0.8235294 , 0.7607843 ,\n",
              "        0.8509804 , 0.4117647 , 0.        , 0.00784314, 0.        ,\n",
              "        0.        , 0.        , 0.        ],\n",
              "       [0.        , 0.        , 0.        , 0.        , 0.        ,\n",
              "        0.00392157, 0.        , 0.        , 0.8       , 0.8       ,\n",
              "        0.8039216 , 0.8156863 , 0.8117647 , 0.8039216 , 0.84313726,\n",
              "        0.8117647 , 0.8235294 , 0.8156863 , 0.827451  , 0.75686276,\n",
              "        0.8352941 , 0.4509804 , 0.        , 0.00784314, 0.        ,\n",
              "        0.        , 0.        , 0.        ],\n",
              "       [0.        , 0.        , 0.        , 0.        , 0.        ,\n",
              "        0.        , 0.        , 0.        , 0.8       , 0.8117647 ,\n",
              "        0.8117647 , 0.8156863 , 0.80784315, 0.80784315, 0.84313726,\n",
              "        0.8235294 , 0.8235294 , 0.8117647 , 0.83137256, 0.7647059 ,\n",
              "        0.8235294 , 0.4627451 , 0.        , 0.00784314, 0.        ,\n",
              "        0.        , 0.        , 0.        ],\n",
              "       [0.        , 0.        , 0.        , 0.        , 0.        ,\n",
              "        0.00392157, 0.        , 0.        , 0.7764706 , 0.8156863 ,\n",
              "        0.8156863 , 0.8156863 , 0.8       , 0.8117647 , 0.83137256,\n",
              "        0.83137256, 0.8235294 , 0.8117647 , 0.827451  , 0.76862746,\n",
              "        0.8117647 , 0.4745098 , 0.        , 0.00392157, 0.        ,\n",
              "        0.        , 0.        , 0.        ],\n",
              "       [0.        , 0.        , 0.        , 0.        , 0.        ,\n",
              "        0.00392157, 0.        , 0.        , 0.7764706 , 0.8235294 ,\n",
              "        0.8117647 , 0.8156863 , 0.80784315, 0.81960785, 0.8352941 ,\n",
              "        0.83137256, 0.827451  , 0.8117647 , 0.8235294 , 0.77254903,\n",
              "        0.8117647 , 0.4862745 , 0.        , 0.00392157, 0.        ,\n",
              "        0.        , 0.        , 0.        ],\n",
              "       [0.        , 0.        , 0.        , 0.        , 0.        ,\n",
              "        0.        , 0.        , 0.        , 0.6745098 , 0.8235294 ,\n",
              "        0.79607844, 0.7882353 , 0.78039217, 0.8       , 0.8117647 ,\n",
              "        0.8039216 , 0.8       , 0.7882353 , 0.8039216 , 0.77254903,\n",
              "        0.80784315, 0.49803922, 0.        , 0.        , 0.        ,\n",
              "        0.        , 0.        , 0.        ],\n",
              "       [0.        , 0.        , 0.        , 0.        , 0.        ,\n",
              "        0.        , 0.        , 0.        , 0.7372549 , 0.8666667 ,\n",
              "        0.8392157 , 0.91764706, 0.9254902 , 0.93333334, 0.95686275,\n",
              "        0.95686275, 0.95686275, 0.9411765 , 0.9529412 , 0.8392157 ,\n",
              "        0.8784314 , 0.63529414, 0.        , 0.00784314, 0.        ,\n",
              "        0.        , 0.        , 0.        ],\n",
              "       [0.        , 0.        , 0.        , 0.        , 0.        ,\n",
              "        0.00392157, 0.        , 0.        , 0.54509807, 0.57254905,\n",
              "        0.50980395, 0.5294118 , 0.5294118 , 0.5372549 , 0.49019608,\n",
              "        0.4862745 , 0.49019608, 0.4745098 , 0.46666667, 0.44705883,\n",
              "        0.50980395, 0.29803923, 0.        , 0.        , 0.        ,\n",
              "        0.        , 0.        , 0.        ]], dtype=float32)"
            ]
          },
          "metadata": {},
          "execution_count": 37
        }
      ]
    },
    {
      "cell_type": "markdown",
      "source": [
        "# Fit Model"
      ],
      "metadata": {
        "id": "BWSM1ubceyiH"
      }
    },
    {
      "cell_type": "code",
      "source": [
        "model = keras.models.Sequential([\n",
        "    keras.layers.Flatten(input_shape=[28, 28]),\n",
        "    keras.layers.Dense(100, activation='relu'),\n",
        "    keras.layers.Dense(75, activation='relu'),\n",
        "    keras.layers.Dense(10, activation='softmax')\n",
        "    ])"
      ],
      "metadata": {
        "colab": {
          "base_uri": "https://localhost:8080/"
        },
        "id": "Pus7uFixePbG",
        "outputId": "e83abff7-2cae-49b4-f907-dd213727d62d"
      },
      "execution_count": 38,
      "outputs": [
        {
          "output_type": "stream",
          "name": "stderr",
          "text": [
            "/usr/local/lib/python3.11/dist-packages/keras/src/layers/reshaping/flatten.py:37: UserWarning: Do not pass an `input_shape`/`input_dim` argument to a layer. When using Sequential models, prefer using an `Input(shape)` object as the first layer in the model instead.\n",
            "  super().__init__(**kwargs)\n"
          ]
        }
      ]
    },
    {
      "cell_type": "code",
      "source": [
        "model.summary()"
      ],
      "metadata": {
        "colab": {
          "base_uri": "https://localhost:8080/",
          "height": 272
        },
        "id": "tDW5I9FYePSK",
        "outputId": "fc9b372a-0ddf-4e69-86ec-12f9f1350de7"
      },
      "execution_count": 39,
      "outputs": [
        {
          "output_type": "display_data",
          "data": {
            "text/plain": [
              "\u001b[1mModel: \"sequential_1\"\u001b[0m\n"
            ],
            "text/html": [
              "<pre style=\"white-space:pre;overflow-x:auto;line-height:normal;font-family:Menlo,'DejaVu Sans Mono',consolas,'Courier New',monospace\"><span style=\"font-weight: bold\">Model: \"sequential_1\"</span>\n",
              "</pre>\n"
            ]
          },
          "metadata": {}
        },
        {
          "output_type": "display_data",
          "data": {
            "text/plain": [
              "┏━━━━━━━━━━━━━━━━━━━━━━━━━━━━━━━━━━━━━━┳━━━━━━━━━━━━━━━━━━━━━━━━━━━━━┳━━━━━━━━━━━━━━━━━┓\n",
              "┃\u001b[1m \u001b[0m\u001b[1mLayer (type)                        \u001b[0m\u001b[1m \u001b[0m┃\u001b[1m \u001b[0m\u001b[1mOutput Shape               \u001b[0m\u001b[1m \u001b[0m┃\u001b[1m \u001b[0m\u001b[1m        Param #\u001b[0m\u001b[1m \u001b[0m┃\n",
              "┡━━━━━━━━━━━━━━━━━━━━━━━━━━━━━━━━━━━━━━╇━━━━━━━━━━━━━━━━━━━━━━━━━━━━━╇━━━━━━━━━━━━━━━━━┩\n",
              "│ flatten_1 (\u001b[38;5;33mFlatten\u001b[0m)                  │ (\u001b[38;5;45mNone\u001b[0m, \u001b[38;5;34m784\u001b[0m)                 │               \u001b[38;5;34m0\u001b[0m │\n",
              "├──────────────────────────────────────┼─────────────────────────────┼─────────────────┤\n",
              "│ dense_3 (\u001b[38;5;33mDense\u001b[0m)                      │ (\u001b[38;5;45mNone\u001b[0m, \u001b[38;5;34m100\u001b[0m)                 │          \u001b[38;5;34m78,500\u001b[0m │\n",
              "├──────────────────────────────────────┼─────────────────────────────┼─────────────────┤\n",
              "│ dense_4 (\u001b[38;5;33mDense\u001b[0m)                      │ (\u001b[38;5;45mNone\u001b[0m, \u001b[38;5;34m75\u001b[0m)                  │           \u001b[38;5;34m7,575\u001b[0m │\n",
              "├──────────────────────────────────────┼─────────────────────────────┼─────────────────┤\n",
              "│ dense_5 (\u001b[38;5;33mDense\u001b[0m)                      │ (\u001b[38;5;45mNone\u001b[0m, \u001b[38;5;34m10\u001b[0m)                  │             \u001b[38;5;34m760\u001b[0m │\n",
              "└──────────────────────────────────────┴─────────────────────────────┴─────────────────┘\n"
            ],
            "text/html": [
              "<pre style=\"white-space:pre;overflow-x:auto;line-height:normal;font-family:Menlo,'DejaVu Sans Mono',consolas,'Courier New',monospace\">┏━━━━━━━━━━━━━━━━━━━━━━━━━━━━━━━━━━━━━━┳━━━━━━━━━━━━━━━━━━━━━━━━━━━━━┳━━━━━━━━━━━━━━━━━┓\n",
              "┃<span style=\"font-weight: bold\"> Layer (type)                         </span>┃<span style=\"font-weight: bold\"> Output Shape                </span>┃<span style=\"font-weight: bold\">         Param # </span>┃\n",
              "┡━━━━━━━━━━━━━━━━━━━━━━━━━━━━━━━━━━━━━━╇━━━━━━━━━━━━━━━━━━━━━━━━━━━━━╇━━━━━━━━━━━━━━━━━┩\n",
              "│ flatten_1 (<span style=\"color: #0087ff; text-decoration-color: #0087ff\">Flatten</span>)                  │ (<span style=\"color: #00d7ff; text-decoration-color: #00d7ff\">None</span>, <span style=\"color: #00af00; text-decoration-color: #00af00\">784</span>)                 │               <span style=\"color: #00af00; text-decoration-color: #00af00\">0</span> │\n",
              "├──────────────────────────────────────┼─────────────────────────────┼─────────────────┤\n",
              "│ dense_3 (<span style=\"color: #0087ff; text-decoration-color: #0087ff\">Dense</span>)                      │ (<span style=\"color: #00d7ff; text-decoration-color: #00d7ff\">None</span>, <span style=\"color: #00af00; text-decoration-color: #00af00\">100</span>)                 │          <span style=\"color: #00af00; text-decoration-color: #00af00\">78,500</span> │\n",
              "├──────────────────────────────────────┼─────────────────────────────┼─────────────────┤\n",
              "│ dense_4 (<span style=\"color: #0087ff; text-decoration-color: #0087ff\">Dense</span>)                      │ (<span style=\"color: #00d7ff; text-decoration-color: #00d7ff\">None</span>, <span style=\"color: #00af00; text-decoration-color: #00af00\">75</span>)                  │           <span style=\"color: #00af00; text-decoration-color: #00af00\">7,575</span> │\n",
              "├──────────────────────────────────────┼─────────────────────────────┼─────────────────┤\n",
              "│ dense_5 (<span style=\"color: #0087ff; text-decoration-color: #0087ff\">Dense</span>)                      │ (<span style=\"color: #00d7ff; text-decoration-color: #00d7ff\">None</span>, <span style=\"color: #00af00; text-decoration-color: #00af00\">10</span>)                  │             <span style=\"color: #00af00; text-decoration-color: #00af00\">760</span> │\n",
              "└──────────────────────────────────────┴─────────────────────────────┴─────────────────┘\n",
              "</pre>\n"
            ]
          },
          "metadata": {}
        },
        {
          "output_type": "display_data",
          "data": {
            "text/plain": [
              "\u001b[1m Total params: \u001b[0m\u001b[38;5;34m86,835\u001b[0m (339.20 KB)\n"
            ],
            "text/html": [
              "<pre style=\"white-space:pre;overflow-x:auto;line-height:normal;font-family:Menlo,'DejaVu Sans Mono',consolas,'Courier New',monospace\"><span style=\"font-weight: bold\"> Total params: </span><span style=\"color: #00af00; text-decoration-color: #00af00\">86,835</span> (339.20 KB)\n",
              "</pre>\n"
            ]
          },
          "metadata": {}
        },
        {
          "output_type": "display_data",
          "data": {
            "text/plain": [
              "\u001b[1m Trainable params: \u001b[0m\u001b[38;5;34m86,835\u001b[0m (339.20 KB)\n"
            ],
            "text/html": [
              "<pre style=\"white-space:pre;overflow-x:auto;line-height:normal;font-family:Menlo,'DejaVu Sans Mono',consolas,'Courier New',monospace\"><span style=\"font-weight: bold\"> Trainable params: </span><span style=\"color: #00af00; text-decoration-color: #00af00\">86,835</span> (339.20 KB)\n",
              "</pre>\n"
            ]
          },
          "metadata": {}
        },
        {
          "output_type": "display_data",
          "data": {
            "text/plain": [
              "\u001b[1m Non-trainable params: \u001b[0m\u001b[38;5;34m0\u001b[0m (0.00 B)\n"
            ],
            "text/html": [
              "<pre style=\"white-space:pre;overflow-x:auto;line-height:normal;font-family:Menlo,'DejaVu Sans Mono',consolas,'Courier New',monospace\"><span style=\"font-weight: bold\"> Non-trainable params: </span><span style=\"color: #00af00; text-decoration-color: #00af00\">0</span> (0.00 B)\n",
              "</pre>\n"
            ]
          },
          "metadata": {}
        }
      ]
    },
    {
      "cell_type": "code",
      "source": [
        "model.layers"
      ],
      "metadata": {
        "colab": {
          "base_uri": "https://localhost:8080/"
        },
        "id": "wDaj4qgPePD3",
        "outputId": "c9cb0fb6-218f-4803-8a66-ab37af0bc462"
      },
      "execution_count": 40,
      "outputs": [
        {
          "output_type": "execute_result",
          "data": {
            "text/plain": [
              "[<Flatten name=flatten_1, built=True>,\n",
              " <Dense name=dense_3, built=True>,\n",
              " <Dense name=dense_4, built=True>,\n",
              " <Dense name=dense_5, built=True>]"
            ]
          },
          "metadata": {},
          "execution_count": 40
        }
      ]
    },
    {
      "cell_type": "code",
      "source": [
        "weights, bias = model.layers[1].get_weights()"
      ],
      "metadata": {
        "id": "SE9RnIK2fEKk"
      },
      "execution_count": 41,
      "outputs": []
    },
    {
      "cell_type": "code",
      "source": [
        "weights"
      ],
      "metadata": {
        "colab": {
          "base_uri": "https://localhost:8080/"
        },
        "collapsed": true,
        "id": "7h8B8BeufD2N",
        "outputId": "256476af-5792-44af-df52-f3ae600fb808"
      },
      "execution_count": 42,
      "outputs": [
        {
          "output_type": "execute_result",
          "data": {
            "text/plain": [
              "array([[ 0.03654971, -0.01733169,  0.04646991, ..., -0.02009512,\n",
              "        -0.05623738, -0.00419036],\n",
              "       [ 0.07853515, -0.05868114,  0.04557227, ...,  0.02643621,\n",
              "         0.04502141,  0.03233715],\n",
              "       [ 0.07497509,  0.04755531,  0.03623591, ...,  0.05456288,\n",
              "         0.01532481,  0.07294624],\n",
              "       ...,\n",
              "       [ 0.06834738, -0.0244758 , -0.00787312, ...,  0.03660309,\n",
              "         0.00502466,  0.05189927],\n",
              "       [ 0.04555821,  0.05591658,  0.06859289, ..., -0.02153403,\n",
              "         0.07069193, -0.04304434],\n",
              "       [ 0.0374726 , -0.05522502,  0.04032218, ...,  0.02732083,\n",
              "         0.0333579 , -0.06275469]], dtype=float32)"
            ]
          },
          "metadata": {},
          "execution_count": 42
        }
      ]
    },
    {
      "cell_type": "code",
      "source": [
        "bias"
      ],
      "metadata": {
        "colab": {
          "base_uri": "https://localhost:8080/"
        },
        "id": "oWIqrmDofM49",
        "outputId": "517c024d-9fe0-42fd-f4dc-87ea52ccf346"
      },
      "execution_count": 43,
      "outputs": [
        {
          "output_type": "execute_result",
          "data": {
            "text/plain": [
              "array([0., 0., 0., 0., 0., 0., 0., 0., 0., 0., 0., 0., 0., 0., 0., 0., 0.,\n",
              "       0., 0., 0., 0., 0., 0., 0., 0., 0., 0., 0., 0., 0., 0., 0., 0., 0.,\n",
              "       0., 0., 0., 0., 0., 0., 0., 0., 0., 0., 0., 0., 0., 0., 0., 0., 0.,\n",
              "       0., 0., 0., 0., 0., 0., 0., 0., 0., 0., 0., 0., 0., 0., 0., 0., 0.,\n",
              "       0., 0., 0., 0., 0., 0., 0., 0., 0., 0., 0., 0., 0., 0., 0., 0., 0.,\n",
              "       0., 0., 0., 0., 0., 0., 0., 0., 0., 0., 0., 0., 0., 0., 0.],\n",
              "      dtype=float32)"
            ]
          },
          "metadata": {},
          "execution_count": 43
        }
      ]
    },
    {
      "cell_type": "markdown",
      "source": [
        "# Compile"
      ],
      "metadata": {
        "id": "C6hvv9zHupDp"
      }
    },
    {
      "cell_type": "code",
      "source": [
        "model.compile(optimizer='sgd',\n",
        "              loss='sparse_categorical_crossentropy',\n",
        "              metrics=['accuracy'])"
      ],
      "metadata": {
        "id": "uERzFy1dfQWc"
      },
      "execution_count": 44,
      "outputs": []
    },
    {
      "cell_type": "markdown",
      "source": [
        "# Fit Model"
      ],
      "metadata": {
        "id": "MdfA0qNTu63Q"
      }
    },
    {
      "cell_type": "code",
      "source": [
        "history = model.fit(x_train, y_train, epochs=50, validation_split=0.15)"
      ],
      "metadata": {
        "colab": {
          "base_uri": "https://localhost:8080/"
        },
        "id": "0SBaqmtzfQGG",
        "outputId": "9c7c6d77-f2e7-4289-f79d-dbea91e28f76",
        "collapsed": true
      },
      "execution_count": 45,
      "outputs": [
        {
          "output_type": "stream",
          "name": "stdout",
          "text": [
            "Epoch 1/50\n",
            "\u001b[1m1594/1594\u001b[0m \u001b[32m━━━━━━━━━━━━━━━━━━━━\u001b[0m\u001b[37m\u001b[0m \u001b[1m5s\u001b[0m 3ms/step - accuracy: 0.6362 - loss: 1.1138 - val_accuracy: 0.8106 - val_loss: 0.5558\n",
            "Epoch 2/50\n",
            "\u001b[1m1594/1594\u001b[0m \u001b[32m━━━━━━━━━━━━━━━━━━━━\u001b[0m\u001b[37m\u001b[0m \u001b[1m4s\u001b[0m 3ms/step - accuracy: 0.8196 - loss: 0.5244 - val_accuracy: 0.8187 - val_loss: 0.5046\n",
            "Epoch 3/50\n",
            "\u001b[1m1594/1594\u001b[0m \u001b[32m━━━━━━━━━━━━━━━━━━━━\u001b[0m\u001b[37m\u001b[0m \u001b[1m6s\u001b[0m 3ms/step - accuracy: 0.8390 - loss: 0.4676 - val_accuracy: 0.8389 - val_loss: 0.4595\n",
            "Epoch 4/50\n",
            "\u001b[1m1594/1594\u001b[0m \u001b[32m━━━━━━━━━━━━━━━━━━━━\u001b[0m\u001b[37m\u001b[0m \u001b[1m4s\u001b[0m 3ms/step - accuracy: 0.8454 - loss: 0.4395 - val_accuracy: 0.8456 - val_loss: 0.4364\n",
            "Epoch 5/50\n",
            "\u001b[1m1594/1594\u001b[0m \u001b[32m━━━━━━━━━━━━━━━━━━━━\u001b[0m\u001b[37m\u001b[0m \u001b[1m4s\u001b[0m 3ms/step - accuracy: 0.8547 - loss: 0.4128 - val_accuracy: 0.8514 - val_loss: 0.4214\n",
            "Epoch 6/50\n",
            "\u001b[1m1594/1594\u001b[0m \u001b[32m━━━━━━━━━━━━━━━━━━━━\u001b[0m\u001b[37m\u001b[0m \u001b[1m6s\u001b[0m 3ms/step - accuracy: 0.8623 - loss: 0.3978 - val_accuracy: 0.8524 - val_loss: 0.4187\n",
            "Epoch 7/50\n",
            "\u001b[1m1594/1594\u001b[0m \u001b[32m━━━━━━━━━━━━━━━━━━━━\u001b[0m\u001b[37m\u001b[0m \u001b[1m4s\u001b[0m 3ms/step - accuracy: 0.8639 - loss: 0.3867 - val_accuracy: 0.8523 - val_loss: 0.4103\n",
            "Epoch 8/50\n",
            "\u001b[1m1594/1594\u001b[0m \u001b[32m━━━━━━━━━━━━━━━━━━━━\u001b[0m\u001b[37m\u001b[0m \u001b[1m5s\u001b[0m 3ms/step - accuracy: 0.8652 - loss: 0.3781 - val_accuracy: 0.8530 - val_loss: 0.4207\n",
            "Epoch 9/50\n",
            "\u001b[1m1594/1594\u001b[0m \u001b[32m━━━━━━━━━━━━━━━━━━━━\u001b[0m\u001b[37m\u001b[0m \u001b[1m4s\u001b[0m 3ms/step - accuracy: 0.8705 - loss: 0.3684 - val_accuracy: 0.8619 - val_loss: 0.3903\n",
            "Epoch 10/50\n",
            "\u001b[1m1594/1594\u001b[0m \u001b[32m━━━━━━━━━━━━━━━━━━━━\u001b[0m\u001b[37m\u001b[0m \u001b[1m5s\u001b[0m 3ms/step - accuracy: 0.8731 - loss: 0.3577 - val_accuracy: 0.8644 - val_loss: 0.3796\n",
            "Epoch 11/50\n",
            "\u001b[1m1594/1594\u001b[0m \u001b[32m━━━━━━━━━━━━━━━━━━━━\u001b[0m\u001b[37m\u001b[0m \u001b[1m5s\u001b[0m 3ms/step - accuracy: 0.8746 - loss: 0.3512 - val_accuracy: 0.8644 - val_loss: 0.3800\n",
            "Epoch 12/50\n",
            "\u001b[1m1594/1594\u001b[0m \u001b[32m━━━━━━━━━━━━━━━━━━━━\u001b[0m\u001b[37m\u001b[0m \u001b[1m4s\u001b[0m 2ms/step - accuracy: 0.8792 - loss: 0.3363 - val_accuracy: 0.8567 - val_loss: 0.4021\n",
            "Epoch 13/50\n",
            "\u001b[1m1594/1594\u001b[0m \u001b[32m━━━━━━━━━━━━━━━━━━━━\u001b[0m\u001b[37m\u001b[0m \u001b[1m6s\u001b[0m 3ms/step - accuracy: 0.8825 - loss: 0.3327 - val_accuracy: 0.8719 - val_loss: 0.3688\n",
            "Epoch 14/50\n",
            "\u001b[1m1594/1594\u001b[0m \u001b[32m━━━━━━━━━━━━━━━━━━━━\u001b[0m\u001b[37m\u001b[0m \u001b[1m4s\u001b[0m 2ms/step - accuracy: 0.8824 - loss: 0.3286 - val_accuracy: 0.8640 - val_loss: 0.3821\n",
            "Epoch 15/50\n",
            "\u001b[1m1594/1594\u001b[0m \u001b[32m━━━━━━━━━━━━━━━━━━━━\u001b[0m\u001b[37m\u001b[0m \u001b[1m4s\u001b[0m 3ms/step - accuracy: 0.8849 - loss: 0.3198 - val_accuracy: 0.8754 - val_loss: 0.3494\n",
            "Epoch 16/50\n",
            "\u001b[1m1594/1594\u001b[0m \u001b[32m━━━━━━━━━━━━━━━━━━━━\u001b[0m\u001b[37m\u001b[0m \u001b[1m5s\u001b[0m 3ms/step - accuracy: 0.8878 - loss: 0.3112 - val_accuracy: 0.8726 - val_loss: 0.3620\n",
            "Epoch 17/50\n",
            "\u001b[1m1594/1594\u001b[0m \u001b[32m━━━━━━━━━━━━━━━━━━━━\u001b[0m\u001b[37m\u001b[0m \u001b[1m9s\u001b[0m 3ms/step - accuracy: 0.8880 - loss: 0.3124 - val_accuracy: 0.8737 - val_loss: 0.3501\n",
            "Epoch 18/50\n",
            "\u001b[1m1594/1594\u001b[0m \u001b[32m━━━━━━━━━━━━━━━━━━━━\u001b[0m\u001b[37m\u001b[0m \u001b[1m5s\u001b[0m 3ms/step - accuracy: 0.8926 - loss: 0.3033 - val_accuracy: 0.8713 - val_loss: 0.3594\n",
            "Epoch 19/50\n",
            "\u001b[1m1594/1594\u001b[0m \u001b[32m━━━━━━━━━━━━━━━━━━━━\u001b[0m\u001b[37m\u001b[0m \u001b[1m5s\u001b[0m 2ms/step - accuracy: 0.8921 - loss: 0.2986 - val_accuracy: 0.8754 - val_loss: 0.3495\n",
            "Epoch 20/50\n",
            "\u001b[1m1594/1594\u001b[0m \u001b[32m━━━━━━━━━━━━━━━━━━━━\u001b[0m\u001b[37m\u001b[0m \u001b[1m6s\u001b[0m 3ms/step - accuracy: 0.8930 - loss: 0.2945 - val_accuracy: 0.8791 - val_loss: 0.3423\n",
            "Epoch 21/50\n",
            "\u001b[1m1594/1594\u001b[0m \u001b[32m━━━━━━━━━━━━━━━━━━━━\u001b[0m\u001b[37m\u001b[0m \u001b[1m4s\u001b[0m 3ms/step - accuracy: 0.8944 - loss: 0.2896 - val_accuracy: 0.8772 - val_loss: 0.3467\n",
            "Epoch 22/50\n",
            "\u001b[1m1594/1594\u001b[0m \u001b[32m━━━━━━━━━━━━━━━━━━━━\u001b[0m\u001b[37m\u001b[0m \u001b[1m6s\u001b[0m 3ms/step - accuracy: 0.8998 - loss: 0.2839 - val_accuracy: 0.8777 - val_loss: 0.3448\n",
            "Epoch 23/50\n",
            "\u001b[1m1594/1594\u001b[0m \u001b[32m━━━━━━━━━━━━━━━━━━━━\u001b[0m\u001b[37m\u001b[0m \u001b[1m4s\u001b[0m 3ms/step - accuracy: 0.8979 - loss: 0.2832 - val_accuracy: 0.8733 - val_loss: 0.3512\n",
            "Epoch 24/50\n",
            "\u001b[1m1594/1594\u001b[0m \u001b[32m━━━━━━━━━━━━━━━━━━━━\u001b[0m\u001b[37m\u001b[0m \u001b[1m5s\u001b[0m 3ms/step - accuracy: 0.9006 - loss: 0.2801 - val_accuracy: 0.8744 - val_loss: 0.3534\n",
            "Epoch 25/50\n",
            "\u001b[1m1594/1594\u001b[0m \u001b[32m━━━━━━━━━━━━━━━━━━━━\u001b[0m\u001b[37m\u001b[0m \u001b[1m5s\u001b[0m 3ms/step - accuracy: 0.9023 - loss: 0.2728 - val_accuracy: 0.8771 - val_loss: 0.3439\n",
            "Epoch 26/50\n",
            "\u001b[1m1594/1594\u001b[0m \u001b[32m━━━━━━━━━━━━━━━━━━━━\u001b[0m\u001b[37m\u001b[0m \u001b[1m4s\u001b[0m 3ms/step - accuracy: 0.8998 - loss: 0.2801 - val_accuracy: 0.8828 - val_loss: 0.3341\n",
            "Epoch 27/50\n",
            "\u001b[1m1594/1594\u001b[0m \u001b[32m━━━━━━━━━━━━━━━━━━━━\u001b[0m\u001b[37m\u001b[0m \u001b[1m5s\u001b[0m 2ms/step - accuracy: 0.9052 - loss: 0.2638 - val_accuracy: 0.8638 - val_loss: 0.3810\n",
            "Epoch 28/50\n",
            "\u001b[1m1594/1594\u001b[0m \u001b[32m━━━━━━━━━━━━━━━━━━━━\u001b[0m\u001b[37m\u001b[0m \u001b[1m5s\u001b[0m 3ms/step - accuracy: 0.9056 - loss: 0.2638 - val_accuracy: 0.8726 - val_loss: 0.3585\n",
            "Epoch 29/50\n",
            "\u001b[1m1594/1594\u001b[0m \u001b[32m━━━━━━━━━━━━━━━━━━━━\u001b[0m\u001b[37m\u001b[0m \u001b[1m4s\u001b[0m 3ms/step - accuracy: 0.9026 - loss: 0.2660 - val_accuracy: 0.8782 - val_loss: 0.3421\n",
            "Epoch 30/50\n",
            "\u001b[1m1594/1594\u001b[0m \u001b[32m━━━━━━━━━━━━━━━━━━━━\u001b[0m\u001b[37m\u001b[0m \u001b[1m5s\u001b[0m 3ms/step - accuracy: 0.9071 - loss: 0.2568 - val_accuracy: 0.8810 - val_loss: 0.3357\n",
            "Epoch 31/50\n",
            "\u001b[1m1594/1594\u001b[0m \u001b[32m━━━━━━━━━━━━━━━━━━━━\u001b[0m\u001b[37m\u001b[0m \u001b[1m4s\u001b[0m 3ms/step - accuracy: 0.9079 - loss: 0.2562 - val_accuracy: 0.8847 - val_loss: 0.3190\n",
            "Epoch 32/50\n",
            "\u001b[1m1594/1594\u001b[0m \u001b[32m━━━━━━━━━━━━━━━━━━━━\u001b[0m\u001b[37m\u001b[0m \u001b[1m4s\u001b[0m 3ms/step - accuracy: 0.9071 - loss: 0.2555 - val_accuracy: 0.8819 - val_loss: 0.3388\n",
            "Epoch 33/50\n",
            "\u001b[1m1594/1594\u001b[0m \u001b[32m━━━━━━━━━━━━━━━━━━━━\u001b[0m\u001b[37m\u001b[0m \u001b[1m6s\u001b[0m 3ms/step - accuracy: 0.9093 - loss: 0.2525 - val_accuracy: 0.8766 - val_loss: 0.3621\n",
            "Epoch 34/50\n",
            "\u001b[1m1594/1594\u001b[0m \u001b[32m━━━━━━━━━━━━━━━━━━━━\u001b[0m\u001b[37m\u001b[0m \u001b[1m4s\u001b[0m 3ms/step - accuracy: 0.9116 - loss: 0.2427 - val_accuracy: 0.8856 - val_loss: 0.3234\n",
            "Epoch 35/50\n",
            "\u001b[1m1594/1594\u001b[0m \u001b[32m━━━━━━━━━━━━━━━━━━━━\u001b[0m\u001b[37m\u001b[0m \u001b[1m4s\u001b[0m 3ms/step - accuracy: 0.9137 - loss: 0.2385 - val_accuracy: 0.8856 - val_loss: 0.3170\n",
            "Epoch 36/50\n",
            "\u001b[1m1594/1594\u001b[0m \u001b[32m━━━━━━━━━━━━━━━━━━━━\u001b[0m\u001b[37m\u001b[0m \u001b[1m6s\u001b[0m 3ms/step - accuracy: 0.9127 - loss: 0.2365 - val_accuracy: 0.8819 - val_loss: 0.3197\n",
            "Epoch 37/50\n",
            "\u001b[1m1594/1594\u001b[0m \u001b[32m━━━━━━━━━━━━━━━━━━━━\u001b[0m\u001b[37m\u001b[0m \u001b[1m4s\u001b[0m 3ms/step - accuracy: 0.9149 - loss: 0.2361 - val_accuracy: 0.8829 - val_loss: 0.3217\n",
            "Epoch 38/50\n",
            "\u001b[1m1594/1594\u001b[0m \u001b[32m━━━━━━━━━━━━━━━━━━━━\u001b[0m\u001b[37m\u001b[0m \u001b[1m5s\u001b[0m 3ms/step - accuracy: 0.9164 - loss: 0.2274 - val_accuracy: 0.8862 - val_loss: 0.3224\n",
            "Epoch 39/50\n",
            "\u001b[1m1594/1594\u001b[0m \u001b[32m━━━━━━━━━━━━━━━━━━━━\u001b[0m\u001b[37m\u001b[0m \u001b[1m4s\u001b[0m 3ms/step - accuracy: 0.9162 - loss: 0.2277 - val_accuracy: 0.8790 - val_loss: 0.3439\n",
            "Epoch 40/50\n",
            "\u001b[1m1594/1594\u001b[0m \u001b[32m━━━━━━━━━━━━━━━━━━━━\u001b[0m\u001b[37m\u001b[0m \u001b[1m4s\u001b[0m 3ms/step - accuracy: 0.9171 - loss: 0.2271 - val_accuracy: 0.8808 - val_loss: 0.3360\n",
            "Epoch 41/50\n",
            "\u001b[1m1594/1594\u001b[0m \u001b[32m━━━━━━━━━━━━━━━━━━━━\u001b[0m\u001b[37m\u001b[0m \u001b[1m5s\u001b[0m 3ms/step - accuracy: 0.9182 - loss: 0.2234 - val_accuracy: 0.8817 - val_loss: 0.3349\n",
            "Epoch 42/50\n",
            "\u001b[1m1594/1594\u001b[0m \u001b[32m━━━━━━━━━━━━━━━━━━━━\u001b[0m\u001b[37m\u001b[0m \u001b[1m4s\u001b[0m 3ms/step - accuracy: 0.9175 - loss: 0.2272 - val_accuracy: 0.8840 - val_loss: 0.3264\n",
            "Epoch 43/50\n",
            "\u001b[1m1594/1594\u001b[0m \u001b[32m━━━━━━━━━━━━━━━━━━━━\u001b[0m\u001b[37m\u001b[0m \u001b[1m5s\u001b[0m 3ms/step - accuracy: 0.9209 - loss: 0.2179 - val_accuracy: 0.8886 - val_loss: 0.3261\n",
            "Epoch 44/50\n",
            "\u001b[1m1594/1594\u001b[0m \u001b[32m━━━━━━━━━━━━━━━━━━━━\u001b[0m\u001b[37m\u001b[0m \u001b[1m5s\u001b[0m 3ms/step - accuracy: 0.9211 - loss: 0.2160 - val_accuracy: 0.8881 - val_loss: 0.3179\n",
            "Epoch 45/50\n",
            "\u001b[1m1594/1594\u001b[0m \u001b[32m━━━━━━━━━━━━━━━━━━━━\u001b[0m\u001b[37m\u001b[0m \u001b[1m4s\u001b[0m 3ms/step - accuracy: 0.9238 - loss: 0.2142 - val_accuracy: 0.8834 - val_loss: 0.3339\n",
            "Epoch 46/50\n",
            "\u001b[1m1594/1594\u001b[0m \u001b[32m━━━━━━━━━━━━━━━━━━━━\u001b[0m\u001b[37m\u001b[0m \u001b[1m6s\u001b[0m 3ms/step - accuracy: 0.9237 - loss: 0.2138 - val_accuracy: 0.8833 - val_loss: 0.3333\n",
            "Epoch 47/50\n",
            "\u001b[1m1594/1594\u001b[0m \u001b[32m━━━━━━━━━━━━━━━━━━━━\u001b[0m\u001b[37m\u001b[0m \u001b[1m4s\u001b[0m 3ms/step - accuracy: 0.9226 - loss: 0.2129 - val_accuracy: 0.8797 - val_loss: 0.3484\n",
            "Epoch 48/50\n",
            "\u001b[1m1594/1594\u001b[0m \u001b[32m━━━━━━━━━━━━━━━━━━━━\u001b[0m\u001b[37m\u001b[0m \u001b[1m5s\u001b[0m 3ms/step - accuracy: 0.9253 - loss: 0.2065 - val_accuracy: 0.8872 - val_loss: 0.3236\n",
            "Epoch 49/50\n",
            "\u001b[1m1594/1594\u001b[0m \u001b[32m━━━━━━━━━━━━━━━━━━━━\u001b[0m\u001b[37m\u001b[0m \u001b[1m5s\u001b[0m 3ms/step - accuracy: 0.9267 - loss: 0.2074 - val_accuracy: 0.8878 - val_loss: 0.3202\n",
            "Epoch 50/50\n",
            "\u001b[1m1594/1594\u001b[0m \u001b[32m━━━━━━━━━━━━━━━━━━━━\u001b[0m\u001b[37m\u001b[0m \u001b[1m4s\u001b[0m 3ms/step - accuracy: 0.9257 - loss: 0.2061 - val_accuracy: 0.8867 - val_loss: 0.3261\n"
          ]
        }
      ]
    },
    {
      "cell_type": "code",
      "source": [
        "history.params\n"
      ],
      "metadata": {
        "colab": {
          "base_uri": "https://localhost:8080/"
        },
        "id": "xQ1V8LqwI_7T",
        "outputId": "e2026a72-d518-493e-9621-1f72ca48934e"
      },
      "execution_count": 65,
      "outputs": [
        {
          "output_type": "execute_result",
          "data": {
            "text/plain": [
              "{'verbose': 'auto', 'epochs': 50, 'steps': 1594}"
            ]
          },
          "metadata": {},
          "execution_count": 65
        }
      ]
    },
    {
      "cell_type": "code",
      "source": [
        "history.history\n",
        "print(history.history)"
      ],
      "metadata": {
        "colab": {
          "base_uri": "https://localhost:8080/"
        },
        "id": "-0UoUEl3LeP0",
        "outputId": "9576b34c-0dff-4a00-cc39-0fee3d89ef11"
      },
      "execution_count": 64,
      "outputs": [
        {
          "output_type": "stream",
          "name": "stdout",
          "text": [
            "{'accuracy': [0.7369803786277771, 0.8232548832893372, 0.8388627171516418, 0.8478431105613708, 0.853509783744812, 0.8595098257064819, 0.8630980253219604, 0.8668627738952637, 0.8705294132232666, 0.8728039264678955, 0.8759607672691345, 0.8774313926696777, 0.881686270236969, 0.8826470375061035, 0.8844313621520996, 0.886980414390564, 0.888372540473938, 0.8900980353355408, 0.8913333415985107, 0.8927058577537537, 0.8939411640167236, 0.8963333368301392, 0.897882342338562, 0.8991372585296631, 0.9009804129600525, 0.9018627405166626, 0.9026078581809998, 0.9044705629348755, 0.9049804210662842, 0.9065490365028381, 0.9074313640594482, 0.9080588221549988, 0.9089019894599915, 0.9112744927406311, 0.9114902019500732, 0.911784291267395, 0.9141568541526794, 0.9144706130027771, 0.9159607887268066, 0.9169411659240723, 0.9170980453491211, 0.9184509515762329, 0.9193333387374878, 0.9198039174079895, 0.9210196137428284, 0.9219803810119629, 0.9228235483169556, 0.9233725666999817, 0.924098014831543, 0.9258235096931458], 'loss': [0.7885634303092957, 0.5106414556503296, 0.46374019980430603, 0.43513423204421997, 0.4163118600845337, 0.4017217457294464, 0.3878622353076935, 0.3758634626865387, 0.3662113547325134, 0.3579297959804535, 0.34858080744743347, 0.3411107063293457, 0.3344131112098694, 0.32662156224250793, 0.32133424282073975, 0.3160020411014557, 0.31120434403419495, 0.30596405267715454, 0.30039283633232117, 0.29658862948417664, 0.29203030467033386, 0.28804075717926025, 0.283339262008667, 0.27979162335395813, 0.2759387195110321, 0.27216994762420654, 0.2681864798069, 0.26439470052719116, 0.2619807720184326, 0.2586299777030945, 0.2550773024559021, 0.25217491388320923, 0.24972577393054962, 0.24556979537010193, 0.24408480525016785, 0.2407546490430832, 0.237407386302948, 0.23524755239486694, 0.23245182633399963, 0.2300678938627243, 0.2270469069480896, 0.22445014119148254, 0.2221115529537201, 0.21980038285255432, 0.21799401938915253, 0.21481280028820038, 0.2119406908750534, 0.21156767010688782, 0.20938007533550262, 0.20612850785255432], 'val_accuracy': [0.8105555772781372, 0.8186666369438171, 0.8388888835906982, 0.8455555438995361, 0.8514444231987, 0.8524444699287415, 0.8523333072662354, 0.8529999852180481, 0.8618888854980469, 0.8644444346427917, 0.8644444346427917, 0.8566666841506958, 0.8718888759613037, 0.8640000224113464, 0.8754444718360901, 0.8725555539131165, 0.8736666440963745, 0.8713333606719971, 0.8754444718360901, 0.879111111164093, 0.8772222399711609, 0.8776666522026062, 0.8733333349227905, 0.8744444251060486, 0.8771111369132996, 0.882777750492096, 0.863777756690979, 0.8725555539131165, 0.8782222270965576, 0.8809999823570251, 0.8846666812896729, 0.8818888664245605, 0.8765555620193481, 0.8855555653572083, 0.8855555653572083, 0.8818888664245605, 0.882888913154602, 0.886222243309021, 0.8790000081062317, 0.8807777762413025, 0.8816666603088379, 0.8840000033378601, 0.8885555267333984, 0.8881111145019531, 0.8834444284439087, 0.8833333253860474, 0.8796666860580444, 0.8872222304344177, 0.8877778053283691, 0.8866666555404663], 'val_loss': [0.5557940006256104, 0.5046334266662598, 0.45954248309135437, 0.43643468618392944, 0.4214245676994324, 0.418731153011322, 0.41033485531806946, 0.4207005202770233, 0.3903091847896576, 0.3795851171016693, 0.3799942433834076, 0.4021209180355072, 0.368800550699234, 0.3820776641368866, 0.3493690490722656, 0.36204689741134644, 0.3501139283180237, 0.35941171646118164, 0.3495290279388428, 0.34231171011924744, 0.3467140793800354, 0.34481146931648254, 0.35118746757507324, 0.35343509912490845, 0.34393903613090515, 0.3341383934020996, 0.38097167015075684, 0.3585219085216522, 0.34206774830818176, 0.33572685718536377, 0.3190002739429474, 0.33879393339157104, 0.36213019490242004, 0.32344990968704224, 0.31696587800979614, 0.31970617175102234, 0.3216595947742462, 0.32240068912506104, 0.34391048550605774, 0.33596062660217285, 0.33488526940345764, 0.3264088034629822, 0.32610127329826355, 0.31789255142211914, 0.3338627517223358, 0.3333280384540558, 0.3483893573284149, 0.3235659599304199, 0.3202260732650757, 0.32606595754623413]}\n"
          ]
        }
      ]
    },
    {
      "cell_type": "code",
      "source": [
        "fig, ax = plt.subplots(figsize=(12,5))\n",
        "ax.plot(history.history['loss'], label='train loss')\n",
        "ax.plot(history.history['accuracy'], label='train accuracy')\n",
        "ax.plot(history.history['val_loss'], label='validation loss')\n",
        "ax.plot(history.history['val_accuracy'], label='validation accuracy')\n",
        "ax.legend()\n"
      ],
      "metadata": {
        "colab": {
          "base_uri": "https://localhost:8080/",
          "height": 462
        },
        "id": "xi8BnCWRTo47",
        "outputId": "4fbc4f6e-263f-4e72-c900-ba6051fc2982"
      },
      "execution_count": 62,
      "outputs": [
        {
          "output_type": "execute_result",
          "data": {
            "text/plain": [
              "<matplotlib.legend.Legend at 0x7c8b35d3d910>"
            ]
          },
          "metadata": {},
          "execution_count": 62
        },
        {
          "output_type": "display_data",
          "data": {
            "text/plain": [
              "<Figure size 1200x500 with 1 Axes>"
            ],
            "image/png": "[encoded data removed]"
          },
          "metadata": {}
        }
      ]
    },
    {
      "cell_type": "code",
      "source": [
        "model.evaluate(x_test, y_test, verbose=1)"
      ],
      "metadata": {
        "colab": {
          "base_uri": "https://localhost:8080/"
        },
        "id": "2WnACgiifOVI",
        "outputId": "bfa02b5b-dc91-438f-e3a9-a8a5b12644c4"
      },
      "execution_count": 79,
      "outputs": [
        {
          "output_type": "stream",
          "name": "stdout",
          "text": [
            "\u001b[1m313/313\u001b[0m \u001b[32m━━━━━━━━━━━━━━━━━━━━\u001b[0m\u001b[37m\u001b[0m \u001b[1m1s\u001b[0m 2ms/step - accuracy: 0.8784 - loss: 0.3454\n"
          ]
        },
        {
          "output_type": "execute_result",
          "data": {
            "text/plain": [
              "[0.3477300703525543, 0.876800000667572]"
            ]
          },
          "metadata": {},
          "execution_count": 79
        }
      ]
    },
    {
      "cell_type": "code",
      "source": [
        "x_3 = x_test[1:3, :]\n",
        "x_3.shape"
      ],
      "metadata": {
        "colab": {
          "base_uri": "https://localhost:8080/"
        },
        "id": "mM7tsrKNf2R1",
        "outputId": "51586406-b258-45c8-a41a-97d2a6ca4a1a"
      },
      "execution_count": 67,
      "outputs": [
        {
          "output_type": "execute_result",
          "data": {
            "text/plain": [
              "(2, 28, 28)"
            ]
          },
          "metadata": {},
          "execution_count": 67
        }
      ]
    },
    {
      "cell_type": "code",
      "source": [
        "plt.imshow(x_3[0], cmap='gray')"
      ],
      "metadata": {
        "colab": {
          "base_uri": "https://localhost:8080/",
          "height": 447
        },
        "id": "C98Xim7bf2BP",
        "outputId": "a20996cd-b690-4760-d211-c39f41a0d65b"
      },
      "execution_count": 74,
      "outputs": [
        {
          "output_type": "execute_result",
          "data": {
            "text/plain": [
              "<matplotlib.image.AxesImage at 0x7c8b2e515210>"
            ]
          },
          "metadata": {},
          "execution_count": 74
        },
        {
          "output_type": "display_data",
          "data": {
            "text/plain": [
              "<Figure size 640x480 with 1 Axes>"
            ],
            "image/png": "[encoded data removed]"
          },
          "metadata": {}
        }
      ]
    },
    {
      "cell_type": "code",
      "source": [
        "model.predict(x_3).round(3)"
      ],
      "metadata": {
        "colab": {
          "base_uri": "https://localhost:8080/"
        },
        "id": "bSs6suAHhJlk",
        "outputId": "80a352a2-0c90-4e6d-c1e9-43c37cb6ee32"
      },
      "execution_count": 72,
      "outputs": [
        {
          "output_type": "stream",
          "name": "stdout",
          "text": [
            "\u001b[1m1/1\u001b[0m \u001b[32m━━━━━━━━━━━━━━━━━━━━\u001b[0m\u001b[37m\u001b[0m \u001b[1m0s\u001b[0m 57ms/step\n"
          ]
        },
        {
          "output_type": "execute_result",
          "data": {
            "text/plain": [
              "array([[0.   , 0.   , 0.999, 0.   , 0.001, 0.   , 0.   , 0.   , 0.   ,\n",
              "        0.   ],\n",
              "       [0.   , 1.   , 0.   , 0.   , 0.   , 0.   , 0.   , 0.   , 0.   ,\n",
              "        0.   ]], dtype=float32)"
            ]
          },
          "metadata": {},
          "execution_count": 72
        }
      ]
    },
    {
      "cell_type": "code",
      "source": [
        "model.predict(x_3).shape"
      ],
      "metadata": {
        "colab": {
          "base_uri": "https://localhost:8080/"
        },
        "id": "zGCA3RH_hKbD",
        "outputId": "24631cd4-c9b9-4b70-928b-20407869adfb"
      },
      "execution_count": 75,
      "outputs": [
        {
          "output_type": "stream",
          "name": "stdout",
          "text": [
            "\u001b[1m1/1\u001b[0m \u001b[32m━━━━━━━━━━━━━━━━━━━━\u001b[0m\u001b[37m\u001b[0m \u001b[1m0s\u001b[0m 37ms/step\n"
          ]
        },
        {
          "output_type": "execute_result",
          "data": {
            "text/plain": [
              "(2, 10)"
            ]
          },
          "metadata": {},
          "execution_count": 75
        }
      ]
    },
    {
      "cell_type": "code",
      "source": [
        "np.argmax(model.predict(x_3).round(3), axis=1)"
      ],
      "metadata": {
        "colab": {
          "base_uri": "https://localhost:8080/"
        },
        "id": "p78rUkbRhKzb",
        "outputId": "af136f05-c737-4b34-9fe4-6690404a7bcd"
      },
      "execution_count": 76,
      "outputs": [
        {
          "output_type": "stream",
          "name": "stdout",
          "text": [
            "\u001b[1m1/1\u001b[0m \u001b[32m━━━━━━━━━━━━━━━━━━━━\u001b[0m\u001b[37m\u001b[0m \u001b[1m0s\u001b[0m 36ms/step\n"
          ]
        },
        {
          "output_type": "execute_result",
          "data": {
            "text/plain": [
              "array([2, 1])"
            ]
          },
          "metadata": {},
          "execution_count": 76
        }
      ]
    },
    {
      "cell_type": "code",
      "source": [
        "y_test[1:3]"
      ],
      "metadata": {
        "colab": {
          "base_uri": "https://localhost:8080/"
        },
        "id": "WjEsbbbDieFb",
        "outputId": "3917239f-96f7-4861-cba4-81b014a6777b"
      },
      "execution_count": 77,
      "outputs": [
        {
          "output_type": "execute_result",
          "data": {
            "text/plain": [
              "array([2, 1], dtype=uint8)"
            ]
          },
          "metadata": {},
          "execution_count": 77
        }
      ]
    },
    {
      "cell_type": "code",
      "source": [
        "y_train_pred = model.predict(x_train)\n"
      ],
      "metadata": {
        "colab": {
          "base_uri": "https://localhost:8080/"
        },
        "id": "dyYrqKk0i7sJ",
        "outputId": "ff7b37df-8039-4362-d2aa-48dd80773705"
      },
      "execution_count": 86,
      "outputs": [
        {
          "output_type": "stream",
          "name": "stdout",
          "text": [
            "\u001b[1m1875/1875\u001b[0m \u001b[32m━━━━━━━━━━━━━━━━━━━━\u001b[0m\u001b[37m\u001b[0m \u001b[1m2s\u001b[0m 1ms/step\n"
          ]
        }
      ]
    },
    {
      "cell_type": "code",
      "source": [
        "y_test_pred = model.predict(x_test)"
      ],
      "metadata": {
        "id": "_dw-8X1Rj6Hg"
      },
      "execution_count": null,
      "outputs": []
    },
    {
      "cell_type": "code",
      "source": [
        "np.argmax(model.predict(x_test).round(3), axis=1)"
      ],
      "metadata": {
        "colab": {
          "base_uri": "https://localhost:8080/"
        },
        "id": "N8VJaZ7cl8PB",
        "outputId": "f2a653cb-e85c-4e71-c759-3ab46e2abcd9"
      },
      "execution_count": 87,
      "outputs": [
        {
          "output_type": "stream",
          "name": "stdout",
          "text": [
            "\u001b[1m313/313\u001b[0m \u001b[32m━━━━━━━━━━━━━━━━━━━━\u001b[0m\u001b[37m\u001b[0m \u001b[1m0s\u001b[0m 1ms/step\n"
          ]
        },
        {
          "output_type": "execute_result",
          "data": {
            "text/plain": [
              "array([9, 2, 1, ..., 8, 1, 5])"
            ]
          },
          "metadata": {},
          "execution_count": 87
        }
      ]
    }
  ]
}